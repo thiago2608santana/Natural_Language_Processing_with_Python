{
  "nbformat": 4,
  "nbformat_minor": 0,
  "metadata": {
    "colab": {
      "name": "NLP_Basics_Assessment.ipynb",
      "provenance": [],
      "collapsed_sections": [],
      "mount_file_id": "1tVBkWLTtXXONnMp68ScunMG2i2Bm9HXx",
      "authorship_tag": "ABX9TyPAubfbDSc4eGNTDxxrQaxi",
      "include_colab_link": true
    },
    "kernelspec": {
      "name": "python3",
      "display_name": "Python 3"
    },
    "language_info": {
      "name": "python"
    }
  },
  "cells": [
    {
      "cell_type": "markdown",
      "metadata": {
        "id": "view-in-github",
        "colab_type": "text"
      },
      "source": [
        "<a href=\"https://colab.research.google.com/github/thiago2608santana/Natural_Language_Processing_with_Python/blob/main/NLP_Basics_Assessment.ipynb\" target=\"_parent\"><img src=\"https://colab.research.google.com/assets/colab-badge.svg\" alt=\"Open In Colab\"/></a>"
      ]
    },
    {
      "cell_type": "markdown",
      "source": [
        "# NLP Basics Assessment"
      ],
      "metadata": {
        "id": "9mLaijDDWxY9"
      }
    },
    {
      "cell_type": "markdown",
      "source": [
        "For this assessment we'll be using the short story [_An Occurrence at Owl Creek Bridge_](https://en.wikipedia.org/wiki/An_Occurrence_at_Owl_Creek_Bridge) by Ambrose Bierce (1890). <br>The story is in the public domain; the text file was obtained from [Project Gutenberg](https://www.gutenberg.org/ebooks/375.txt.utf-8)."
      ],
      "metadata": {
        "id": "S1K7SUE8WydY"
      }
    },
    {
      "cell_type": "code",
      "execution_count": 1,
      "metadata": {
        "id": "UaChl0ggWswl"
      },
      "outputs": [],
      "source": [
        "import spacy"
      ]
    },
    {
      "cell_type": "code",
      "source": [
        "nlp = spacy.load('en_core_web_sm')"
      ],
      "metadata": {
        "id": "EuAFsgyRXBZp"
      },
      "execution_count": 2,
      "outputs": []
    },
    {
      "cell_type": "markdown",
      "source": [
        "**1. Create a Doc object from the file `owlcreek.txt`**<br>"
      ],
      "metadata": {
        "id": "PvGugbAnXFhC"
      }
    },
    {
      "cell_type": "code",
      "source": [
        "with open('/content/drive/MyDrive/NLP_with_Python_Datasets/owlcreek.txt') as f:\n",
        "  doc = nlp(f.read())"
      ],
      "metadata": {
        "id": "dbaK4k01XBvZ"
      },
      "execution_count": 30,
      "outputs": []
    },
    {
      "cell_type": "code",
      "source": [
        "doc[:36]"
      ],
      "metadata": {
        "colab": {
          "base_uri": "https://localhost:8080/"
        },
        "id": "HAxLXXPYXWfM",
        "outputId": "08342e83-f0c6-40bf-ebc0-2314cba1eed6"
      },
      "execution_count": 31,
      "outputs": [
        {
          "output_type": "execute_result",
          "data": {
            "text/plain": [
              "An Occurrence at Owl Creek Bridge\n",
              "\n",
              "by Ambrose Bierce\n",
              "\n",
              "THE MILLENNIUM FULCRUM EDITION, 1988\n",
              "\n",
              "\n",
              "\n",
              "\n",
              "I\n",
              "\n",
              "\n",
              "A man stood upon a railroad bridge in northern Alabama, looking down\n",
              "into the"
            ]
          },
          "metadata": {},
          "execution_count": 31
        }
      ]
    },
    {
      "cell_type": "markdown",
      "source": [
        "**2. How many tokens are contained in the file?**"
      ],
      "metadata": {
        "id": "4yHrqivYYvZ5"
      }
    },
    {
      "cell_type": "code",
      "source": [
        "len(doc)"
      ],
      "metadata": {
        "colab": {
          "base_uri": "https://localhost:8080/"
        },
        "id": "vSQL-ZC-YYEq",
        "outputId": "dd06e5dd-4e8d-478d-cc3e-b56395a023b5"
      },
      "execution_count": 32,
      "outputs": [
        {
          "output_type": "execute_result",
          "data": {
            "text/plain": [
              "8353"
            ]
          },
          "metadata": {},
          "execution_count": 32
        }
      ]
    },
    {
      "cell_type": "markdown",
      "source": [
        "**3. How many sentences are contained in the file?**<br>HINT: You'll want to build a list first!"
      ],
      "metadata": {
        "id": "zmon24C5ZHqd"
      }
    },
    {
      "cell_type": "code",
      "source": [
        "lista_sentencas = []\n",
        "for sentence in doc.sents:\n",
        "  lista_sentencas.append(sentence)"
      ],
      "metadata": {
        "id": "AHOhSbvfY8ej"
      },
      "execution_count": 33,
      "outputs": []
    },
    {
      "cell_type": "code",
      "source": [
        "len(lista_sentencas)"
      ],
      "metadata": {
        "colab": {
          "base_uri": "https://localhost:8080/"
        },
        "id": "5ioJKwocZMD0",
        "outputId": "47f08ea3-fff4-4da0-b52e-144047757099"
      },
      "execution_count": 34,
      "outputs": [
        {
          "output_type": "execute_result",
          "data": {
            "text/plain": [
              "315"
            ]
          },
          "metadata": {},
          "execution_count": 34
        }
      ]
    },
    {
      "cell_type": "markdown",
      "source": [
        "**4. Print the second sentence in the document**<br> HINT: Indexing starts at zero, and the title counts as the first sentence."
      ],
      "metadata": {
        "id": "k3g89SLoZedS"
      }
    },
    {
      "cell_type": "code",
      "source": [
        "lista_sentencas[0].text"
      ],
      "metadata": {
        "colab": {
          "base_uri": "https://localhost:8080/",
          "height": 53
        },
        "id": "nM87UhfgZZol",
        "outputId": "63ff7aaa-8c2f-4845-8c5c-58c63d96b2d8"
      },
      "execution_count": 35,
      "outputs": [
        {
          "output_type": "execute_result",
          "data": {
            "text/plain": [
              "'An Occurrence at Owl Creek Bridge\\n\\nby Ambrose Bierce\\n\\nTHE MILLENNIUM FULCRUM EDITION, 1988\\n\\n\\n\\n\\nI\\n\\n\\nA man stood upon a railroad bridge in northern Alabama, looking down\\ninto the swift water twenty feet below.'"
            ],
            "application/vnd.google.colaboratory.intrinsic+json": {
              "type": "string"
            }
          },
          "metadata": {},
          "execution_count": 35
        }
      ]
    },
    {
      "cell_type": "markdown",
      "source": [
        "** 5. For each token in the sentence above, print its `text`, `POS` tag, `dep` tag and `lemma`<br>\n",
        "CHALLENGE: Have values line up in columns in the print output.**"
      ],
      "metadata": {
        "id": "Uix0cLUtacH7"
      }
    },
    {
      "cell_type": "code",
      "source": [
        "for token in lista_sentencas[0]:\n",
        "  print(token.text, '\\t', token.pos_, '\\t', token.dep_, '\\t', token.lemma_)"
      ],
      "metadata": {
        "colab": {
          "base_uri": "https://localhost:8080/"
        },
        "id": "E35kp183Zh2n",
        "outputId": "78c9c0db-adec-4303-fc31-406d740c0022"
      },
      "execution_count": 19,
      "outputs": [
        {
          "output_type": "stream",
          "name": "stdout",
          "text": [
            "An \t DET \t det \t an\n",
            "Occurrence \t PROPN \t nsubj \t Occurrence\n",
            "at \t ADP \t prep \t at\n",
            "Owl \t PROPN \t compound \t Owl\n",
            "Creek \t PROPN \t compound \t Creek\n",
            "Bridge \t PROPN \t pobj \t Bridge\n",
            "\n",
            "\n",
            " \t SPACE \t dep \t \n",
            "\n",
            "\n",
            "by \t ADP \t prep \t by\n",
            "Ambrose \t PROPN \t compound \t Ambrose\n",
            "Bierce \t PROPN \t pobj \t Bierce\n",
            "\n",
            "\n",
            " \t SPACE \t dep \t \n",
            "\n",
            "\n",
            "THE \t DET \t det \t the\n",
            "MILLENNIUM \t PROPN \t compound \t MILLENNIUM\n",
            "FULCRUM \t PROPN \t compound \t FULCRUM\n",
            "EDITION \t PROPN \t appos \t EDITION\n",
            ", \t PUNCT \t punct \t ,\n",
            "1988 \t NUM \t appos \t 1988\n",
            "\n",
            "\n",
            "\n",
            "\n",
            "\n",
            " \t SPACE \t dep \t \n",
            "\n",
            "\n",
            "\n",
            "\n",
            "\n",
            "I \t PRON \t nsubj \t I\n",
            "\n",
            "\n",
            "\n",
            " \t SPACE \t dep \t \n",
            "\n",
            "\n",
            "\n",
            "A \t DET \t det \t a\n",
            "man \t NOUN \t appos \t man\n",
            "stood \t VERB \t ROOT \t stand\n",
            "upon \t SCONJ \t prep \t upon\n",
            "a \t DET \t det \t a\n",
            "railroad \t NOUN \t compound \t railroad\n",
            "bridge \t NOUN \t pobj \t bridge\n",
            "in \t ADP \t prep \t in\n",
            "northern \t ADJ \t amod \t northern\n",
            "Alabama \t PROPN \t pobj \t Alabama\n",
            ", \t PUNCT \t punct \t ,\n",
            "looking \t VERB \t advcl \t look\n",
            "down \t ADP \t advmod \t down\n",
            "\n",
            " \t SPACE \t dep \t \n",
            "\n",
            "into \t ADP \t prep \t into\n",
            "the \t DET \t det \t the\n",
            "swift \t ADJ \t amod \t swift\n",
            "water \t NOUN \t pobj \t water\n",
            "twenty \t NUM \t nummod \t twenty\n",
            "feet \t NOUN \t npadvmod \t foot\n",
            "below \t ADV \t advmod \t below\n",
            ". \t PUNCT \t punct \t .\n"
          ]
        }
      ]
    },
    {
      "cell_type": "markdown",
      "source": [
        "**6. Write a matcher called 'Swimming' that finds both occurrences of the phrase \"swimming vigorously\" in the text**<br>\n",
        "HINT: You should include an `'IS_SPACE': True` pattern between the two words!"
      ],
      "metadata": {
        "id": "lasSAaq6bepU"
      }
    },
    {
      "cell_type": "code",
      "source": [
        "from spacy.matcher import Matcher"
      ],
      "metadata": {
        "id": "C_xATMuYah91"
      },
      "execution_count": 20,
      "outputs": []
    },
    {
      "cell_type": "code",
      "source": [
        "matcher = Matcher(nlp.vocab)"
      ],
      "metadata": {
        "id": "S4pkM95pbnf_"
      },
      "execution_count": 36,
      "outputs": []
    },
    {
      "cell_type": "code",
      "source": [
        "pattern1 = [{'LOWER':'swimming'}, {'IS_SPACE':True, 'OP':'*'}, {'LOWER':'vigorously'}]"
      ],
      "metadata": {
        "id": "ho_zdWWjbntm"
      },
      "execution_count": 37,
      "outputs": []
    },
    {
      "cell_type": "code",
      "source": [
        "matcher.add('Swimming', [pattern1])"
      ],
      "metadata": {
        "id": "4ZpcTvxIcUMt"
      },
      "execution_count": 38,
      "outputs": []
    },
    {
      "cell_type": "code",
      "source": [
        "found_matches = matcher(doc)"
      ],
      "metadata": {
        "id": "h14Jv-XjcaHH"
      },
      "execution_count": 39,
      "outputs": []
    },
    {
      "cell_type": "code",
      "source": [
        "found_matches"
      ],
      "metadata": {
        "colab": {
          "base_uri": "https://localhost:8080/"
        },
        "id": "O4-6ck9GcoMV",
        "outputId": "018b4e3d-127a-4fe1-8631-454d479fb306"
      },
      "execution_count": 40,
      "outputs": [
        {
          "output_type": "execute_result",
          "data": {
            "text/plain": [
              "[(12881893835109366681, 1242, 1245), (12881893835109366681, 3500, 3503)]"
            ]
          },
          "metadata": {},
          "execution_count": 40
        }
      ]
    },
    {
      "cell_type": "code",
      "source": [
        "def surrounding(doc, start, end):\n",
        "  print(doc[start-5:end+5])"
      ],
      "metadata": {
        "id": "piVMbv-Wdboc"
      },
      "execution_count": 41,
      "outputs": []
    },
    {
      "cell_type": "code",
      "source": [
        "surrounding(doc, 1242, 1245)"
      ],
      "metadata": {
        "colab": {
          "base_uri": "https://localhost:8080/"
        },
        "id": "Ugp3g0HzdidS",
        "outputId": "eb7bfaba-72b7-456c-d259-b001469fde72"
      },
      "execution_count": 42,
      "outputs": [
        {
          "output_type": "stream",
          "name": "stdout",
          "text": [
            "evade the bullets and, swimming\n",
            "vigorously, reach the bank,\n"
          ]
        }
      ]
    },
    {
      "cell_type": "code",
      "source": [
        "surrounding(doc, 3500, 3503)"
      ],
      "metadata": {
        "colab": {
          "base_uri": "https://localhost:8080/"
        },
        "id": "5f4YRX_og3tW",
        "outputId": "6047ea2a-4480-4b4c-f15d-150528cb36bd"
      },
      "execution_count": 43,
      "outputs": [
        {
          "output_type": "stream",
          "name": "stdout",
          "text": [
            "shoulder; he was now swimming\n",
            "vigorously with the current. His\n"
          ]
        }
      ]
    },
    {
      "cell_type": "markdown",
      "source": [
        "# Extra credit\n",
        "**Print the sentence that contains each found match**"
      ],
      "metadata": {
        "id": "HtWcwgU5hNBp"
      }
    },
    {
      "cell_type": "code",
      "source": [
        "for sentence in lista_sentencas:\n",
        "  if found_matches[0][1] < sentence.end:\n",
        "    print(sentence)\n",
        "    break"
      ],
      "metadata": {
        "colab": {
          "base_uri": "https://localhost:8080/"
        },
        "id": "JffVf_Teg8MP",
        "outputId": "05b24da6-1bfb-40d7-e4e8-7a868fe73793"
      },
      "execution_count": 45,
      "outputs": [
        {
          "output_type": "stream",
          "name": "stdout",
          "text": [
            "By diving I could evade the bullets and, swimming\n",
            "vigorously, reach the bank, take to the woods and get away home.\n"
          ]
        }
      ]
    },
    {
      "cell_type": "code",
      "source": [
        "for sentence in lista_sentencas:\n",
        "  if found_matches[1][1] < sentence.end:\n",
        "    print(sentence)\n",
        "    break"
      ],
      "metadata": {
        "colab": {
          "base_uri": "https://localhost:8080/"
        },
        "id": "Whxwnet8kM--",
        "outputId": "c905339e-67b2-4cf7-d63f-33464588d48c"
      },
      "execution_count": 49,
      "outputs": [
        {
          "output_type": "stream",
          "name": "stdout",
          "text": [
            "The hunted man saw all this over his shoulder; he was now swimming\n",
            "vigorously with the current.\n"
          ]
        }
      ]
    },
    {
      "cell_type": "code",
      "source": [
        ""
      ],
      "metadata": {
        "id": "DHzlgEdpkRyj"
      },
      "execution_count": null,
      "outputs": []
    }
  ]
}