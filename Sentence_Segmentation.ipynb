{
  "nbformat": 4,
  "nbformat_minor": 0,
  "metadata": {
    "colab": {
      "name": "Sentence_Segmentation.ipynb",
      "provenance": [],
      "collapsed_sections": [],
      "authorship_tag": "ABX9TyNQ2VyB+nYz5yPCgbhhLJTH",
      "include_colab_link": true
    },
    "kernelspec": {
      "name": "python3",
      "display_name": "Python 3"
    },
    "language_info": {
      "name": "python"
    }
  },
  "cells": [
    {
      "cell_type": "markdown",
      "metadata": {
        "id": "view-in-github",
        "colab_type": "text"
      },
      "source": [
        "<a href=\"https://colab.research.google.com/github/thiago2608santana/Natural_Language_Processing_with_Python/blob/main/Sentence_Segmentation.ipynb\" target=\"_parent\"><img src=\"https://colab.research.google.com/assets/colab-badge.svg\" alt=\"Open In Colab\"/></a>"
      ]
    },
    {
      "cell_type": "code",
      "execution_count": 2,
      "metadata": {
        "id": "wB0k1Q7tbbkB"
      },
      "outputs": [],
      "source": [
        "import spacy"
      ]
    },
    {
      "cell_type": "code",
      "source": [
        "from spacy import Language"
      ],
      "metadata": {
        "id": "rAUu-zMafwda"
      },
      "execution_count": 15,
      "outputs": []
    },
    {
      "cell_type": "code",
      "source": [
        "nlp = spacy.load('en_core_web_sm')"
      ],
      "metadata": {
        "id": "H_-TCg2QbdAz"
      },
      "execution_count": 3,
      "outputs": []
    },
    {
      "cell_type": "code",
      "source": [
        "doc = nlp('This is the first sentence. This is another sentence. This is the last sentence.')"
      ],
      "metadata": {
        "id": "cAW3_1J7bctu"
      },
      "execution_count": 4,
      "outputs": []
    },
    {
      "cell_type": "code",
      "source": [
        "for sent in doc.sents:\n",
        "  print(sent)"
      ],
      "metadata": {
        "colab": {
          "base_uri": "https://localhost:8080/"
        },
        "id": "EZDx3tCSboBD",
        "outputId": "bf0e3dd8-5cc8-49e9-d6d2-53c9ff30fb3a"
      },
      "execution_count": 5,
      "outputs": [
        {
          "output_type": "stream",
          "name": "stdout",
          "text": [
            "This is the first sentence.\n",
            "This is another sentence.\n",
            "This is the last sentence.\n"
          ]
        }
      ]
    },
    {
      "cell_type": "code",
      "source": [
        "doc2 = nlp('\"Management is doing the right things; leadership is doing the right things.\" - Peter Drucker')"
      ],
      "metadata": {
        "id": "MLQhyXQnbsBl"
      },
      "execution_count": 6,
      "outputs": []
    },
    {
      "cell_type": "code",
      "source": [
        "doc2.text"
      ],
      "metadata": {
        "colab": {
          "base_uri": "https://localhost:8080/",
          "height": 36
        },
        "id": "ii1JYHjQdCLt",
        "outputId": "a56116ad-0643-4e63-dc60-d6862cb595c4"
      },
      "execution_count": 8,
      "outputs": [
        {
          "output_type": "execute_result",
          "data": {
            "text/plain": [
              "'\"Management is doing the right things; leadership is doing the right things.\" - Peter Drucker'"
            ],
            "application/vnd.google.colaboratory.intrinsic+json": {
              "type": "string"
            }
          },
          "metadata": {},
          "execution_count": 8
        }
      ]
    },
    {
      "cell_type": "code",
      "source": [
        "for sent in doc2.sents:\n",
        "  print(sent.text)\n",
        "  print('\\n')"
      ],
      "metadata": {
        "colab": {
          "base_uri": "https://localhost:8080/"
        },
        "id": "ntoqDA92dERt",
        "outputId": "d2b27e27-bbfb-46e4-b3ff-46f63cb540d4"
      },
      "execution_count": 9,
      "outputs": [
        {
          "output_type": "stream",
          "name": "stdout",
          "text": [
            "\"Management is doing the right things; leadership is doing the right things.\"\n",
            "\n",
            "\n",
            "- Peter Drucker\n",
            "\n",
            "\n"
          ]
        }
      ]
    },
    {
      "cell_type": "markdown",
      "source": [
        "**Add a segmentation rule**"
      ],
      "metadata": {
        "id": "Nu0kvzWCdUrY"
      }
    },
    {
      "cell_type": "code",
      "source": [
        "@Language.component('boundaries')\n",
        "def set_custom_boundaries(doc):\n",
        "  for token in doc[:-1]:\n",
        "    if token.text == ';':\n",
        "      doc[token.i + 1].is_sent_start = True\n",
        "    \n",
        "  return doc"
      ],
      "metadata": {
        "id": "ODXeBC8tdO5F"
      },
      "execution_count": 16,
      "outputs": []
    },
    {
      "cell_type": "markdown",
      "source": [
        "**Change segmentation rules**"
      ],
      "metadata": {
        "id": "8mqcwIEIdXkw"
      }
    },
    {
      "cell_type": "code",
      "source": [
        "nlp.add_pipe('boundaries', before='parser')"
      ],
      "metadata": {
        "colab": {
          "base_uri": "https://localhost:8080/"
        },
        "id": "rvZSfYk9ddxc",
        "outputId": "53fb4d54-539e-4577-ab91-595751648b71"
      },
      "execution_count": 17,
      "outputs": [
        {
          "output_type": "execute_result",
          "data": {
            "text/plain": [
              "<function __main__.set_custom_boundaries(doc)>"
            ]
          },
          "metadata": {},
          "execution_count": 17
        }
      ]
    },
    {
      "cell_type": "code",
      "source": [
        "nlp.pipe_names"
      ],
      "metadata": {
        "colab": {
          "base_uri": "https://localhost:8080/"
        },
        "id": "CFRMDF_ZerOG",
        "outputId": "8f2989fc-04c8-40e4-8bbe-75bdafca6606"
      },
      "execution_count": 18,
      "outputs": [
        {
          "output_type": "execute_result",
          "data": {
            "text/plain": [
              "['tok2vec',\n",
              " 'tagger',\n",
              " 'boundaries',\n",
              " 'parser',\n",
              " 'attribute_ruler',\n",
              " 'lemmatizer',\n",
              " 'ner']"
            ]
          },
          "metadata": {},
          "execution_count": 18
        }
      ]
    },
    {
      "cell_type": "code",
      "source": [
        "doc3 = nlp('\"Management is doing the right things; leadership is doing the right things.\" - Peter Drucker')"
      ],
      "metadata": {
        "id": "tTxgZvfIgY5J"
      },
      "execution_count": 20,
      "outputs": []
    },
    {
      "cell_type": "code",
      "source": [
        "for sent in doc3.sents:\n",
        "  print(sent.text)\n",
        "  print('\\n')"
      ],
      "metadata": {
        "colab": {
          "base_uri": "https://localhost:8080/"
        },
        "id": "U8sug3P_f5Vx",
        "outputId": "32badabe-8bdd-4021-b7d8-33fabfc839c3"
      },
      "execution_count": 21,
      "outputs": [
        {
          "output_type": "stream",
          "name": "stdout",
          "text": [
            "\"Management is doing the right things;\n",
            "\n",
            "\n",
            "leadership is doing the right things.\"\n",
            "\n",
            "\n",
            "- Peter Drucker\n",
            "\n",
            "\n"
          ]
        }
      ]
    },
    {
      "cell_type": "code",
      "source": [
        ""
      ],
      "metadata": {
        "id": "eDIlapCKgH49"
      },
      "execution_count": null,
      "outputs": []
    }
  ]
}