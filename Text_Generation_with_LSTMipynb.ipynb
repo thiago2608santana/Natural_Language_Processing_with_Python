{
  "nbformat": 4,
  "nbformat_minor": 0,
  "metadata": {
    "colab": {
      "provenance": [],
      "collapsed_sections": [],
      "mount_file_id": "1tkLRk1Fsl3ow8_2mzfsD20vVCtB6Bcis",
      "authorship_tag": "ABX9TyPkKcyB08plLhsFegdXnRAZ",
      "include_colab_link": true
    },
    "kernelspec": {
      "name": "python3",
      "display_name": "Python 3"
    },
    "language_info": {
      "name": "python"
    },
    "accelerator": "GPU",
    "gpuClass": "standard"
  },
  "cells": [
    {
      "cell_type": "markdown",
      "metadata": {
        "id": "view-in-github",
        "colab_type": "text"
      },
      "source": [
        "<a href=\"https://colab.research.google.com/github/thiago2608santana/Natural_Language_Processing_with_Python/blob/main/Text_Generation_with_LSTMipynb.ipynb\" target=\"_parent\"><img src=\"https://colab.research.google.com/assets/colab-badge.svg\" alt=\"Open In Colab\"/></a>"
      ]
    },
    {
      "cell_type": "markdown",
      "source": [
        "# Método auxiliar"
      ],
      "metadata": {
        "id": "7wfon4MVp8He"
      }
    },
    {
      "cell_type": "code",
      "execution_count": 2,
      "metadata": {
        "id": "Pxjp5ExElSVW"
      },
      "outputs": [],
      "source": [
        "def read_file(filepath):\n",
        "  with open(filepath) as f:\n",
        "    str_text = f.read()\n",
        "\n",
        "  return str_text"
      ]
    },
    {
      "cell_type": "code",
      "source": [
        "def separate_punc(doc_text):\n",
        "  return [token.text.lower() for token in nlp(doc_text) if token.text not in '\\n\\n \\n\\n\\n!\"-#$%&()--.*+,-/:;<=>?@[\\\\]^_`{|}~\\t\\n ']"
      ],
      "metadata": {
        "id": "0IewfQxGsGTz"
      },
      "execution_count": 3,
      "outputs": []
    },
    {
      "cell_type": "markdown",
      "source": [
        "**Apenas os quatro primeiros capítulos do livro Moby-Dick**"
      ],
      "metadata": {
        "id": "MeER139PrNYJ"
      }
    },
    {
      "cell_type": "code",
      "source": [
        "#read_file('/content/drive/MyDrive/NLP_with_Python_Datasets/moby_dick_four_chapters.txt')"
      ],
      "metadata": {
        "id": "GntiLZnZpvTg"
      },
      "execution_count": 4,
      "outputs": []
    },
    {
      "cell_type": "markdown",
      "source": [
        "**Livro completo Moby-Dick**"
      ],
      "metadata": {
        "id": "Ym6CHcCbrIYp"
      }
    },
    {
      "cell_type": "code",
      "source": [
        "#read_file('/content/drive/MyDrive/NLP_with_Python_Datasets/melville-moby_dick.txt')"
      ],
      "metadata": {
        "id": "S5PwsTRXrGjj"
      },
      "execution_count": 5,
      "outputs": []
    },
    {
      "cell_type": "markdown",
      "source": [
        "# Importação de bibliotecas"
      ],
      "metadata": {
        "id": "7OByA5NGqbPU"
      }
    },
    {
      "cell_type": "code",
      "source": [
        "import spacy\n",
        "import numpy as np\n",
        "import random\n",
        "from keras.preprocessing.text import Tokenizer\n",
        "import tensorflow.keras as k\n",
        "from tensorflow import device\n",
        "from keras.models import Sequential\n",
        "from keras.layers import Dense, LSTM, Embedding\n",
        "from keras.preprocessing.sequence import pad_sequences\n",
        "from pickle import dump, load"
      ],
      "metadata": {
        "id": "7lCuBuZeqKYg"
      },
      "execution_count": 6,
      "outputs": []
    },
    {
      "cell_type": "markdown",
      "source": [
        "# Código principal"
      ],
      "metadata": {
        "id": "wxkL1v8Qvq49"
      }
    },
    {
      "cell_type": "code",
      "source": [
        "nlp = spacy.load('en_core_web_sm', disable=['parser', 'tagger', 'ner'])"
      ],
      "metadata": {
        "id": "HEokIQCYqedG"
      },
      "execution_count": 7,
      "outputs": []
    },
    {
      "cell_type": "markdown",
      "source": [
        "**Aumentar a quantidade de palavras máximas para trabalhar com textos grandes**"
      ],
      "metadata": {
        "id": "3oMIxmsRrdF-"
      }
    },
    {
      "cell_type": "code",
      "source": [
        "nlp.max_length = 1198623"
      ],
      "metadata": {
        "id": "cBq8EYfdqmDQ"
      },
      "execution_count": 8,
      "outputs": []
    },
    {
      "cell_type": "code",
      "source": [
        "#d = read_file('/content/drive/MyDrive/NLP_with_Python_Datasets/moby_dick_four_chapters.txt')\n",
        "d = read_file('/content/drive/MyDrive/NLP_with_Python_Datasets/melville-moby_dick.txt')"
      ],
      "metadata": {
        "id": "73kFP4DRrcOe"
      },
      "execution_count": 9,
      "outputs": []
    },
    {
      "cell_type": "code",
      "source": [
        "#from google.colab import drive\n",
        "#drive.mount('/content/drive')"
      ],
      "metadata": {
        "id": "pvWsf3VVIIyi"
      },
      "execution_count": 10,
      "outputs": []
    },
    {
      "cell_type": "code",
      "source": [
        "tokens = separate_punc(d)"
      ],
      "metadata": {
        "colab": {
          "base_uri": "https://localhost:8080/"
        },
        "id": "bgn8U6EBtKIX",
        "outputId": "2b980bab-2b76-48b3-dc0b-8b8ac01450c7"
      },
      "execution_count": 11,
      "outputs": [
        {
          "output_type": "stream",
          "name": "stderr",
          "text": [
            "/usr/local/lib/python3.7/dist-packages/spacy/pipeline/lemmatizer.py:211: UserWarning: [W108] The rule-based lemmatizer did not find POS annotation for one or more tokens. Check that your pipeline includes components that assign token.pos, typically 'tagger'+'attribute_ruler' or 'morphologizer'.\n",
            "  warnings.warn(Warnings.W108)\n"
          ]
        }
      ]
    },
    {
      "cell_type": "code",
      "source": [
        "len(tokens)"
      ],
      "metadata": {
        "colab": {
          "base_uri": "https://localhost:8080/"
        },
        "id": "tQq55yy5tqxI",
        "outputId": "4cd7daad-6f08-4ff5-8dea-9394fab832d2"
      },
      "execution_count": 12,
      "outputs": [
        {
          "output_type": "execute_result",
          "data": {
            "text/plain": [
              "214708"
            ]
          },
          "metadata": {},
          "execution_count": 12
        }
      ]
    },
    {
      "cell_type": "markdown",
      "source": [
        "**Using #25 words --> network predict #26**"
      ],
      "metadata": {
        "id": "P_ZiQKIyt29i"
      }
    },
    {
      "cell_type": "code",
      "source": [
        "train_len = 25 + 1\n",
        "\n",
        "text_sequences = []\n",
        "\n",
        "for i in range(train_len, len(tokens)):\n",
        "  seq = tokens[i-train_len:i]\n",
        "  text_sequences.append(seq)"
      ],
      "metadata": {
        "id": "IAwl6_3Ctrsv"
      },
      "execution_count": 13,
      "outputs": []
    },
    {
      "cell_type": "code",
      "source": [
        "' '.join(text_sequences[0])"
      ],
      "metadata": {
        "colab": {
          "base_uri": "https://localhost:8080/",
          "height": 36
        },
        "id": "cMUv6aR_us6B",
        "outputId": "47f32038-1df4-4de3-abde-4665799af524"
      },
      "execution_count": 14,
      "outputs": [
        {
          "output_type": "execute_result",
          "data": {
            "text/plain": [
              "'chapter 1 loomings call me ishmael some years ago never mind how long precisely having little or no money in my purse and nothing particular to'"
            ],
            "application/vnd.google.colaboratory.intrinsic+json": {
              "type": "string"
            }
          },
          "metadata": {},
          "execution_count": 14
        }
      ]
    },
    {
      "cell_type": "code",
      "source": [
        "' '.join(text_sequences[1])"
      ],
      "metadata": {
        "colab": {
          "base_uri": "https://localhost:8080/",
          "height": 36
        },
        "id": "lgeFZW74u6YP",
        "outputId": "9f46f14a-759f-4ea7-8263-bf6d4a29ebc9"
      },
      "execution_count": 15,
      "outputs": [
        {
          "output_type": "execute_result",
          "data": {
            "text/plain": [
              "'1 loomings call me ishmael some years ago never mind how long precisely having little or no money in my purse and nothing particular to interest'"
            ],
            "application/vnd.google.colaboratory.intrinsic+json": {
              "type": "string"
            }
          },
          "metadata": {},
          "execution_count": 15
        }
      ]
    },
    {
      "cell_type": "markdown",
      "source": [
        "# Transformar as sequencias de textos em sequencias de números (tokenizer)"
      ],
      "metadata": {
        "id": "0p35YFZUwqiF"
      }
    },
    {
      "cell_type": "code",
      "source": [
        "tokenizer = Tokenizer()"
      ],
      "metadata": {
        "id": "VFjewsmMvTWA"
      },
      "execution_count": 16,
      "outputs": []
    },
    {
      "cell_type": "code",
      "source": [
        "tokenizer.fit_on_texts(text_sequences)"
      ],
      "metadata": {
        "id": "teSrvNTTv1R-"
      },
      "execution_count": 17,
      "outputs": []
    },
    {
      "cell_type": "code",
      "source": [
        "sequences = tokenizer.texts_to_sequences(text_sequences)"
      ],
      "metadata": {
        "id": "eV_dsNX3wGPu"
      },
      "execution_count": 18,
      "outputs": []
    },
    {
      "cell_type": "code",
      "source": [
        "sequences[0]"
      ],
      "metadata": {
        "colab": {
          "base_uri": "https://localhost:8080/"
        },
        "id": "WACFfZ2CwWbm",
        "outputId": "4c4aefd0-a8d5-412e-e9d7-ce8e7763105f"
      },
      "execution_count": 19,
      "outputs": [
        {
          "output_type": "execute_result",
          "data": {
            "text/plain": [
              "[158,\n",
              " 9443,\n",
              " 17526,\n",
              " 402,\n",
              " 42,\n",
              " 1043,\n",
              " 43,\n",
              " 247,\n",
              " 659,\n",
              " 140,\n",
              " 296,\n",
              " 116,\n",
              " 82,\n",
              " 787,\n",
              " 347,\n",
              " 113,\n",
              " 36,\n",
              " 50,\n",
              " 1788,\n",
              " 6,\n",
              " 49,\n",
              " 3028,\n",
              " 3,\n",
              " 218,\n",
              " 442,\n",
              " 5]"
            ]
          },
          "metadata": {},
          "execution_count": 19
        }
      ]
    },
    {
      "cell_type": "markdown",
      "source": [
        "**Dicionário contendo o número correspondente a cada palavra**"
      ],
      "metadata": {
        "id": "ytP2cAimw83u"
      }
    },
    {
      "cell_type": "code",
      "source": [
        "for i in sequences[0]:\n",
        "  print(f'{i} : {tokenizer.index_word[i]}')\n",
        "#tokenizer.index_word"
      ],
      "metadata": {
        "colab": {
          "base_uri": "https://localhost:8080/"
        },
        "id": "C9mqvWs_wXyO",
        "outputId": "98aa7887-7a9a-4636-be67-4780c419b510"
      },
      "execution_count": 20,
      "outputs": [
        {
          "output_type": "stream",
          "name": "stdout",
          "text": [
            "158 : chapter\n",
            "9443 : 1\n",
            "17526 : loomings\n",
            "402 : call\n",
            "42 : me\n",
            "1043 : ishmael\n",
            "43 : some\n",
            "247 : years\n",
            "659 : ago\n",
            "140 : never\n",
            "296 : mind\n",
            "116 : how\n",
            "82 : long\n",
            "787 : precisely\n",
            "347 : having\n",
            "113 : little\n",
            "36 : or\n",
            "50 : no\n",
            "1788 : money\n",
            "6 : in\n",
            "49 : my\n",
            "3028 : purse\n",
            "3 : and\n",
            "218 : nothing\n",
            "442 : particular\n",
            "5 : to\n"
          ]
        }
      ]
    },
    {
      "cell_type": "markdown",
      "source": [
        "**Exibir a quantidade de vezes que cada palavra apareceu no texto**"
      ],
      "metadata": {
        "id": "5b7q0qiLxvEa"
      }
    },
    {
      "cell_type": "code",
      "source": [
        "tokenizer.word_counts"
      ],
      "metadata": {
        "colab": {
          "base_uri": "https://localhost:8080/"
        },
        "id": "uCBw3QkRwi5X",
        "outputId": "3eda6ddb-99a8-4243-8fb1-136b58998c7a"
      },
      "execution_count": 21,
      "outputs": [
        {
          "output_type": "execute_result",
          "data": {
            "text/plain": [
              "OrderedDict([('chapter', 4447),\n",
              "             ('1', 28),\n",
              "             ('loomings', 3),\n",
              "             ('call', 1382),\n",
              "             ('me', 16095),\n",
              "             ('ishmael', 500),\n",
              "             ('some', 15789),\n",
              "             ('years', 2400),\n",
              "             ('ago', 815),\n",
              "             ('never', 5262),\n",
              "             ('mind', 2039),\n",
              "             ('how', 6330),\n",
              "             ('long', 8567),\n",
              "             ('precisely', 690),\n",
              "             ('having', 1679),\n",
              "             ('little', 6412),\n",
              "             ('or', 17879),\n",
              "             ('no', 14916),\n",
              "             ('money', 305),\n",
              "             ('in', 105799),\n",
              "             ('my', 15231),\n",
              "             ('purse', 178),\n",
              "             ('and', 164029),\n",
              "             ('nothing', 2936),\n",
              "             ('particular', 1273),\n",
              "             ('to', 117832),\n",
              "             ('interest', 442),\n",
              "             ('on', 26910),\n",
              "             ('shore', 572),\n",
              "             ('i', 53430),\n",
              "             ('thought', 3874),\n",
              "             ('would', 11232),\n",
              "             ('sail', 2522),\n",
              "             ('about', 7982),\n",
              "             ('a', 119756),\n",
              "             ('see', 6734),\n",
              "             ('the', 367474),\n",
              "             ('watery', 650),\n",
              "             ('part', 3874),\n",
              "             ('of', 168116),\n",
              "             ('world', 4420),\n",
              "             ('it', 64056),\n",
              "             ('is', 43758),\n",
              "             ('way', 6942),\n",
              "             ('have', 19604),\n",
              "             ('driving', 234),\n",
              "             ('off', 5642),\n",
              "             ('spleen', 26),\n",
              "             ('regulating', 26),\n",
              "             ('circulation', 26),\n",
              "             ('whenever', 390),\n",
              "             ('find', 1404),\n",
              "             ('myself', 1716),\n",
              "             ('growing', 234),\n",
              "             ('grim', 286),\n",
              "             ('mouth', 1456),\n",
              "             ('damp', 234),\n",
              "             ('drizzly', 26),\n",
              "             ('november', 52),\n",
              "             ('soul', 2132),\n",
              "             ('involuntarily', 312),\n",
              "             ('pausing', 260),\n",
              "             ('before', 7644),\n",
              "             ('coffin', 1300),\n",
              "             ('warehouses', 52),\n",
              "             ('bringing', 260),\n",
              "             ('up', 13151),\n",
              "             ('rear', 546),\n",
              "             ('every', 5850),\n",
              "             ('funeral', 130),\n",
              "             ('meet', 468),\n",
              "             ('especially', 1144),\n",
              "             ('hypos', 26),\n",
              "             ('get', 2470),\n",
              "             ('such', 9542),\n",
              "             ('an', 15262),\n",
              "             ('upper', 780),\n",
              "             ('hand', 5434),\n",
              "             ('that', 78532),\n",
              "             ('requires', 156),\n",
              "             ('strong', 884),\n",
              "             ('moral', 78),\n",
              "             ('principle', 234),\n",
              "             ('prevent', 130),\n",
              "             ('from', 27872),\n",
              "             ('deliberately', 208),\n",
              "             ('stepping', 182),\n",
              "             ('into', 13442),\n",
              "             ('street', 312),\n",
              "             ('methodically', 78),\n",
              "             ('knocking', 182),\n",
              "             ('people', 1170),\n",
              "             (\"'s\", 44772),\n",
              "             ('hats', 104),\n",
              "             ('then', 16172),\n",
              "             ('account', 832),\n",
              "             ('high', 2756),\n",
              "             ('time', 8632),\n",
              "             ('sea', 11310),\n",
              "             ('as', 44564),\n",
              "             ('soon', 3328),\n",
              "             ('can', 6838),\n",
              "             ('this', 35620),\n",
              "             ('substitute', 78),\n",
              "             ('for', 41184),\n",
              "             ('pistol', 156),\n",
              "             ('ball', 286),\n",
              "             ('with', 43966),\n",
              "             ('philosophical', 26),\n",
              "             ('flourish', 78),\n",
              "             ('cato', 26),\n",
              "             ('throws', 78),\n",
              "             ('himself', 5252),\n",
              "             ('upon', 14586),\n",
              "             ('his', 64792),\n",
              "             ('sword', 624),\n",
              "             ('quietly', 494),\n",
              "             ('take', 3302),\n",
              "             ('ship', 13182),\n",
              "             ('there', 21580),\n",
              "             ('surprising', 182),\n",
              "             ('if', 12298),\n",
              "             ('they', 16848),\n",
              "             ('but', 46254),\n",
              "             ('knew', 1118),\n",
              "             ('almost', 5018),\n",
              "             ('all', 39052),\n",
              "             ('men', 6240),\n",
              "             ('their', 15704),\n",
              "             ('degree', 676),\n",
              "             ('other', 10608),\n",
              "             ('cherish', 234),\n",
              "             ('very', 8268),\n",
              "             ('nearly', 858),\n",
              "             ('same', 5460),\n",
              "             ('feelings', 156),\n",
              "             ('towards', 2938),\n",
              "             ('ocean', 1846),\n",
              "             ('now', 20124),\n",
              "             ('your', 6292),\n",
              "             ('insular', 104),\n",
              "             ('city', 364),\n",
              "             ('manhattoes', 26),\n",
              "             ('belted', 78),\n",
              "             ('round', 6344),\n",
              "             ('by', 30524),\n",
              "             ('wharves', 130),\n",
              "             ('indian', 1456),\n",
              "             ('isles', 442),\n",
              "             ('coral', 182),\n",
              "             ('reefs', 26),\n",
              "             ('commerce', 156),\n",
              "             ('surrounds', 52),\n",
              "             ('her', 8466),\n",
              "             ('surf', 130),\n",
              "             ('right', 3770),\n",
              "             ('left', 1742),\n",
              "             ('streets', 364),\n",
              "             ('you', 22906),\n",
              "             ('waterward', 52),\n",
              "             ('its', 9646),\n",
              "             ('extreme', 338),\n",
              "             ('downtown', 26),\n",
              "             ('battery', 78),\n",
              "             ('where', 5460),\n",
              "             ('noble', 1092),\n",
              "             ('mole', 78),\n",
              "             ('washed', 104),\n",
              "             ('waves', 1222),\n",
              "             ('cooled', 52),\n",
              "             ('breezes', 104),\n",
              "             ('which', 16224),\n",
              "             ('few', 2392),\n",
              "             ('hours', 1092),\n",
              "             ('previous', 910),\n",
              "             ('were', 17550),\n",
              "             ('out', 13572),\n",
              "             ('sight', 2704),\n",
              "             ('land', 2002),\n",
              "             ('look', 5200),\n",
              "             ('at', 33846),\n",
              "             ('crowds', 130),\n",
              "             ('water', 4706),\n",
              "             ('gazers', 26),\n",
              "             ('circumambulate', 26),\n",
              "             ('dreamy', 104),\n",
              "             ('sabbath', 104),\n",
              "             ('afternoon', 234),\n",
              "             ('go', 4940),\n",
              "             ('corlears', 26),\n",
              "             ('hook', 468),\n",
              "             ('coenties', 26),\n",
              "             ('slip', 104),\n",
              "             ('thence', 182),\n",
              "             ('whitehall', 26),\n",
              "             ('northward', 78),\n",
              "             ('what', 15574),\n",
              "             ('do', 10738),\n",
              "             ('see?--posted', 26),\n",
              "             ('like', 16562),\n",
              "             ('silent', 676),\n",
              "             ('sentinels', 26),\n",
              "             ('around', 910),\n",
              "             ('town', 884),\n",
              "             ('stand', 2600),\n",
              "             ('thousands', 416),\n",
              "             ('mortal', 1040),\n",
              "             ('fixed', 936),\n",
              "             ('reveries', 156),\n",
              "             ('leaning', 728),\n",
              "             ('against', 3458),\n",
              "             ('spiles', 26),\n",
              "             ('seated', 702),\n",
              "             ('pier', 26),\n",
              "             ('heads', 2184),\n",
              "             ('looking', 1820),\n",
              "             ('over', 10478),\n",
              "             ('bulwarks', 936),\n",
              "             ('ships', 2210),\n",
              "             ('china', 234),\n",
              "             ('aloft', 1430),\n",
              "             ('rigging', 858),\n",
              "             ('striving', 260),\n",
              "             ('still', 8086),\n",
              "             ('better', 1612),\n",
              "             ('seaward', 52),\n",
              "             ('peep', 208),\n",
              "             ('these', 10166),\n",
              "             ('are', 15236),\n",
              "             ('landsmen', 260),\n",
              "             ('week', 130),\n",
              "             ('days', 2080),\n",
              "             ('pent', 52),\n",
              "             ('lath', 26),\n",
              "             ('plaster', 78),\n",
              "             ('tied', 312),\n",
              "             ('counters', 26),\n",
              "             ('nailed', 286),\n",
              "             ('benches', 52),\n",
              "             ('clinched', 78),\n",
              "             ('desks', 26),\n",
              "             ('green', 1326),\n",
              "             ('fields', 208),\n",
              "             ('gone', 1404),\n",
              "             ('here', 8190),\n",
              "             ('come', 4524),\n",
              "             ('more', 13000),\n",
              "             ('pacing', 286),\n",
              "             ('straight', 1170),\n",
              "             ('seemingly', 234),\n",
              "             ('bound', 702),\n",
              "             ('dive', 208),\n",
              "             ('strange', 2548),\n",
              "             ('will', 9906),\n",
              "             ('content', 468),\n",
              "             ('them', 11986),\n",
              "             ('extremest', 52),\n",
              "             ('limit', 130),\n",
              "             ('loitering', 26),\n",
              "             ('under', 3068),\n",
              "             ('shady', 26),\n",
              "             ('lee', 468),\n",
              "             ('yonder', 468),\n",
              "             ('not', 31304),\n",
              "             ('suffice', 52),\n",
              "             ('must', 7306),\n",
              "             ('just', 3042),\n",
              "             ('nigh', 1144),\n",
              "             ('possibly', 780),\n",
              "             ('without', 3978),\n",
              "             ('falling', 312),\n",
              "             ('miles', 728),\n",
              "             ('leagues', 260),\n",
              "             ('inlanders', 26),\n",
              "             ('lanes', 26),\n",
              "             ('alleys', 26),\n",
              "             ('avenues', 78),\n",
              "             ('north', 364),\n",
              "             ('east', 572),\n",
              "             ('south', 702),\n",
              "             ('west', 390),\n",
              "             ('yet', 8944),\n",
              "             ('unite', 156),\n",
              "             ('tell', 3432),\n",
              "             ('does', 2548),\n",
              "             ('magnetic', 182),\n",
              "             ('virtue', 520),\n",
              "             ('needles', 286),\n",
              "             ('compasses', 260),\n",
              "             ('those', 7878),\n",
              "             ('attract', 26),\n",
              "             ('thither', 260),\n",
              "             ('once', 3770),\n",
              "             ('say', 6136),\n",
              "             ('country', 598),\n",
              "             ('lakes', 78),\n",
              "             ('any', 8346),\n",
              "             ('path', 234),\n",
              "             ('please', 312),\n",
              "             ('ten', 1196),\n",
              "             ('one', 23556),\n",
              "             ('carries', 416),\n",
              "             ('down', 9620),\n",
              "             ('dale', 26),\n",
              "             ('leaves', 494),\n",
              "             ('pool', 130),\n",
              "             ('stream', 260),\n",
              "             ('magic', 234),\n",
              "             ('let', 4030),\n",
              "             ('most', 7124),\n",
              "             ('absent', 260),\n",
              "             ('minded', 156),\n",
              "             ('be', 26806),\n",
              "             ('plunged', 234),\n",
              "             ('deepest', 156),\n",
              "             ('man', 13520),\n",
              "             ('legs', 936),\n",
              "             ('set', 1924),\n",
              "             ('feet', 3224),\n",
              "             ('going', 2314),\n",
              "             ('he', 48334),\n",
              "             ('infallibly', 286),\n",
              "             ('lead', 442),\n",
              "             ('region', 104),\n",
              "             ('should', 4628),\n",
              "             ('ever', 5226),\n",
              "             ('athirst', 78),\n",
              "             ('great', 7592),\n",
              "             ('american', 858),\n",
              "             ('desert', 208),\n",
              "             ('try', 1378),\n",
              "             ('experiment', 104),\n",
              "             ('caravan', 52),\n",
              "             ('happen', 208),\n",
              "             ('supplied', 260),\n",
              "             ('metaphysical', 52),\n",
              "             ('professor', 104),\n",
              "             ('yes', 1872),\n",
              "             ('knows', 728),\n",
              "             ('meditation', 104),\n",
              "             ('wedded', 130),\n",
              "             ('artist', 104),\n",
              "             ('desires', 104),\n",
              "             ('paint', 130),\n",
              "             ('dreamiest', 26),\n",
              "             ('shadiest', 26),\n",
              "             ('quietest', 26),\n",
              "             ('enchanting', 26),\n",
              "             ('bit', 702),\n",
              "             ('romantic', 182),\n",
              "             ('landscape', 78),\n",
              "             ('valley', 156),\n",
              "             ('saco', 26),\n",
              "             ('chief', 962),\n",
              "             ('element', 260),\n",
              "             ('employs', 52),\n",
              "             ('trees', 364),\n",
              "             ('each', 3302),\n",
              "             ('hollow', 520),\n",
              "             ('trunk', 442),\n",
              "             ('hermit', 78),\n",
              "             ('crucifix', 26),\n",
              "             ('within', 1976),\n",
              "             ('sleeps', 130),\n",
              "             ('meadow', 156),\n",
              "             ('sleep', 1196),\n",
              "             ('cattle', 156),\n",
              "             ('cottage', 52),\n",
              "             ('goes', 1404),\n",
              "             ('sleepy', 208),\n",
              "             ('smoke', 780),\n",
              "             ('deep', 1742),\n",
              "             ('distant', 546),\n",
              "             ('woodlands', 52),\n",
              "             ('winds', 546),\n",
              "             ('mazy', 26),\n",
              "             ('reaching', 312),\n",
              "             ('overlapping', 52),\n",
              "             ('spurs', 52),\n",
              "             ('mountains', 338),\n",
              "             ('bathed', 52),\n",
              "             ('hill', 416),\n",
              "             ('side', 5330),\n",
              "             ('blue', 1170),\n",
              "             ('though', 9750),\n",
              "             ('picture', 494),\n",
              "             ('lies', 520),\n",
              "             ('thus', 3432),\n",
              "             ('tranced', 78),\n",
              "             ('pine', 286),\n",
              "             ('tree', 520),\n",
              "             ('shakes', 104),\n",
              "             ('sighs', 52),\n",
              "             ('shepherd', 52),\n",
              "             ('head', 8710),\n",
              "             ('vain', 780),\n",
              "             ('unless', 754),\n",
              "             ('eye', 2236),\n",
              "             ('him', 27248),\n",
              "             ('visit', 260),\n",
              "             ('prairies', 156),\n",
              "             ('june', 52),\n",
              "             ('when', 15496),\n",
              "             ('scores', 104),\n",
              "             ('wade', 78),\n",
              "             ('knee', 208),\n",
              "             ('among', 4238),\n",
              "             ('tiger', 286),\n",
              "             ('lilies', 52),\n",
              "             ('charm', 182),\n",
              "             ('wanting?--water', 26),\n",
              "             ('drop', 650),\n",
              "             ('niagara', 52),\n",
              "             ('cataract', 52),\n",
              "             ('sand', 286),\n",
              "             ('travel', 156),\n",
              "             ('thousand', 1300),\n",
              "             ('why', 2990),\n",
              "             ('did', 7332),\n",
              "             ('poor', 2834),\n",
              "             ('poet', 52),\n",
              "             ('tennessee', 26),\n",
              "             ('suddenly', 1274),\n",
              "             ('receiving', 338),\n",
              "             ('two', 7592),\n",
              "             ('handfuls', 104),\n",
              "             ('silver', 312),\n",
              "             ('deliberate', 130),\n",
              "             ('whether', 2262),\n",
              "             ('buy', 78),\n",
              "             ('coat', 702),\n",
              "             ('sadly', 312),\n",
              "             ('needed', 182),\n",
              "             ('invest', 156),\n",
              "             ('pedestrian', 52),\n",
              "             ('trip', 104),\n",
              "             ('rockaway', 26),\n",
              "             ('beach', 468),\n",
              "             ('robust', 78),\n",
              "             ('healthy', 130),\n",
              "             ('boy', 1612),\n",
              "             ('crazy', 338),\n",
              "             ('first', 6006),\n",
              "             ('voyage', 2496),\n",
              "             ('passenger', 156),\n",
              "             ('yourself', 676),\n",
              "             ('feel', 1456),\n",
              "             ('mystical', 234),\n",
              "             ('vibration', 130),\n",
              "             ('told', 1092),\n",
              "             ('old', 11570),\n",
              "             ('persians', 26),\n",
              "             ('hold', 2548),\n",
              "             ('holy', 520),\n",
              "             ('greeks', 52),\n",
              "             ('give', 2132),\n",
              "             ('separate', 520),\n",
              "             ('deity', 104),\n",
              "             ('own', 5278),\n",
              "             ('brother', 286),\n",
              "             ('jove', 234),\n",
              "             ('surely', 182),\n",
              "             ('meaning', 416),\n",
              "             ('deeper', 494),\n",
              "             ('story', 1274),\n",
              "             ('narcissus', 26),\n",
              "             ('who', 9282),\n",
              "             ('because', 2366),\n",
              "             ('could', 5694),\n",
              "             ('grasp', 130),\n",
              "             ('tormenting', 52),\n",
              "             ('mild', 728),\n",
              "             ('image', 286),\n",
              "             ('saw', 2626),\n",
              "             ('fountain', 234),\n",
              "             ('was', 42319),\n",
              "             ('drowned', 312),\n",
              "             ('we', 11570),\n",
              "             ('ourselves', 390),\n",
              "             ('rivers', 78),\n",
              "             ('oceans', 416),\n",
              "             ('ungraspable', 26),\n",
              "             ('phantom', 364),\n",
              "             ('life', 4368),\n",
              "             ('key', 312),\n",
              "             ('am', 2288),\n",
              "             ('habit', 78),\n",
              "             ('begin', 312),\n",
              "             ('grow', 572),\n",
              "             ('hazy', 26),\n",
              "             ('eyes', 4030),\n",
              "             ('conscious', 208),\n",
              "             ('lungs', 390),\n",
              "             ('mean', 988),\n",
              "             ('inferred', 104),\n",
              "             ('needs', 520),\n",
              "             ('rag', 52),\n",
              "             ('something', 3172),\n",
              "             ('besides', 1248),\n",
              "             ('passengers', 130),\n",
              "             ('sick', 260),\n",
              "             ('quarrelsome', 26),\n",
              "             (\"don't\", 208),\n",
              "             ('nights', 286),\n",
              "             ('enjoy', 130),\n",
              "             ('themselves', 1508),\n",
              "             ('much', 5720),\n",
              "             ('general', 1794),\n",
              "             ('thing;--no', 26),\n",
              "             ('nor', 4004),\n",
              "             ('salt', 312),\n",
              "             ('commodore', 234),\n",
              "             ('captain', 8346),\n",
              "             ('cook', 1274),\n",
              "             ('abandon', 78),\n",
              "             ('glory', 468),\n",
              "             ('distinction', 104),\n",
              "             ('offices', 26),\n",
              "             ('abominate', 26),\n",
              "             ('honourable', 182),\n",
              "             ('respectable', 78),\n",
              "             ('toils', 26),\n",
              "             ('trials', 26),\n",
              "             ('tribulations', 52),\n",
              "             ('kind', 650),\n",
              "             ('whatsoever', 104),\n",
              "             ('quite', 1066),\n",
              "             ('care', 364),\n",
              "             ('taking', 1300),\n",
              "             ('barques', 26),\n",
              "             ('brigs', 78),\n",
              "             ('schooners', 26),\n",
              "             ('cook,--though', 26),\n",
              "             ('confess', 208),\n",
              "             ('considerable', 676),\n",
              "             ('being', 5668),\n",
              "             ('sort', 3926),\n",
              "             ('officer', 390),\n",
              "             ('board', 1846),\n",
              "             ('somehow', 1118),\n",
              "             ('fancied', 208),\n",
              "             ('broiling', 26),\n",
              "             ('fowls;--though', 26),\n",
              "             ('broiled', 78),\n",
              "             ('judiciously', 52),\n",
              "             ('buttered', 26),\n",
              "             ('judgmatically', 26),\n",
              "             ('salted', 156),\n",
              "             ('peppered', 26),\n",
              "             ('speak', 1300),\n",
              "             ('respectfully', 104),\n",
              "             ('reverentially', 26),\n",
              "             ('fowl', 260),\n",
              "             ('than', 7800),\n",
              "             ('idolatrous', 26),\n",
              "             ('dotings', 26),\n",
              "             ('egyptians', 104),\n",
              "             ('ibis', 26),\n",
              "             ('roasted', 26),\n",
              "             ('river', 182),\n",
              "             ('horse', 676),\n",
              "             ('mummies', 52),\n",
              "             ('creatures', 858),\n",
              "             ('huge', 728),\n",
              "             ('bake', 26),\n",
              "             ('houses', 234),\n",
              "             ('pyramids', 78),\n",
              "             ('simple', 286),\n",
              "             ('sailor', 2106),\n",
              "             ('mast', 3198),\n",
              "             ('plumb', 26),\n",
              "             ('forecastle', 962),\n",
              "             ('royal', 702),\n",
              "             ('true', 2184),\n",
              "             ('rather', 1794),\n",
              "             ('order', 1586),\n",
              "             ('make', 2834),\n",
              "             ('jump', 442),\n",
              "             ('spar', 234),\n",
              "             ('grasshopper', 52),\n",
              "             ('may', 6084),\n",
              "             ('thing', 4810),\n",
              "             ('unpleasant', 52),\n",
              "             ('enough', 1976),\n",
              "             ('touches', 52),\n",
              "             ('sense', 364),\n",
              "             ('honour', 624),\n",
              "             ('particularly', 208),\n",
              "             ('established', 78),\n",
              "             ('family', 312),\n",
              "             ('van', 130),\n",
              "             ('rensselaers', 26),\n",
              "             ('randolphs', 26),\n",
              "             ('hardicanutes', 26),\n",
              "             ('putting', 416),\n",
              "             ('tar', 234),\n",
              "             ('pot', 260),\n",
              "             ('been', 10608),\n",
              "             ('lording', 26),\n",
              "             ('schoolmaster', 156),\n",
              "             ('making', 1170),\n",
              "             ('tallest', 26),\n",
              "             ('boys', 884),\n",
              "             ('awe', 364),\n",
              "             ('transition', 130),\n",
              "             ('keen', 416),\n",
              "             ('assure', 130),\n",
              "             ('decoction', 26),\n",
              "             ('seneca', 26),\n",
              "             ('stoics', 26),\n",
              "             ('enable', 104),\n",
              "             ('grin', 182),\n",
              "             ('bear', 962),\n",
              "             ('even', 4862),\n",
              "             ('wears', 156),\n",
              "             ('hunks', 78),\n",
              "             ('orders', 624),\n",
              "             ('broom', 78),\n",
              "             ('sweep', 338),\n",
              "             ('decks', 546),\n",
              "             ('indignity', 52),\n",
              "             ('amount', 156),\n",
              "             ('weighed', 78),\n",
              "             ('scales', 156),\n",
              "             ('new', 2522),\n",
              "             ('testament', 26),\n",
              "             ('think', 3068),\n",
              "             ('archangel', 208),\n",
              "             ('gabriel', 494),\n",
              "             ('thinks', 520),\n",
              "             ('anything', 1118),\n",
              "             ('less', 1326),\n",
              "             ('promptly', 26),\n",
              "             ('obey', 182),\n",
              "             ('instance', 468),\n",
              "             ('ai', 598),\n",
              "             (\"n't\", 6578),\n",
              "             ('slave', 286),\n",
              "             ('well', 5850),\n",
              "             ('however', 2418),\n",
              "             ('captains', 624),\n",
              "             ('thump', 130),\n",
              "             ('punch', 156),\n",
              "             ('satisfaction', 104),\n",
              "             ('knowing', 416),\n",
              "             ('everybody', 182),\n",
              "             ('else', 1196),\n",
              "             ('served', 260),\n",
              "             ('either', 936),\n",
              "             ('physical', 104),\n",
              "             ('point', 1820),\n",
              "             ('view', 1170),\n",
              "             ('so', 27274),\n",
              "             ('universal', 208),\n",
              "             ('passed', 1092),\n",
              "             ('hands', 3250),\n",
              "             ('rub', 26),\n",
              "             ('shoulder', 286),\n",
              "             ('blades', 208),\n",
              "             ('again', 6682),\n",
              "             ('always', 2080),\n",
              "             ('paying', 78),\n",
              "             ('trouble', 234),\n",
              "             ('whereas', 442),\n",
              "             ('pay', 468),\n",
              "             ('single', 1014),\n",
              "             ('penny', 104),\n",
              "             ('heard', 2730),\n",
              "             ('contrary', 312),\n",
              "             ('difference', 468),\n",
              "             ('between', 3120),\n",
              "             ('paid', 182),\n",
              "             ('act', 780),\n",
              "             ('perhaps', 2288),\n",
              "             ('uncomfortable', 78),\n",
              "             ('infliction', 26),\n",
              "             ('orchard', 52),\n",
              "             ('thieves', 52),\n",
              "             ('entailed', 52),\n",
              "             ('us', 5772),\n",
              "             ('paid,--what', 26),\n",
              "             ('compare', 130),\n",
              "             ('urbane', 26),\n",
              "             ('activity', 234),\n",
              "             ('receives', 78),\n",
              "             ('really', 780),\n",
              "             ('marvellous', 390),\n",
              "             ('considering', 806),\n",
              "             ('earnestly', 182),\n",
              "             ('believe', 702),\n",
              "             ('root', 78),\n",
              "             ('earthly', 416),\n",
              "             ('ills', 26),\n",
              "             ('monied', 26),\n",
              "             ('enter', 260),\n",
              "             ('heaven', 1300),\n",
              "             ('ah', 520),\n",
              "             ('cheerfully', 52),\n",
              "             ('consign', 26),\n",
              "             ('perdition', 78),\n",
              "             ('finally', 676),\n",
              "             ('wholesome', 52),\n",
              "             ('exercise', 78),\n",
              "             ('pure', 234),\n",
              "             ('air', 3562),\n",
              "             ('fore', 624),\n",
              "             ('castle', 130),\n",
              "             ('deck', 5044),\n",
              "             ('far', 4238),\n",
              "             ('prevalent', 26),\n",
              "             ('astern', 754),\n",
              "             ('violate', 26),\n",
              "             ('pythagorean', 26),\n",
              "             ('maxim', 78),\n",
              "             ('quarter', 1222),\n",
              "             ('gets', 104),\n",
              "             ('atmosphere', 130),\n",
              "             ('second', 1534),\n",
              "             ('sailors', 1352),\n",
              "             ('breathes', 156),\n",
              "             ('commonalty', 26),\n",
              "             ('leaders', 52),\n",
              "             ('many', 4212),\n",
              "             ('things', 3354),\n",
              "             ('suspect', 78),\n",
              "             ('wherefore', 338),\n",
              "             ('after', 6897),\n",
              "             ('repeatedly', 78),\n",
              "             ('smelt', 78),\n",
              "             ('merchant', 468),\n",
              "             ('whaling', 3276),\n",
              "             ('invisible', 416),\n",
              "             ('police', 26),\n",
              "             ('fates', 156),\n",
              "             ('has', 7592),\n",
              "             ('constant', 130),\n",
              "             ('surveillance', 26),\n",
              "             ('secretly', 52),\n",
              "             ('dogs', 208),\n",
              "             ('influences', 182),\n",
              "             ('unaccountable', 416),\n",
              "             ('answer', 624),\n",
              "             ('doubtless', 312),\n",
              "             ('formed', 572),\n",
              "             ('grand', 1378),\n",
              "             ('programme', 26),\n",
              "             ('providence', 78),\n",
              "             ('drawn', 676),\n",
              "             ('came', 3302),\n",
              "             ('brief', 260),\n",
              "             ('interlude', 104),\n",
              "             ('solo', 26),\n",
              "             ('extensive', 78),\n",
              "             ('performances', 78),\n",
              "             ('bill', 208),\n",
              "             ('run', 1352),\n",
              "             ('contested', 26),\n",
              "             ('election', 26),\n",
              "             ('presidency', 26),\n",
              "             ('united', 234),\n",
              "             ('states', 182),\n",
              "             ('bloody', 208),\n",
              "             ('battle', 754),\n",
              "             ('affghanistan', 26),\n",
              "             ('exactly', 624),\n",
              "             ('stage', 234),\n",
              "             ('managers', 26),\n",
              "             ('put', 1898),\n",
              "             ('shabby', 78),\n",
              "             ('others', 988),\n",
              "             ('magnificent', 52),\n",
              "             ('parts', 1066),\n",
              "             ('tragedies', 52),\n",
              "             ('short', 1534),\n",
              "             ('easy', 1014),\n",
              "             ('genteel', 26),\n",
              "             ('comedies', 26),\n",
              "             ('jolly', 546),\n",
              "             ('farces', 26),\n",
              "             ('recall', 156),\n",
              "             ('circumstances', 676),\n",
              "             ('springs', 78),\n",
              "             ('motives', 104),\n",
              "             ('cunningly', 26),\n",
              "             ('presented', 494),\n",
              "             ('various', 988),\n",
              "             ('disguises', 26),\n",
              "             ('induced', 104),\n",
              "             ('performing', 78),\n",
              "             ('cajoling', 26),\n",
              "             ('delusion', 52),\n",
              "             ('choice', 130),\n",
              "             ('resulting', 52),\n",
              "             ('unbiased', 26),\n",
              "             ('freewill', 26),\n",
              "             ('discriminating', 26),\n",
              "             ('judgment', 286),\n",
              "             ('overwhelming', 26),\n",
              "             ('idea', 858),\n",
              "             ('whale', 29718),\n",
              "             ('portentous', 156),\n",
              "             ('mysterious', 260),\n",
              "             ('monster', 1196),\n",
              "             ('roused', 78),\n",
              "             ('curiosity', 234),\n",
              "             ('wild', 2184),\n",
              "             ('seas', 2184),\n",
              "             ('rolled', 1118),\n",
              "             ('island', 832),\n",
              "             ('bulk', 806),\n",
              "             ('undeliverable', 26),\n",
              "             ('nameless', 468),\n",
              "             ('perils', 598),\n",
              "             ('attending', 104),\n",
              "             ('marvels', 208),\n",
              "             ('patagonian', 104),\n",
              "             ('sights', 312),\n",
              "             ('sounds', 312),\n",
              "             ('helped', 390),\n",
              "             ('sway', 130),\n",
              "             ('wish', 338),\n",
              "             ('inducements', 52),\n",
              "             ('tormented', 364),\n",
              "             ('everlasting', 234),\n",
              "             ('itch', 26),\n",
              "             ('remote', 286),\n",
              "             ('love', 598),\n",
              "             ('forbidden', 26),\n",
              "             ('barbarous', 78),\n",
              "             ('coasts', 182),\n",
              "             ('ignoring', 26),\n",
              "             ('good', 5564),\n",
              "             ('quick', 962),\n",
              "             ('perceive', 208),\n",
              "             ('horror', 312),\n",
              "             ('social', 312),\n",
              "             ('since', 1664),\n",
              "             ('friendly', 104),\n",
              "             ('terms', 312),\n",
              "             ('inmates', 78),\n",
              "             ('place', 3016),\n",
              "             ('lodges', 26),\n",
              "             ('reason', 1664),\n",
              "             ('welcome', 156),\n",
              "             ('flood', 338),\n",
              "             ('gates', 52),\n",
              "             ('wonder', 936),\n",
              "             ('swung', 520),\n",
              "             ('open', 1872),\n",
              "             ('conceits', 104),\n",
              "             ('swayed', 130),\n",
              "             ('purpose', 1014),\n",
              "             ('floated', 442),\n",
              "             ('inmost', 52),\n",
              "             ('endless', 390),\n",
              "             ('processions', 78),\n",
              "             ('mid', 286),\n",
              "             ('hooded', 182),\n",
              "             ('snow', 780),\n",
              "             ('\\n\\n\\n\\n', 3458),\n",
              "             ('2', 26),\n",
              "             ('carpet', 208),\n",
              "             ('bag', 546),\n",
              "             ('stuffed', 104),\n",
              "             ('shirt', 234),\n",
              "             ('tucked', 78),\n",
              "             ('arm', 2236),\n",
              "             ('started', 702),\n",
              "             ('cape', 1040),\n",
              "             ('horn', 780),\n",
              "             ('pacific', 832),\n",
              "             ('quitting', 156),\n",
              "             ('manhatto', 26),\n",
              "             ('duly', 156),\n",
              "             ('arrived', 364),\n",
              "             ('bedford', 468),\n",
              "             ('saturday', 130),\n",
              "             ('night', 3874),\n",
              "             ('december', 104),\n",
              "             ('disappointed', 78),\n",
              "             ('learning', 156),\n",
              "             ('packet', 78),\n",
              "             ('nantucket', 2288),\n",
              "             ('had', 19942),\n",
              "             ('already', 832),\n",
              "             ('sailed', 988),\n",
              "             ('offer', 208),\n",
              "             ('till', 3120),\n",
              "             ('following', 624),\n",
              "             ('monday', 52),\n",
              "             ('young', 2080),\n",
              "             ('candidates', 26),\n",
              "             ('pains', 338),\n",
              "             ('penalties', 26),\n",
              "             ('stop', 858),\n",
              "             ('embark', 130),\n",
              "             ('related', 156),\n",
              "             ('doing', 390),\n",
              "             ('made', 4550),\n",
              "             ('craft', 1404),\n",
              "             ('fine', 1534),\n",
              "             ('boisterous', 78),\n",
              "             ('everything', 494),\n",
              "             ('connected', 312),\n",
              "             ('famous', 962),\n",
              "             ('amazingly', 52),\n",
              "             ('pleased', 234),\n",
              "             ('late', 728),\n",
              "             ('gradually', 260),\n",
              "             ('monopolising', 52),\n",
              "             ('business', 1768),\n",
              "             ('matter', 2184),\n",
              "             ('behind', 1222),\n",
              "             ('original', 546),\n",
              "             ('tyre', 26),\n",
              "             ('carthage;--the', 26),\n",
              "             ('dead', 2366),\n",
              "             ('stranded', 286),\n",
              "             ('aboriginal', 104),\n",
              "             ('whalemen', 1846),\n",
              "             ('red', 1040),\n",
              "             ('sally', 52),\n",
              "             ('canoes', 208),\n",
              "             ('chase', 1508),\n",
              "             ('leviathan', 2158),\n",
              "             ('too', 4654),\n",
              "             ('adventurous', 104),\n",
              "             ('sloop', 104),\n",
              "             ('forth', 1326),\n",
              "             ('partly', 364),\n",
              "             ('laden', 130),\n",
              "             ('imported', 26),\n",
              "             ('cobblestones', 26),\n",
              "             ('throw', 338),\n",
              "             ('whales', 6396),\n",
              "             ('discover', 156),\n",
              "             ('risk', 130),\n",
              "             ('harpoon', 1976),\n",
              "             ('bowsprit', 208),\n",
              "             ('day', 4524),\n",
              "             ('another', 2887),\n",
              "             ('ere', 2054),\n",
              "             ('destined', 182),\n",
              "             ('port', 676),\n",
              "             ('became', 624),\n",
              "             ('concernment', 52),\n",
              "             ('eat', 286),\n",
              "             ('meanwhile', 728),\n",
              "             ('dubious', 78),\n",
              "             ('nay', 754),\n",
              "             ('dark', 1482),\n",
              "             ('dismal', 208),\n",
              "             ('bitingly', 26),\n",
              "             ('cold', 806),\n",
              "             ('cheerless', 78),\n",
              "             ('anxious', 234),\n",
              "             ('grapnels', 52),\n",
              "             ('sounded', 208),\n",
              "             ('pocket', 312),\n",
              "             ('only', 9675),\n",
              "             ('brought', 936),\n",
              "             ('pieces', 468),\n",
              "             ('silver,--so', 26),\n",
              "             ('wherever', 156),\n",
              "             ('said', 7540),\n",
              "             ('stood', 2340),\n",
              "             ('middle', 936),\n",
              "             ('dreary', 156),\n",
              "             ('shouldering', 26),\n",
              "             ('comparing', 78),\n",
              "             ('gloom', 286),\n",
              "             ('darkness', 832),\n",
              "             ('wisdom', 130),\n",
              "             ('conclude', 208),\n",
              "             ('lodge', 78),\n",
              "             ('dear', 260),\n",
              "             ('sure', 1170),\n",
              "             ('inquire', 78),\n",
              "             ('price', 26),\n",
              "             ('halting', 104),\n",
              "             ('steps', 156),\n",
              "             ('paced', 234),\n",
              "             ('sign', 936),\n",
              "             ('crossed', 390),\n",
              "             ('harpoons\"--but', 26),\n",
              "             ('looked', 1664),\n",
              "             ('expensive', 52),\n",
              "             ('further', 1586),\n",
              "             ('bright', 598),\n",
              "             ('windows', 130),\n",
              "             ('fish', 4186),\n",
              "             ('inn', 390),\n",
              "             ('fervent', 26),\n",
              "             ('rays', 156),\n",
              "             ('seemed', 7332),\n",
              "             ('melted', 130),\n",
              "             ('packed', 130),\n",
              "             ('ice', 702),\n",
              "             ('house', 1144),\n",
              "             ('everywhere', 182),\n",
              "             ...])"
            ]
          },
          "metadata": {},
          "execution_count": 21
        }
      ]
    },
    {
      "cell_type": "code",
      "source": [
        "vocabulary_size = len(tokenizer.word_counts)"
      ],
      "metadata": {
        "id": "DlXmZXuDxrqQ"
      },
      "execution_count": 22,
      "outputs": []
    },
    {
      "cell_type": "code",
      "source": [
        "vocabulary_size"
      ],
      "metadata": {
        "colab": {
          "base_uri": "https://localhost:8080/"
        },
        "id": "wQ6fCM8cx_dP",
        "outputId": "f72272e3-5ea9-471e-a98e-601bf885ab23"
      },
      "execution_count": 23,
      "outputs": [
        {
          "output_type": "execute_result",
          "data": {
            "text/plain": [
              "17526"
            ]
          },
          "metadata": {},
          "execution_count": 23
        }
      ]
    },
    {
      "cell_type": "markdown",
      "source": [
        "# Transformar a lista contendo as sequências numéricas (tokens) em um array no qual cada linha representa uma sequência"
      ],
      "metadata": {
        "id": "xwRqKlJMycW6"
      }
    },
    {
      "cell_type": "code",
      "source": [
        "sequences = np.array(sequences)\n",
        "sequences"
      ],
      "metadata": {
        "colab": {
          "base_uri": "https://localhost:8080/"
        },
        "id": "MLBxuhdYyAfP",
        "outputId": "7c682729-5b7d-48ac-fb1c-7aa60f3897d3"
      },
      "execution_count": 24,
      "outputs": [
        {
          "output_type": "execute_result",
          "data": {
            "text/plain": [
              "array([[  158,  9443, 17526, ...,   218,   442,     5],\n",
              "       [ 9443, 17526,   402, ...,   442,     5,  1165],\n",
              "       [17526,   402,    42, ...,     5,  1165,    42],\n",
              "       ...,\n",
              "       [  240,   938,   351, ...,  1419,  1313,    74],\n",
              "       [  938,   351,  1418, ...,  1313,    74,   219],\n",
              "       [  351,  1418,     3, ...,    74,   219,   222]])"
            ]
          },
          "metadata": {},
          "execution_count": 24
        }
      ]
    },
    {
      "cell_type": "markdown",
      "source": [
        "# Separar os dados em treinamento e teste"
      ],
      "metadata": {
        "id": "9U1eS4Sa--SE"
      }
    },
    {
      "cell_type": "code",
      "source": [
        "sequences[:,:-1]"
      ],
      "metadata": {
        "colab": {
          "base_uri": "https://localhost:8080/"
        },
        "id": "3Oj9T2Rlybna",
        "outputId": "7cc1a07e-f5e9-4492-bbc8-73c0211b390f"
      },
      "execution_count": 25,
      "outputs": [
        {
          "output_type": "execute_result",
          "data": {
            "text/plain": [
              "array([[  158,  9443, 17526, ...,     3,   218,   442],\n",
              "       [ 9443, 17526,   402, ...,   218,   442,     5],\n",
              "       [17526,   402,    42, ...,   442,     5,  1165],\n",
              "       ...,\n",
              "       [  240,   938,   351, ...,    84,  1419,  1313],\n",
              "       [  938,   351,  1418, ...,  1419,  1313,    74],\n",
              "       [  351,  1418,     3, ...,  1313,    74,   219]])"
            ]
          },
          "metadata": {},
          "execution_count": 25
        }
      ]
    },
    {
      "cell_type": "code",
      "source": [
        "sequences[:,-1]"
      ],
      "metadata": {
        "colab": {
          "base_uri": "https://localhost:8080/"
        },
        "id": "Qb3XHgwBAsbi",
        "outputId": "aace4de7-33e9-4c5b-c76c-4aaa0b7824fb"
      },
      "execution_count": 26,
      "outputs": [
        {
          "output_type": "execute_result",
          "data": {
            "text/plain": [
              "array([   5, 1165,   42, ...,   74,  219,  222])"
            ]
          },
          "metadata": {},
          "execution_count": 26
        }
      ]
    },
    {
      "cell_type": "code",
      "source": [
        "X = sequences[:,:-1]\n",
        "y = sequences[:,-1]"
      ],
      "metadata": {
        "id": "9bDIu957A1ZG"
      },
      "execution_count": 27,
      "outputs": []
    },
    {
      "cell_type": "code",
      "source": [
        "y = k.utils.to_categorical(y, num_classes=vocabulary_size+1)"
      ],
      "metadata": {
        "id": "GYGHLj7WANbx"
      },
      "execution_count": null,
      "outputs": []
    },
    {
      "cell_type": "code",
      "source": [
        "X.shape"
      ],
      "metadata": {
        "id": "oFw9Lc9KBWyy"
      },
      "execution_count": null,
      "outputs": []
    },
    {
      "cell_type": "code",
      "source": [
        "y.shape"
      ],
      "metadata": {
        "id": "D0VWNMdOBGjL"
      },
      "execution_count": null,
      "outputs": []
    },
    {
      "cell_type": "code",
      "source": [
        "seq_len = X.shape[1]"
      ],
      "metadata": {
        "id": "CnPNe_i1BKRK"
      },
      "execution_count": null,
      "outputs": []
    },
    {
      "cell_type": "markdown",
      "source": [
        "# Função para criar o modelo com os parâmetros pré estabelecidos"
      ],
      "metadata": {
        "id": "HE39eUZQE8Jd"
      }
    },
    {
      "cell_type": "code",
      "source": [
        "def create_model(vocabulary_size, seq_len):\n",
        "\n",
        "  model = Sequential(name='Sequential_Text_Generator')\n",
        "  model.add(Embedding(vocabulary_size, seq_len, input_length=seq_len, name='Embedding'))\n",
        "  model.add(LSTM(150, return_sequences=True, name='LSTM_1'))\n",
        "  model.add(LSTM(150, name='LSTM_2'))\n",
        "  model.add(Dense(150, activation='relu', name='Dense_1'))\n",
        "  model.add(Dense(vocabulary_size, activation='softmax', name='Dense_2'))\n",
        "\n",
        "  model.compile(loss='categorical_crossentropy', optimizer='adam', metrics=['accuracy'])\n",
        "\n",
        "  model.summary()\n",
        "\n",
        "  return model"
      ],
      "metadata": {
        "id": "UK5V3PwUBbNJ"
      },
      "execution_count": null,
      "outputs": []
    },
    {
      "cell_type": "code",
      "source": [
        "model = create_model(vocabulary_size+1, seq_len)"
      ],
      "metadata": {
        "id": "0eYB3GE6E6VC"
      },
      "execution_count": null,
      "outputs": []
    },
    {
      "cell_type": "markdown",
      "source": [
        "# Treinar o modelo"
      ],
      "metadata": {
        "id": "wUnIl8b2HroX"
      }
    },
    {
      "cell_type": "code",
      "source": [
        "with device('/device:GPU:0'):\n",
        "\n",
        "  model.fit(X, y, batch_size=128, epochs=200)"
      ],
      "metadata": {
        "id": "A3c3HEWYFRay"
      },
      "execution_count": null,
      "outputs": []
    },
    {
      "cell_type": "code",
      "source": [
        "model.save('my_mobydick_model.h5')"
      ],
      "metadata": {
        "id": "Lr-x77QqGk-R"
      },
      "execution_count": null,
      "outputs": []
    },
    {
      "cell_type": "code",
      "source": [
        "dump(tokenizer, open('my_simpletokenizer', 'wb'))"
      ],
      "metadata": {
        "id": "bR_Jaq06HK26"
      },
      "execution_count": null,
      "outputs": []
    },
    {
      "cell_type": "markdown",
      "source": [
        "# Função que irá gerar novos textos com base no modelo treinado"
      ],
      "metadata": {
        "id": "FDjrBd7iPAqp"
      }
    },
    {
      "cell_type": "code",
      "source": [
        "def generate_text(model, tokenizer, seq_len, seed_text, num_gen_words):\n",
        "\n",
        "    \"\"\"\n",
        "    Inputs:\n",
        "    model : modelo já treinado no conjunto de dados\n",
        "    tokenizer : tokenizer que foi ajustado no conjunto de dados\n",
        "    seq_len : comprimento da sequência de treino\n",
        "    seed_text : texto bruto que serve como ponto de partida do gerador\n",
        "    num_gen_words : número de palavras a serem geradas pelo modelo\n",
        "    \"\"\"\n",
        "    \n",
        "    #Retorno da função\n",
        "    output_text = []\n",
        "    \n",
        "    #Sequência de texto inicial\n",
        "    input_text = seed_text\n",
        "    \n",
        "    #Percorrer um laço de acordo com o número de palavras geradas\n",
        "    for i in range(num_gen_words):\n",
        "        \n",
        "        #Obter o texto de entrada e fazer um encode para uma sequência numérica\n",
        "        encoded_text = tokenizer.texts_to_sequences([input_text])[0]\n",
        "        \n",
        "        #Preencher as sequências para o tamanho original de treinamento\n",
        "        pad_encoded = pad_sequences([encoded_text], maxlen=seq_len, truncating='pre')\n",
        "        \n",
        "        #Predizer a probabilidade de cada palavra pertencer a uma das classes nas quais o modelo foi treinado\n",
        "        pred_word_ind = model.predict(pad_encoded, verbose=0)[0]\n",
        "        index = np.argmax(pred_word_ind[0])+1\n",
        "        \n",
        "        #Obter uma palavra predita no vocabulário inicial\n",
        "        pred_word = tokenizer.index_word[index]\n",
        "        \n",
        "        #Atualizar a sequência de texto de entrada, deslizando uma a uma a medida em que novas palavras são geradas\n",
        "        input_text += ' ' + pred_word\n",
        "        \n",
        "        output_text.append(pred_word)\n",
        "        \n",
        "    #Formatar o texto para uma saída mais agradável\n",
        "    return ' '.join(output_text)"
      ],
      "metadata": {
        "id": "r6l7QtphHYz6"
      },
      "execution_count": null,
      "outputs": []
    },
    {
      "cell_type": "markdown",
      "source": [
        "# Gerar texto"
      ],
      "metadata": {
        "id": "nSLO_WPzPZBP"
      }
    },
    {
      "cell_type": "code",
      "source": [
        "text_sequences[0]"
      ],
      "metadata": {
        "id": "Ky9OhxwxNo8W"
      },
      "execution_count": null,
      "outputs": []
    },
    {
      "cell_type": "markdown",
      "source": [
        "# Pegar uma sequência de texto aleatória dentro do conjunto de dados"
      ],
      "metadata": {
        "id": "EtS1ejhKP0Ul"
      }
    },
    {
      "cell_type": "code",
      "source": [
        "random.seed(101)\n",
        "random_pick = random.randint(0, len(text_sequences))"
      ],
      "metadata": {
        "id": "eD0TRIX8PLdm"
      },
      "execution_count": null,
      "outputs": []
    },
    {
      "cell_type": "code",
      "source": [
        "random_seed_text = text_sequences[random_pick]"
      ],
      "metadata": {
        "id": "Z6kUrag6Pm8l"
      },
      "execution_count": null,
      "outputs": []
    },
    {
      "cell_type": "code",
      "source": [
        "random_seed_text"
      ],
      "metadata": {
        "id": "OCPW5ek6Psj0"
      },
      "execution_count": null,
      "outputs": []
    },
    {
      "cell_type": "code",
      "source": [
        "seed_text = ' '.join(random_seed_text)\n",
        "seed_text"
      ],
      "metadata": {
        "id": "ju8C8DvoPuwN"
      },
      "execution_count": null,
      "outputs": []
    },
    {
      "cell_type": "code",
      "source": [
        "generate_text(model, tokenizer, seq_len, seed_text=seed_text, num_gen_words=25)"
      ],
      "metadata": {
        "id": "VefJAssBQGO7"
      },
      "execution_count": null,
      "outputs": []
    },
    {
      "cell_type": "code",
      "source": [],
      "metadata": {
        "id": "LqJEvCG7OvzP"
      },
      "execution_count": null,
      "outputs": []
    }
  ]
}