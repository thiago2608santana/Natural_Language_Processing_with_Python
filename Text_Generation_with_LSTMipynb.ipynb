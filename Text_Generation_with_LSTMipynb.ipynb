{
  "nbformat": 4,
  "nbformat_minor": 0,
  "metadata": {
    "colab": {
      "provenance": [],
      "collapsed_sections": [],
      "mount_file_id": "1tkLRk1Fsl3ow8_2mzfsD20vVCtB6Bcis",
      "authorship_tag": "ABX9TyMHX1J2ICye9NYhwUaMdONu",
      "include_colab_link": true
    },
    "kernelspec": {
      "name": "python3",
      "display_name": "Python 3"
    },
    "language_info": {
      "name": "python"
    },
    "accelerator": "GPU",
    "gpuClass": "standard"
  },
  "cells": [
    {
      "cell_type": "markdown",
      "metadata": {
        "id": "view-in-github",
        "colab_type": "text"
      },
      "source": [
        "<a href=\"https://colab.research.google.com/github/thiago2608santana/Natural_Language_Processing_with_Python/blob/main/Text_Generation_with_LSTMipynb.ipynb\" target=\"_parent\"><img src=\"https://colab.research.google.com/assets/colab-badge.svg\" alt=\"Open In Colab\"/></a>"
      ]
    },
    {
      "cell_type": "markdown",
      "source": [
        "# Método auxiliar"
      ],
      "metadata": {
        "id": "7wfon4MVp8He"
      }
    },
    {
      "cell_type": "code",
      "execution_count": 10,
      "metadata": {
        "id": "Pxjp5ExElSVW"
      },
      "outputs": [],
      "source": [
        "def read_file(filepath):\n",
        "  with open(filepath) as f:\n",
        "    str_text = f.read()\n",
        "\n",
        "  return str_text"
      ]
    },
    {
      "cell_type": "code",
      "source": [
        "def separate_punc(doc_text):\n",
        "  return [token.text.lower() for token in nlp(doc_text) if token.text not in '\\n\\n \\n\\n\\n!\"-#$%&()--.*+,-/:;<=>?@[\\\\]^_`{|}~\\t\\n ']"
      ],
      "metadata": {
        "id": "0IewfQxGsGTz"
      },
      "execution_count": 11,
      "outputs": []
    },
    {
      "cell_type": "markdown",
      "source": [
        "**Apenas os quatro primeiros capítulos do livro Moby-Dick**"
      ],
      "metadata": {
        "id": "MeER139PrNYJ"
      }
    },
    {
      "cell_type": "code",
      "source": [
        "#read_file('/content/drive/MyDrive/NLP_with_Python_Datasets/moby_dick_four_chapters.txt')"
      ],
      "metadata": {
        "id": "GntiLZnZpvTg"
      },
      "execution_count": 12,
      "outputs": []
    },
    {
      "cell_type": "markdown",
      "source": [
        "**Livro completo Moby-Dick**"
      ],
      "metadata": {
        "id": "Ym6CHcCbrIYp"
      }
    },
    {
      "cell_type": "code",
      "source": [
        "#read_file('/content/drive/MyDrive/NLP_with_Python_Datasets/melville-moby_dick.txt')"
      ],
      "metadata": {
        "id": "S5PwsTRXrGjj"
      },
      "execution_count": 13,
      "outputs": []
    },
    {
      "cell_type": "markdown",
      "source": [
        "# Importação de bibliotecas"
      ],
      "metadata": {
        "id": "7OByA5NGqbPU"
      }
    },
    {
      "cell_type": "code",
      "source": [
        "import spacy\n",
        "import numpy as np\n",
        "from keras.preprocessing.text import Tokenizer\n",
        "import tensorflow.keras as k\n",
        "from tensorflow import device\n",
        "from keras.models import Sequential\n",
        "from keras.layers import Dense, LSTM, Embedding\n",
        "from pickle import dump, load"
      ],
      "metadata": {
        "id": "7lCuBuZeqKYg"
      },
      "execution_count": 14,
      "outputs": []
    },
    {
      "cell_type": "markdown",
      "source": [
        "# Código principal"
      ],
      "metadata": {
        "id": "wxkL1v8Qvq49"
      }
    },
    {
      "cell_type": "code",
      "source": [
        "nlp = spacy.load('en_core_web_sm', disable=['parser', 'tagger', 'ner'])"
      ],
      "metadata": {
        "id": "HEokIQCYqedG"
      },
      "execution_count": 15,
      "outputs": []
    },
    {
      "cell_type": "markdown",
      "source": [
        "**Aumentar a quantidade de palavras máximas para trabalhar com textos grandes**"
      ],
      "metadata": {
        "id": "3oMIxmsRrdF-"
      }
    },
    {
      "cell_type": "code",
      "source": [
        "nlp.max_length = 1198623"
      ],
      "metadata": {
        "id": "cBq8EYfdqmDQ"
      },
      "execution_count": 16,
      "outputs": []
    },
    {
      "cell_type": "code",
      "source": [
        "d = read_file('/content/drive/MyDrive/NLP_with_Python_Datasets/moby_dick_four_chapters.txt')"
      ],
      "metadata": {
        "id": "73kFP4DRrcOe"
      },
      "execution_count": 17,
      "outputs": []
    },
    {
      "cell_type": "code",
      "source": [
        "#from google.colab import drive\n",
        "#drive.mount('/content/drive')"
      ],
      "metadata": {
        "id": "pvWsf3VVIIyi"
      },
      "execution_count": 18,
      "outputs": []
    },
    {
      "cell_type": "code",
      "source": [
        "tokens = separate_punc(d)"
      ],
      "metadata": {
        "colab": {
          "base_uri": "https://localhost:8080/"
        },
        "id": "bgn8U6EBtKIX",
        "outputId": "27cfa1a2-eb95-45a4-8fa2-d285bb707c2e"
      },
      "execution_count": 19,
      "outputs": [
        {
          "output_type": "stream",
          "name": "stderr",
          "text": [
            "/usr/local/lib/python3.7/dist-packages/spacy/pipeline/lemmatizer.py:211: UserWarning: [W108] The rule-based lemmatizer did not find POS annotation for one or more tokens. Check that your pipeline includes components that assign token.pos, typically 'tagger'+'attribute_ruler' or 'morphologizer'.\n",
            "  warnings.warn(Warnings.W108)\n"
          ]
        }
      ]
    },
    {
      "cell_type": "code",
      "source": [
        "len(tokens)"
      ],
      "metadata": {
        "colab": {
          "base_uri": "https://localhost:8080/"
        },
        "id": "tQq55yy5tqxI",
        "outputId": "21c66d19-8ad4-40bf-daa8-06b2d14a4e97"
      },
      "execution_count": 20,
      "outputs": [
        {
          "output_type": "execute_result",
          "data": {
            "text/plain": [
              "11338"
            ]
          },
          "metadata": {},
          "execution_count": 20
        }
      ]
    },
    {
      "cell_type": "markdown",
      "source": [
        "**Using #25 words --> network predict #26**"
      ],
      "metadata": {
        "id": "P_ZiQKIyt29i"
      }
    },
    {
      "cell_type": "code",
      "source": [
        "train_len = 25 + 1\n",
        "\n",
        "text_sequences = []\n",
        "\n",
        "for i in range(train_len, len(tokens)):\n",
        "  seq = tokens[i-train_len:i]\n",
        "  text_sequences.append(seq)"
      ],
      "metadata": {
        "id": "IAwl6_3Ctrsv"
      },
      "execution_count": 21,
      "outputs": []
    },
    {
      "cell_type": "code",
      "source": [
        "' '.join(text_sequences[0])"
      ],
      "metadata": {
        "colab": {
          "base_uri": "https://localhost:8080/",
          "height": 36
        },
        "id": "cMUv6aR_us6B",
        "outputId": "af12e802-568c-4a5d-cc42-da5305985ddb"
      },
      "execution_count": 22,
      "outputs": [
        {
          "output_type": "execute_result",
          "data": {
            "text/plain": [
              "'call me ishmael some years ago never mind how long precisely having little or no money in my purse and nothing particular to interest me on'"
            ],
            "application/vnd.google.colaboratory.intrinsic+json": {
              "type": "string"
            }
          },
          "metadata": {},
          "execution_count": 22
        }
      ]
    },
    {
      "cell_type": "code",
      "source": [
        "' '.join(text_sequences[1])"
      ],
      "metadata": {
        "colab": {
          "base_uri": "https://localhost:8080/",
          "height": 36
        },
        "id": "lgeFZW74u6YP",
        "outputId": "d65d3b62-8aba-4bf0-a156-def1457f6349"
      },
      "execution_count": 23,
      "outputs": [
        {
          "output_type": "execute_result",
          "data": {
            "text/plain": [
              "'me ishmael some years ago never mind how long precisely having little or no money in my purse and nothing particular to interest me on shore'"
            ],
            "application/vnd.google.colaboratory.intrinsic+json": {
              "type": "string"
            }
          },
          "metadata": {},
          "execution_count": 23
        }
      ]
    },
    {
      "cell_type": "markdown",
      "source": [
        "# Transformar as sequencias de textos em sequencias de números (tokenizer)"
      ],
      "metadata": {
        "id": "0p35YFZUwqiF"
      }
    },
    {
      "cell_type": "code",
      "source": [
        "tokenizer = Tokenizer()"
      ],
      "metadata": {
        "id": "VFjewsmMvTWA"
      },
      "execution_count": 24,
      "outputs": []
    },
    {
      "cell_type": "code",
      "source": [
        "tokenizer.fit_on_texts(text_sequences)"
      ],
      "metadata": {
        "id": "teSrvNTTv1R-"
      },
      "execution_count": 25,
      "outputs": []
    },
    {
      "cell_type": "code",
      "source": [
        "sequences = tokenizer.texts_to_sequences(text_sequences)"
      ],
      "metadata": {
        "id": "eV_dsNX3wGPu"
      },
      "execution_count": 26,
      "outputs": []
    },
    {
      "cell_type": "code",
      "source": [
        "sequences[0]"
      ],
      "metadata": {
        "colab": {
          "base_uri": "https://localhost:8080/"
        },
        "id": "WACFfZ2CwWbm",
        "outputId": "b6daffae-9857-4bc8-b6c7-29fd14bcc009"
      },
      "execution_count": 27,
      "outputs": [
        {
          "output_type": "execute_result",
          "data": {
            "text/plain": [
              "[956,\n",
              " 14,\n",
              " 263,\n",
              " 51,\n",
              " 261,\n",
              " 408,\n",
              " 87,\n",
              " 219,\n",
              " 129,\n",
              " 111,\n",
              " 954,\n",
              " 260,\n",
              " 50,\n",
              " 43,\n",
              " 38,\n",
              " 314,\n",
              " 7,\n",
              " 23,\n",
              " 546,\n",
              " 3,\n",
              " 150,\n",
              " 259,\n",
              " 6,\n",
              " 2713,\n",
              " 14,\n",
              " 24]"
            ]
          },
          "metadata": {},
          "execution_count": 27
        }
      ]
    },
    {
      "cell_type": "markdown",
      "source": [
        "**Dicionário contendo o número correspondente a cada palavra**"
      ],
      "metadata": {
        "id": "ytP2cAimw83u"
      }
    },
    {
      "cell_type": "code",
      "source": [
        "for i in sequences[0]:\n",
        "  print(f'{i} : {tokenizer.index_word[i]}')\n",
        "#tokenizer.index_word"
      ],
      "metadata": {
        "colab": {
          "base_uri": "https://localhost:8080/"
        },
        "id": "C9mqvWs_wXyO",
        "outputId": "2242fa6e-077b-4908-9dd2-acce7d677677"
      },
      "execution_count": 28,
      "outputs": [
        {
          "output_type": "stream",
          "name": "stdout",
          "text": [
            "956 : call\n",
            "14 : me\n",
            "263 : ishmael\n",
            "51 : some\n",
            "261 : years\n",
            "408 : ago\n",
            "87 : never\n",
            "219 : mind\n",
            "129 : how\n",
            "111 : long\n",
            "954 : precisely\n",
            "260 : having\n",
            "50 : little\n",
            "43 : or\n",
            "38 : no\n",
            "314 : money\n",
            "7 : in\n",
            "23 : my\n",
            "546 : purse\n",
            "3 : and\n",
            "150 : nothing\n",
            "259 : particular\n",
            "6 : to\n",
            "2713 : interest\n",
            "14 : me\n",
            "24 : on\n"
          ]
        }
      ]
    },
    {
      "cell_type": "markdown",
      "source": [
        "**Exibir a quantidade de vezes que cada palavra apareceu no texto**"
      ],
      "metadata": {
        "id": "5b7q0qiLxvEa"
      }
    },
    {
      "cell_type": "code",
      "source": [
        "tokenizer.word_counts"
      ],
      "metadata": {
        "colab": {
          "base_uri": "https://localhost:8080/"
        },
        "id": "uCBw3QkRwi5X",
        "outputId": "f5e5b5c5-11f1-4d16-8fe3-2a92c5bdfbad"
      },
      "execution_count": 29,
      "outputs": [
        {
          "output_type": "execute_result",
          "data": {
            "text/plain": [
              "OrderedDict([('call', 27),\n",
              "             ('me', 2471),\n",
              "             ('ishmael', 133),\n",
              "             ('some', 758),\n",
              "             ('years', 135),\n",
              "             ('ago', 84),\n",
              "             ('never', 449),\n",
              "             ('mind', 164),\n",
              "             ('how', 321),\n",
              "             ('long', 374),\n",
              "             ('precisely', 37),\n",
              "             ('having', 142),\n",
              "             ('little', 767),\n",
              "             ('or', 950),\n",
              "             ('no', 1003),\n",
              "             ('money', 120),\n",
              "             ('in', 5647),\n",
              "             ('my', 1786),\n",
              "             ('purse', 71),\n",
              "             ('and', 9646),\n",
              "             ('nothing', 281),\n",
              "             ('particular', 152),\n",
              "             ('to', 6497),\n",
              "             ('interest', 24),\n",
              "             ('on', 1716),\n",
              "             ('shore', 26),\n",
              "             ('i', 7150),\n",
              "             ('thought', 676),\n",
              "             ('would', 702),\n",
              "             ('sail', 104),\n",
              "             ('about', 1014),\n",
              "             ('a', 10377),\n",
              "             ('see', 416),\n",
              "             ('the', 15540),\n",
              "             ('watery', 26),\n",
              "             ('part', 234),\n",
              "             ('of', 8287),\n",
              "             ('world', 234),\n",
              "             ('it', 4238),\n",
              "             ('is', 1950),\n",
              "             ('way', 390),\n",
              "             ('have', 806),\n",
              "             ('driving', 26),\n",
              "             ('off', 416),\n",
              "             ('spleen', 26),\n",
              "             ('regulating', 26),\n",
              "             ('circulation', 26),\n",
              "             ('whenever', 130),\n",
              "             ('find', 78),\n",
              "             ('myself', 416),\n",
              "             ('growing', 26),\n",
              "             ('grim', 26),\n",
              "             ('mouth', 130),\n",
              "             ('damp', 78),\n",
              "             ('drizzly', 26),\n",
              "             ('november', 26),\n",
              "             ('soul', 78),\n",
              "             ('involuntarily', 52),\n",
              "             ('pausing', 52),\n",
              "             ('before', 364),\n",
              "             ('coffin', 104),\n",
              "             ('warehouses', 52),\n",
              "             ('bringing', 26),\n",
              "             ('up', 1237),\n",
              "             ('rear', 26),\n",
              "             ('every', 182),\n",
              "             ('funeral', 26),\n",
              "             ('meet', 26),\n",
              "             ('especially', 104),\n",
              "             ('hypos', 26),\n",
              "             ('get', 364),\n",
              "             ('such', 572),\n",
              "             ('an', 806),\n",
              "             ('upper', 26),\n",
              "             ('hand', 312),\n",
              "             ('that', 3770),\n",
              "             ('requires', 52),\n",
              "             ('strong', 78),\n",
              "             ('moral', 26),\n",
              "             ('principle', 26),\n",
              "             ('prevent', 26),\n",
              "             ('from', 1508),\n",
              "             ('deliberately', 26),\n",
              "             ('stepping', 26),\n",
              "             ('into', 988),\n",
              "             ('street', 104),\n",
              "             ('methodically', 26),\n",
              "             ('knocking', 26),\n",
              "             ('people', 52),\n",
              "             (\"'s\", 1691),\n",
              "             ('hats', 26),\n",
              "             ('then', 832),\n",
              "             ('account', 78),\n",
              "             ('high', 130),\n",
              "             ('time', 520),\n",
              "             ('sea', 546),\n",
              "             ('as', 2366),\n",
              "             ('soon', 234),\n",
              "             ('can', 338),\n",
              "             ('this', 2158),\n",
              "             ('substitute', 26),\n",
              "             ('for', 1820),\n",
              "             ('pistol', 26),\n",
              "             ('ball', 26),\n",
              "             ('with', 2392),\n",
              "             ('philosophical', 26),\n",
              "             ('flourish', 26),\n",
              "             ('cato', 26),\n",
              "             ('throws', 26),\n",
              "             ('himself', 338),\n",
              "             ('upon', 780),\n",
              "             ('his', 3139),\n",
              "             ('sword', 78),\n",
              "             ('quietly', 78),\n",
              "             ('take', 260),\n",
              "             ('ship', 182),\n",
              "             ('there', 1456),\n",
              "             ('surprising', 26),\n",
              "             ('if', 728),\n",
              "             ('they', 728),\n",
              "             ('but', 2652),\n",
              "             ('knew', 130),\n",
              "             ('almost', 286),\n",
              "             ('all', 1872),\n",
              "             ('men', 130),\n",
              "             ('their', 390),\n",
              "             ('degree', 78),\n",
              "             ('other', 494),\n",
              "             ('cherish', 26),\n",
              "             ('very', 494),\n",
              "             ('nearly', 52),\n",
              "             ('same', 312),\n",
              "             ('feelings', 26),\n",
              "             ('towards', 260),\n",
              "             ('ocean', 52),\n",
              "             ('now', 1040),\n",
              "             ('your', 442),\n",
              "             ('insular', 26),\n",
              "             ('city', 104),\n",
              "             ('manhattoes', 26),\n",
              "             ('belted', 26),\n",
              "             ('round', 364),\n",
              "             ('by', 962),\n",
              "             ('wharves', 26),\n",
              "             ('indian', 52),\n",
              "             ('isles', 26),\n",
              "             ('coral', 26),\n",
              "             ('reefs', 26),\n",
              "             ('commerce', 26),\n",
              "             ('surrounds', 26),\n",
              "             ('her', 156),\n",
              "             ('surf', 26),\n",
              "             ('right', 156),\n",
              "             ('left', 78),\n",
              "             ('streets', 208),\n",
              "             ('you', 2158),\n",
              "             ('waterward', 52),\n",
              "             ('its', 156),\n",
              "             ('extreme', 26),\n",
              "             ('downtown', 26),\n",
              "             ('battery', 52),\n",
              "             ('where', 364),\n",
              "             ('noble', 52),\n",
              "             ('mole', 26),\n",
              "             ('washed', 52),\n",
              "             ('waves', 26),\n",
              "             ('cooled', 26),\n",
              "             ('breezes', 26),\n",
              "             ('which', 572),\n",
              "             ('few', 104),\n",
              "             ('hours', 130),\n",
              "             ('previous', 104),\n",
              "             ('were', 962),\n",
              "             ('out', 956),\n",
              "             ('sight', 104),\n",
              "             ('land', 208),\n",
              "             ('look', 156),\n",
              "             ('at', 2184),\n",
              "             ('crowds', 52),\n",
              "             ('water', 234),\n",
              "             ('gazers', 26),\n",
              "             ('circumambulate', 26),\n",
              "             ('dreamy', 26),\n",
              "             ('sabbath', 52),\n",
              "             ('afternoon', 52),\n",
              "             ('go', 494),\n",
              "             ('corlears', 26),\n",
              "             ('hook', 26),\n",
              "             ('coenties', 26),\n",
              "             ('slip', 26),\n",
              "             ('thence', 52),\n",
              "             ('whitehall', 26),\n",
              "             ('northward', 26),\n",
              "             ('what', 1118),\n",
              "             ('do', 702),\n",
              "             ('see?--posted', 26),\n",
              "             ('like', 732),\n",
              "             ('silent', 52),\n",
              "             ('sentinels', 26),\n",
              "             ('around', 78),\n",
              "             ('town', 156),\n",
              "             ('stand', 182),\n",
              "             ('thousands', 52),\n",
              "             ('mortal', 26),\n",
              "             ('fixed', 78),\n",
              "             ('reveries', 52),\n",
              "             ('leaning', 52),\n",
              "             ('against', 234),\n",
              "             ('spiles', 26),\n",
              "             ('seated', 52),\n",
              "             ('pier', 26),\n",
              "             ('heads', 338),\n",
              "             ('looking', 312),\n",
              "             ('over', 702),\n",
              "             ('bulwarks', 52),\n",
              "             ('ships', 78),\n",
              "             ('china', 26),\n",
              "             ('aloft', 52),\n",
              "             ('rigging', 26),\n",
              "             ('striving', 26),\n",
              "             ('still', 364),\n",
              "             ('better', 208),\n",
              "             ('seaward', 26),\n",
              "             ('peep', 26),\n",
              "             ('these', 494),\n",
              "             ('are', 416),\n",
              "             ('landsmen', 26),\n",
              "             ('week', 52),\n",
              "             ('days', 104),\n",
              "             ('pent', 26),\n",
              "             ('lath', 26),\n",
              "             ('plaster', 52),\n",
              "             ('tied', 26),\n",
              "             ('counters', 26),\n",
              "             ('nailed', 26),\n",
              "             ('benches', 26),\n",
              "             ('clinched', 26),\n",
              "             ('desks', 26),\n",
              "             ('green', 130),\n",
              "             ('fields', 26),\n",
              "             ('gone', 52),\n",
              "             ('here', 598),\n",
              "             ('come', 338),\n",
              "             ('more', 494),\n",
              "             ('pacing', 26),\n",
              "             ('straight', 104),\n",
              "             ('seemingly', 26),\n",
              "             ('bound', 52),\n",
              "             ('dive', 26),\n",
              "             ('strange', 182),\n",
              "             ('will', 260),\n",
              "             ('content', 52),\n",
              "             ('them', 442),\n",
              "             ('extremest', 26),\n",
              "             ('limit', 26),\n",
              "             ('loitering', 26),\n",
              "             ('under', 260),\n",
              "             ('shady', 26),\n",
              "             ('lee', 26),\n",
              "             ('yonder', 52),\n",
              "             ('not', 1534),\n",
              "             ('suffice', 26),\n",
              "             ('must', 442),\n",
              "             ('just', 390),\n",
              "             ('nigh', 104),\n",
              "             ('possibly', 26),\n",
              "             ('without', 182),\n",
              "             ('falling', 52),\n",
              "             ('miles', 78),\n",
              "             ('leagues', 26),\n",
              "             ('inlanders', 26),\n",
              "             ('lanes', 26),\n",
              "             ('alleys', 26),\n",
              "             ('avenues', 26),\n",
              "             ('north', 52),\n",
              "             ('east', 26),\n",
              "             ('south', 156),\n",
              "             ('west', 26),\n",
              "             ('yet', 416),\n",
              "             ('unite', 26),\n",
              "             ('tell', 442),\n",
              "             ('does', 156),\n",
              "             ('magnetic', 26),\n",
              "             ('virtue', 26),\n",
              "             ('needles', 26),\n",
              "             ('compasses', 26),\n",
              "             ('those', 234),\n",
              "             ('attract', 26),\n",
              "             ('thither', 26),\n",
              "             ('once', 208),\n",
              "             ('say', 286),\n",
              "             ('country', 78),\n",
              "             ('lakes', 26),\n",
              "             ('any', 364),\n",
              "             ('path', 26),\n",
              "             ('please', 52),\n",
              "             ('ten', 52),\n",
              "             ('one', 1300),\n",
              "             ('carries', 26),\n",
              "             ('down', 468),\n",
              "             ('dale', 26),\n",
              "             ('leaves', 52),\n",
              "             ('pool', 26),\n",
              "             ('stream', 78),\n",
              "             ('magic', 52),\n",
              "             ('let', 156),\n",
              "             ('most', 468),\n",
              "             ('absent', 26),\n",
              "             ('minded', 26),\n",
              "             ('be', 1716),\n",
              "             ('plunged', 52),\n",
              "             ('deepest', 26),\n",
              "             ('man', 572),\n",
              "             ('legs', 104),\n",
              "             ('set', 156),\n",
              "             ('feet', 182),\n",
              "             ('going', 260),\n",
              "             ('he', 3247),\n",
              "             ('infallibly', 26),\n",
              "             ('lead', 78),\n",
              "             ('region', 26),\n",
              "             ('should', 286),\n",
              "             ('ever', 338),\n",
              "             ('athirst', 26),\n",
              "             ('great', 376),\n",
              "             ('american', 78),\n",
              "             ('desert', 26),\n",
              "             ('try', 104),\n",
              "             ('experiment', 26),\n",
              "             ('caravan', 26),\n",
              "             ('happen', 26),\n",
              "             ('supplied', 26),\n",
              "             ('metaphysical', 52),\n",
              "             ('professor', 26),\n",
              "             ('yes', 104),\n",
              "             ('knows', 26),\n",
              "             ('meditation', 26),\n",
              "             ('wedded', 26),\n",
              "             ('artist', 78),\n",
              "             ('desires', 26),\n",
              "             ('paint', 26),\n",
              "             ('dreamiest', 26),\n",
              "             ('shadiest', 26),\n",
              "             ('quietest', 26),\n",
              "             ('enchanting', 26),\n",
              "             ('bit', 130),\n",
              "             ('romantic', 26),\n",
              "             ('landscape', 26),\n",
              "             ('valley', 26),\n",
              "             ('saco', 26),\n",
              "             ('chief', 52),\n",
              "             ('element', 26),\n",
              "             ('employs', 26),\n",
              "             ('trees', 26),\n",
              "             ('each', 78),\n",
              "             ('hollow', 26),\n",
              "             ('trunk', 52),\n",
              "             ('hermit', 26),\n",
              "             ('crucifix', 26),\n",
              "             ('within', 130),\n",
              "             ('sleeps', 26),\n",
              "             ('meadow', 52),\n",
              "             ('sleep', 416),\n",
              "             ('cattle', 26),\n",
              "             ('cottage', 26),\n",
              "             ('goes', 78),\n",
              "             ('sleepy', 26),\n",
              "             ('smoke', 52),\n",
              "             ('deep', 78),\n",
              "             ('distant', 78),\n",
              "             ('woodlands', 26),\n",
              "             ('winds', 78),\n",
              "             ('mazy', 26),\n",
              "             ('reaching', 52),\n",
              "             ('overlapping', 26),\n",
              "             ('spurs', 26),\n",
              "             ('mountains', 26),\n",
              "             ('bathed', 26),\n",
              "             ('hill', 52),\n",
              "             ('side', 286),\n",
              "             ('blue', 78),\n",
              "             ('though', 494),\n",
              "             ('picture', 130),\n",
              "             ('lies', 26),\n",
              "             ('thus', 52),\n",
              "             ('tranced', 26),\n",
              "             ('pine', 52),\n",
              "             ('tree', 26),\n",
              "             ('shakes', 26),\n",
              "             ('sighs', 52),\n",
              "             ('shepherd', 52),\n",
              "             ('head', 598),\n",
              "             ('vain', 26),\n",
              "             ('unless', 104),\n",
              "             ('eye', 26),\n",
              "             ('him', 1092),\n",
              "             ('visit', 26),\n",
              "             ('prairies', 26),\n",
              "             ('june', 52),\n",
              "             ('when', 650),\n",
              "             ('scores', 52),\n",
              "             ('wade', 26),\n",
              "             ('knee', 26),\n",
              "             ('among', 78),\n",
              "             ('tiger', 26),\n",
              "             ('lilies', 26),\n",
              "             ('charm', 26),\n",
              "             ('wanting?--water', 26),\n",
              "             ('drop', 26),\n",
              "             ('niagara', 26),\n",
              "             ('cataract', 26),\n",
              "             ('sand', 26),\n",
              "             ('travel', 26),\n",
              "             ('thousand', 52),\n",
              "             ('why', 286),\n",
              "             ('did', 572),\n",
              "             ('poor', 104),\n",
              "             ('poet', 26),\n",
              "             ('tennessee', 26),\n",
              "             ('suddenly', 78),\n",
              "             ('receiving', 26),\n",
              "             ('two', 338),\n",
              "             ('handfuls', 26),\n",
              "             ('silver', 26),\n",
              "             ('deliberate', 26),\n",
              "             ('whether', 182),\n",
              "             ('buy', 26),\n",
              "             ('coat', 104),\n",
              "             ('sadly', 52),\n",
              "             ('needed', 26),\n",
              "             ('invest', 26),\n",
              "             ('pedestrian', 26),\n",
              "             ('trip', 26),\n",
              "             ('rockaway', 26),\n",
              "             ('beach', 26),\n",
              "             ('robust', 52),\n",
              "             ('healthy', 52),\n",
              "             ('boy', 52),\n",
              "             ('crazy', 52),\n",
              "             ('first', 494),\n",
              "             ('voyage', 208),\n",
              "             ('passenger', 104),\n",
              "             ('yourself', 156),\n",
              "             ('feel', 78),\n",
              "             ('mystical', 26),\n",
              "             ('vibration', 26),\n",
              "             ('told', 130),\n",
              "             ('old', 754),\n",
              "             ('persians', 26),\n",
              "             ('hold', 52),\n",
              "             ('holy', 52),\n",
              "             ('greeks', 26),\n",
              "             ('give', 208),\n",
              "             ('separate', 26),\n",
              "             ('deity', 26),\n",
              "             ('own', 286),\n",
              "             ('brother', 52),\n",
              "             ('jove', 26),\n",
              "             ('surely', 26),\n",
              "             ('meaning', 78),\n",
              "             ('deeper', 26),\n",
              "             ('story', 130),\n",
              "             ('narcissus', 26),\n",
              "             ('who', 416),\n",
              "             ('because', 182),\n",
              "             ('could', 650),\n",
              "             ('grasp', 26),\n",
              "             ('tormenting', 26),\n",
              "             ('mild', 26),\n",
              "             ('image', 156),\n",
              "             ('saw', 156),\n",
              "             ('fountain', 26),\n",
              "             ('was', 2886),\n",
              "             ('drowned', 26),\n",
              "             ('we', 286),\n",
              "             ('ourselves', 52),\n",
              "             ('rivers', 26),\n",
              "             ('oceans', 26),\n",
              "             ('ungraspable', 26),\n",
              "             ('phantom', 78),\n",
              "             ('life', 78),\n",
              "             ('key', 26),\n",
              "             ('am', 156),\n",
              "             ('habit', 26),\n",
              "             ('begin', 52),\n",
              "             ('grow', 52),\n",
              "             ('hazy', 26),\n",
              "             ('eyes', 182),\n",
              "             ('conscious', 26),\n",
              "             ('lungs', 26),\n",
              "             ('mean', 130),\n",
              "             ('inferred', 52),\n",
              "             ('needs', 52),\n",
              "             ('rag', 26),\n",
              "             ('something', 312),\n",
              "             ('besides', 156),\n",
              "             ('passengers', 78),\n",
              "             ('sick', 26),\n",
              "             ('quarrelsome', 26),\n",
              "             (\"don't\", 52),\n",
              "             ('nights', 26),\n",
              "             ('enjoy', 26),\n",
              "             ('themselves', 52),\n",
              "             ('much', 442),\n",
              "             ('general', 26),\n",
              "             ('thing;--no', 26),\n",
              "             ('nor', 78),\n",
              "             ('salt', 26),\n",
              "             ('commodore', 52),\n",
              "             ('captain', 52),\n",
              "             ('cook', 52),\n",
              "             ('abandon', 26),\n",
              "             ('glory', 52),\n",
              "             ('distinction', 26),\n",
              "             ('offices', 26),\n",
              "             ('abominate', 26),\n",
              "             ('honourable', 26),\n",
              "             ('respectable', 26),\n",
              "             ('toils', 26),\n",
              "             ('trials', 26),\n",
              "             ('tribulations', 26),\n",
              "             ('kind', 78),\n",
              "             ('whatsoever', 52),\n",
              "             ('quite', 78),\n",
              "             ('care', 78),\n",
              "             ('taking', 104),\n",
              "             ('barques', 26),\n",
              "             ('brigs', 26),\n",
              "             ('schooners', 26),\n",
              "             ('cook,--though', 26),\n",
              "             ('confess', 52),\n",
              "             ('considerable', 26),\n",
              "             ('being', 390),\n",
              "             ('sort', 494),\n",
              "             ('officer', 52),\n",
              "             ('board', 78),\n",
              "             ('somehow', 78),\n",
              "             ('fancied', 26),\n",
              "             ('broiling', 26),\n",
              "             ('fowls;--though', 26),\n",
              "             ('broiled', 78),\n",
              "             ('judiciously', 26),\n",
              "             ('buttered', 26),\n",
              "             ('judgmatically', 26),\n",
              "             ('salted', 26),\n",
              "             ('peppered', 26),\n",
              "             ('speak', 130),\n",
              "             ('respectfully', 52),\n",
              "             ('reverentially', 26),\n",
              "             ('fowl', 26),\n",
              "             ('than', 390),\n",
              "             ('idolatrous', 26),\n",
              "             ('dotings', 26),\n",
              "             ('egyptians', 26),\n",
              "             ('ibis', 26),\n",
              "             ('roasted', 26),\n",
              "             ('river', 26),\n",
              "             ('horse', 52),\n",
              "             ('mummies', 26),\n",
              "             ('creatures', 26),\n",
              "             ('huge', 52),\n",
              "             ('bake', 26),\n",
              "             ('houses', 52),\n",
              "             ('pyramids', 26),\n",
              "             ('simple', 26),\n",
              "             ('sailor', 156),\n",
              "             ('mast', 78),\n",
              "             ('plumb', 26),\n",
              "             ('forecastle', 52),\n",
              "             ('royal', 26),\n",
              "             ('true', 104),\n",
              "             ('rather', 208),\n",
              "             ('order', 130),\n",
              "             ('make', 260),\n",
              "             ('jump', 52),\n",
              "             ('spar', 52),\n",
              "             ('grasshopper', 26),\n",
              "             ('may', 312),\n",
              "             ('thing', 104),\n",
              "             ('unpleasant', 26),\n",
              "             ('enough', 338),\n",
              "             ('touches', 26),\n",
              "             ('sense', 78),\n",
              "             ('honour', 26),\n",
              "             ('particularly', 52),\n",
              "             ('established', 26),\n",
              "             ('family', 26),\n",
              "             ('van', 26),\n",
              "             ('rensselaers', 26),\n",
              "             ('randolphs', 26),\n",
              "             ('hardicanutes', 26),\n",
              "             ('putting', 52),\n",
              "             ('tar', 52),\n",
              "             ('pot', 26),\n",
              "             ('been', 468),\n",
              "             ('lording', 26),\n",
              "             ('schoolmaster', 52),\n",
              "             ('making', 130),\n",
              "             ('tallest', 26),\n",
              "             ('boys', 52),\n",
              "             ('awe', 26),\n",
              "             ('transition', 52),\n",
              "             ('keen', 26),\n",
              "             ('assure', 26),\n",
              "             ('decoction', 26),\n",
              "             ('seneca', 26),\n",
              "             ('stoics', 26),\n",
              "             ('enable', 26),\n",
              "             ('grin', 52),\n",
              "             ('bear', 52),\n",
              "             ('even', 130),\n",
              "             ('wears', 26),\n",
              "             ('hunks', 52),\n",
              "             ('orders', 26),\n",
              "             ('broom', 26),\n",
              "             ('sweep', 52),\n",
              "             ('decks', 26),\n",
              "             ('indignity', 26),\n",
              "             ('amount', 26),\n",
              "             ('weighed', 52),\n",
              "             ('scales', 26),\n",
              "             ('new', 286),\n",
              "             ('testament', 26),\n",
              "             ('think', 182),\n",
              "             ('archangel', 26),\n",
              "             ('gabriel', 26),\n",
              "             ('thinks', 182),\n",
              "             ('anything', 52),\n",
              "             ('less', 52),\n",
              "             ('promptly', 26),\n",
              "             ('obey', 26),\n",
              "             ('instance', 26),\n",
              "             ('ai', 104),\n",
              "             (\"n't\", 624),\n",
              "             ('slave', 26),\n",
              "             ('well', 208),\n",
              "             ('however', 208),\n",
              "             ('captains', 26),\n",
              "             ('thump', 52),\n",
              "             ('punch', 26),\n",
              "             ('satisfaction', 26),\n",
              "             ('knowing', 78),\n",
              "             ('everybody', 26),\n",
              "             ('else', 208),\n",
              "             ('served', 26),\n",
              "             ('either', 78),\n",
              "             ('physical', 26),\n",
              "             ('point', 52),\n",
              "             ('view', 52),\n",
              "             ('so', 1066),\n",
              "             ('universal', 26),\n",
              "             ('passed', 78),\n",
              "             ('hands', 78),\n",
              "             ('rub', 26),\n",
              "             ('shoulder', 26),\n",
              "             ('blades', 26),\n",
              "             ('again', 286),\n",
              "             ('always', 104),\n",
              "             ('paying', 78),\n",
              "             ('trouble', 26),\n",
              "             ('whereas', 26),\n",
              "             ('pay', 78),\n",
              "             ('single', 52),\n",
              "             ('penny', 78),\n",
              "             ('heard', 208),\n",
              "             ('contrary', 26),\n",
              "             ('difference', 52),\n",
              "             ('between', 234),\n",
              "             ('paid', 26),\n",
              "             ('act', 52),\n",
              "             ('perhaps', 130),\n",
              "             ('uncomfortable', 52),\n",
              "             ('infliction', 26),\n",
              "             ('orchard', 26),\n",
              "             ('thieves', 26),\n",
              "             ('entailed', 26),\n",
              "             ('us', 104),\n",
              "             ('paid,--what', 26),\n",
              "             ('compare', 52),\n",
              "             ('urbane', 26),\n",
              "             ('activity', 26),\n",
              "             ('receives', 26),\n",
              "             ('really', 104),\n",
              "             ('marvellous', 104),\n",
              "             ('considering', 26),\n",
              "             ('earnestly', 26),\n",
              "             ('believe', 26),\n",
              "             ('root', 26),\n",
              "             ('earthly', 52),\n",
              "             ('ills', 26),\n",
              "             ('monied', 26),\n",
              "             ('enter', 52),\n",
              "             ('heaven', 104),\n",
              "             ('ah', 26),\n",
              "             ('cheerfully', 26),\n",
              "             ('consign', 26),\n",
              "             ('perdition', 26),\n",
              "             ('finally', 26),\n",
              "             ('wholesome', 26),\n",
              "             ('exercise', 26),\n",
              "             ('pure', 26),\n",
              "             ('air', 104),\n",
              "             ('fore', 26),\n",
              "             ('castle', 26),\n",
              "             ('deck', 52),\n",
              "             ('far', 104),\n",
              "             ('prevalent', 26),\n",
              "             ('astern', 26),\n",
              "             ('violate', 26),\n",
              "             ('pythagorean', 26),\n",
              "             ('maxim', 26),\n",
              "             ('quarter', 52),\n",
              "             ('gets', 26),\n",
              "             ('atmosphere', 26),\n",
              "             ('second', 104),\n",
              "             ('sailors', 78),\n",
              "             ('breathes', 26),\n",
              "             ('commonalty', 26),\n",
              "             ('leaders', 52),\n",
              "             ('many', 104),\n",
              "             ('things', 130),\n",
              "             ('suspect', 26),\n",
              "             ('wherefore', 26),\n",
              "             ('after', 234),\n",
              "             ('repeatedly', 26),\n",
              "             ('smelt', 52),\n",
              "             ('merchant', 26),\n",
              "             ('whaling', 234),\n",
              "             ('invisible', 26),\n",
              "             ('police', 26),\n",
              "             ('fates', 52),\n",
              "             ('has', 104),\n",
              "             ('constant', 26),\n",
              "             ('surveillance', 26),\n",
              "             ('secretly', 26),\n",
              "             ('dogs', 26),\n",
              "             ('influences', 26),\n",
              "             ('unaccountable', 104),\n",
              "             ('answer', 130),\n",
              "             ('doubtless', 52),\n",
              "             ('formed', 52),\n",
              "             ('grand', 104),\n",
              "             ('programme', 26),\n",
              "             ('providence', 26),\n",
              "             ('drawn', 26),\n",
              "             ('came', 286),\n",
              "             ('brief', 26),\n",
              "             ('interlude', 26),\n",
              "             ('solo', 26),\n",
              "             ('extensive', 26),\n",
              "             ('performances', 26),\n",
              "             ('bill', 26),\n",
              "             ('run', 52),\n",
              "             ('contested', 26),\n",
              "             ('election', 26),\n",
              "             ('presidency', 26),\n",
              "             ('united', 26),\n",
              "             ('states', 26),\n",
              "             ('bloody', 26),\n",
              "             ('battle', 26),\n",
              "             ('affghanistan', 26),\n",
              "             ('exactly', 78),\n",
              "             ('stage', 52),\n",
              "             ('managers', 26),\n",
              "             ('put', 208),\n",
              "             ('shabby', 52),\n",
              "             ('others', 52),\n",
              "             ('magnificent', 26),\n",
              "             ('parts', 130),\n",
              "             ('tragedies', 26),\n",
              "             ('short', 78),\n",
              "             ('easy', 78),\n",
              "             ('genteel', 26),\n",
              "             ('comedies', 26),\n",
              "             ('jolly', 104),\n",
              "             ('farces', 26),\n",
              "             ('recall', 26),\n",
              "             ('circumstances', 52),\n",
              "             ('springs', 26),\n",
              "             ('motives', 52),\n",
              "             ('cunningly', 26),\n",
              "             ('presented', 26),\n",
              "             ('various', 52),\n",
              "             ('disguises', 26),\n",
              "             ('induced', 26),\n",
              "             ('performing', 26),\n",
              "             ('cajoling', 26),\n",
              "             ('delusion', 26),\n",
              "             ('choice', 26),\n",
              "             ('resulting', 26),\n",
              "             ('unbiased', 26),\n",
              "             ('freewill', 26),\n",
              "             ('discriminating', 26),\n",
              "             ('judgment', 26),\n",
              "             ('overwhelming', 26),\n",
              "             ('idea', 182),\n",
              "             ('whale', 260),\n",
              "             ('portentous', 78),\n",
              "             ('mysterious', 52),\n",
              "             ('monster', 26),\n",
              "             ('roused', 26),\n",
              "             ('curiosity', 52),\n",
              "             ('wild', 130),\n",
              "             ('seas', 156),\n",
              "             ('rolled', 156),\n",
              "             ('island', 78),\n",
              "             ('bulk', 26),\n",
              "             ('undeliverable', 26),\n",
              "             ('nameless', 78),\n",
              "             ('perils', 26),\n",
              "             ('attending', 26),\n",
              "             ('marvels', 26),\n",
              "             ('patagonian', 26),\n",
              "             ('sights', 26),\n",
              "             ('sounds', 78),\n",
              "             ('helped', 26),\n",
              "             ('sway', 26),\n",
              "             ('wish', 26),\n",
              "             ('inducements', 26),\n",
              "             ('tormented', 52),\n",
              "             ('everlasting', 52),\n",
              "             ('itch', 26),\n",
              "             ('remote', 26),\n",
              "             ('love', 26),\n",
              "             ('forbidden', 26),\n",
              "             ('barbarous', 26),\n",
              "             ('coasts', 26),\n",
              "             ('ignoring', 26),\n",
              "             ('good', 442),\n",
              "             ('quick', 26),\n",
              "             ('perceive', 26),\n",
              "             ('horror', 26),\n",
              "             ('social', 26),\n",
              "             ('since', 78),\n",
              "             ('friendly', 26),\n",
              "             ('terms', 26),\n",
              "             ('inmates', 26),\n",
              "             ('place', 390),\n",
              "             ('lodges', 26),\n",
              "             ('reason', 130),\n",
              "             ('welcome', 26),\n",
              "             ('flood', 26),\n",
              "             ('gates', 26),\n",
              "             ('wonder', 52),\n",
              "             ('swung', 26),\n",
              "             ('open', 104),\n",
              "             ('conceits', 26),\n",
              "             ('swayed', 26),\n",
              "             ('purpose', 52),\n",
              "             ('floated', 52),\n",
              "             ('inmost', 26),\n",
              "             ('endless', 26),\n",
              "             ('processions', 26),\n",
              "             ('mid', 26),\n",
              "             ('hooded', 26),\n",
              "             ('snow', 78),\n",
              "             ('stuffed', 52),\n",
              "             ('shirt', 104),\n",
              "             ('carpet', 26),\n",
              "             ('bag', 182),\n",
              "             ('tucked', 26),\n",
              "             ('arm', 286),\n",
              "             ('started', 26),\n",
              "             ('cape', 104),\n",
              "             ('horn', 52),\n",
              "             ('pacific', 26),\n",
              "             ('quitting', 26),\n",
              "             ('manhatto', 26),\n",
              "             ('duly', 26),\n",
              "             ('arrived', 52),\n",
              "             ('bedford', 104),\n",
              "             ('saturday', 78),\n",
              "             ('night', 624),\n",
              "             ('december', 26),\n",
              "             ('disappointed', 26),\n",
              "             ('learning', 26),\n",
              "             ('packet', 26),\n",
              "             ('nantucket', 182),\n",
              "             ('had', 858),\n",
              "             ('already', 26),\n",
              "             ('sailed', 26),\n",
              "             ('offer', 52),\n",
              "             ('till', 156),\n",
              "             ('following', 52),\n",
              "             ('monday', 26),\n",
              "             ('young', 130),\n",
              "             ('candidates', 26),\n",
              "             ('pains', 26),\n",
              "             ('penalties', 26),\n",
              "             ('stop', 208),\n",
              "             ('embark', 52),\n",
              "             ('related', 26),\n",
              "             ('doing', 26),\n",
              "             ('made', 338),\n",
              "             ('craft', 130),\n",
              "             ('fine', 104),\n",
              "             ('boisterous', 26),\n",
              "             ('everything', 26),\n",
              "             ('connected', 26),\n",
              "             ('famous', 26),\n",
              "             ('amazingly', 26),\n",
              "             ('pleased', 52),\n",
              "             ('late', 182),\n",
              "             ('gradually', 26),\n",
              "             ('monopolising', 26),\n",
              "             ('business', 130),\n",
              "             ('matter', 78),\n",
              "             ('behind', 26),\n",
              "             ('original', 52),\n",
              "             ('tyre', 26),\n",
              "             ('carthage;--the', 26),\n",
              "             ('dead', 130),\n",
              "             ('stranded', 52),\n",
              "             ('aboriginal', 26),\n",
              "             ('whalemen', 26),\n",
              "             ('red', 78),\n",
              "             ('sally', 26),\n",
              "             ('canoes', 26),\n",
              "             ('chase', 26),\n",
              "             ('leviathan', 52),\n",
              "             ('too', 364),\n",
              "             ('adventurous', 26),\n",
              "             ('sloop', 26),\n",
              "             ('forth', 26),\n",
              "             ('partly', 78),\n",
              "             ('laden', 26),\n",
              "             ('imported', 26),\n",
              "             ('cobblestones', 26),\n",
              "             ('throw', 26),\n",
              "             ('whales', 52),\n",
              "             ('discover', 26),\n",
              "             ('risk', 26),\n",
              "             ('harpoon', 135),\n",
              "             ('bowsprit', 26),\n",
              "             ('day', 156),\n",
              "             ('another', 130),\n",
              "             ('ere', 78),\n",
              "             ('destined', 26),\n",
              "             ('port', 26),\n",
              "             ('became', 78),\n",
              "             ('concernment', 26),\n",
              "             ('eat', 26),\n",
              "             ('meanwhile', 78),\n",
              "             ('dubious', 26),\n",
              "             ('nay', 52),\n",
              "             ('dark', 208),\n",
              "             ('dismal', 52),\n",
              "             ('bitingly', 26),\n",
              "             ('cold', 182),\n",
              "             ('cheerless', 26),\n",
              "             ('anxious', 26),\n",
              "             ('grapnels', 26),\n",
              "             ('sounded', 26),\n",
              "             ('pocket', 78),\n",
              "             ('only', 364),\n",
              "             ('brought', 26),\n",
              "             ('pieces', 26),\n",
              "             ('silver,--so', 26),\n",
              "             ('wherever', 52),\n",
              "             ('said', 494),\n",
              "             ('stood', 260),\n",
              "             ('middle', 130),\n",
              "             ('dreary', 52),\n",
              "             ('shouldering', 26),\n",
              "             ('comparing', 26),\n",
              "             ('gloom', 26),\n",
              "             ('darkness', 78),\n",
              "             ('wisdom', 26),\n",
              "             ('conclude', 26),\n",
              "             ('lodge', 26),\n",
              "             ('dear', 26),\n",
              "             ('sure', 130),\n",
              "             ('inquire', 26),\n",
              "             ('price', 26),\n",
              "             ('halting', 26),\n",
              "             ('steps', 26),\n",
              "             ('paced', 26),\n",
              "             ('sign', 156),\n",
              "             ('crossed', 52),\n",
              "             ('harpoons\"--but', 26),\n",
              "             ('looked', 156),\n",
              "             ('expensive', 52),\n",
              "             ('further', 104),\n",
              "             ('bright', 52),\n",
              "             ('windows', 52),\n",
              "             ('fish', 78),\n",
              "             ('inn', 78),\n",
              "             ('fervent', 26),\n",
              "             ('rays', 26),\n",
              "             ('seemed', 416),\n",
              "             ('melted', 26),\n",
              "             ('packed', 52),\n",
              "             ('ice', 104),\n",
              "             ('house', 286),\n",
              "             ('everywhere', 26),\n",
              "             ('congealed', 26),\n",
              "             ('frost', 104),\n",
              "             ('lay', 234),\n",
              "             ('inches', 52),\n",
              "             ('thick', 52),\n",
              "             ...])"
            ]
          },
          "metadata": {},
          "execution_count": 29
        }
      ]
    },
    {
      "cell_type": "code",
      "source": [
        "vocabulary_size = len(tokenizer.word_counts)"
      ],
      "metadata": {
        "id": "DlXmZXuDxrqQ"
      },
      "execution_count": 30,
      "outputs": []
    },
    {
      "cell_type": "code",
      "source": [
        "vocabulary_size"
      ],
      "metadata": {
        "colab": {
          "base_uri": "https://localhost:8080/"
        },
        "id": "wQ6fCM8cx_dP",
        "outputId": "820b3a5d-1110-417c-f609-f240fe8b365e"
      },
      "execution_count": 31,
      "outputs": [
        {
          "output_type": "execute_result",
          "data": {
            "text/plain": [
              "2718"
            ]
          },
          "metadata": {},
          "execution_count": 31
        }
      ]
    },
    {
      "cell_type": "markdown",
      "source": [
        "# Transformar a lista contendo as sequências numéricas (tokens) em um array no qual cada linha representa uma sequência"
      ],
      "metadata": {
        "id": "xwRqKlJMycW6"
      }
    },
    {
      "cell_type": "code",
      "source": [
        "sequences = np.array(sequences)\n",
        "sequences"
      ],
      "metadata": {
        "colab": {
          "base_uri": "https://localhost:8080/"
        },
        "id": "MLBxuhdYyAfP",
        "outputId": "694a78a8-4899-4ead-91e9-09e6f6c7c640"
      },
      "execution_count": 32,
      "outputs": [
        {
          "output_type": "execute_result",
          "data": {
            "text/plain": [
              "array([[ 956,   14,  263, ..., 2713,   14,   24],\n",
              "       [  14,  263,   51, ...,   14,   24,  957],\n",
              "       [ 263,   51,  261, ...,   24,  957,    5],\n",
              "       ...,\n",
              "       [ 952,   12,  166, ...,  262,   53,    2],\n",
              "       [  12,  166, 2712, ...,   53,    2, 2718],\n",
              "       [ 166, 2712,    3, ...,    2, 2718,   26]])"
            ]
          },
          "metadata": {},
          "execution_count": 32
        }
      ]
    },
    {
      "cell_type": "markdown",
      "source": [
        "# Separar os dados em treinamento e teste"
      ],
      "metadata": {
        "id": "9U1eS4Sa--SE"
      }
    },
    {
      "cell_type": "code",
      "source": [
        "sequences[:,:-1]"
      ],
      "metadata": {
        "colab": {
          "base_uri": "https://localhost:8080/"
        },
        "id": "3Oj9T2Rlybna",
        "outputId": "804567f2-03d9-49e4-c316-630d0e4808a8"
      },
      "execution_count": 33,
      "outputs": [
        {
          "output_type": "execute_result",
          "data": {
            "text/plain": [
              "array([[ 956,   14,  263, ...,    6, 2713,   14],\n",
              "       [  14,  263,   51, ..., 2713,   14,   24],\n",
              "       [ 263,   51,  261, ...,   14,   24,  957],\n",
              "       ...,\n",
              "       [ 952,   12,  166, ...,   11,  262,   53],\n",
              "       [  12,  166, 2712, ...,  262,   53,    2],\n",
              "       [ 166, 2712,    3, ...,   53,    2, 2718]])"
            ]
          },
          "metadata": {},
          "execution_count": 33
        }
      ]
    },
    {
      "cell_type": "code",
      "source": [
        "sequences[:,-1]"
      ],
      "metadata": {
        "colab": {
          "base_uri": "https://localhost:8080/"
        },
        "id": "Qb3XHgwBAsbi",
        "outputId": "1efa9688-e384-4230-92af-d290b1595584"
      },
      "execution_count": 34,
      "outputs": [
        {
          "output_type": "execute_result",
          "data": {
            "text/plain": [
              "array([  24,  957,    5, ...,    2, 2718,   26])"
            ]
          },
          "metadata": {},
          "execution_count": 34
        }
      ]
    },
    {
      "cell_type": "code",
      "source": [
        "X = sequences[:,:-1]\n",
        "y = sequences[:,-1]"
      ],
      "metadata": {
        "id": "9bDIu957A1ZG"
      },
      "execution_count": 35,
      "outputs": []
    },
    {
      "cell_type": "code",
      "source": [
        "y = k.utils.to_categorical(y, num_classes=vocabulary_size+1)"
      ],
      "metadata": {
        "id": "GYGHLj7WANbx"
      },
      "execution_count": 36,
      "outputs": []
    },
    {
      "cell_type": "code",
      "source": [
        "X.shape"
      ],
      "metadata": {
        "colab": {
          "base_uri": "https://localhost:8080/"
        },
        "id": "oFw9Lc9KBWyy",
        "outputId": "5272ed54-8592-46d5-ee1f-31ae4a2c15ff"
      },
      "execution_count": 37,
      "outputs": [
        {
          "output_type": "execute_result",
          "data": {
            "text/plain": [
              "(11312, 25)"
            ]
          },
          "metadata": {},
          "execution_count": 37
        }
      ]
    },
    {
      "cell_type": "code",
      "source": [
        "y.shape"
      ],
      "metadata": {
        "colab": {
          "base_uri": "https://localhost:8080/"
        },
        "id": "D0VWNMdOBGjL",
        "outputId": "0b1f1891-212f-4739-a566-6b3c7db31cf8"
      },
      "execution_count": 38,
      "outputs": [
        {
          "output_type": "execute_result",
          "data": {
            "text/plain": [
              "(11312, 2719)"
            ]
          },
          "metadata": {},
          "execution_count": 38
        }
      ]
    },
    {
      "cell_type": "code",
      "source": [
        "seq_len = X.shape[1]"
      ],
      "metadata": {
        "id": "CnPNe_i1BKRK"
      },
      "execution_count": 39,
      "outputs": []
    },
    {
      "cell_type": "markdown",
      "source": [
        "# Função para criar o modelo com os parâmetros pré estabelecidos"
      ],
      "metadata": {
        "id": "HE39eUZQE8Jd"
      }
    },
    {
      "cell_type": "code",
      "source": [
        "def create_model(vocabulary_size, seq_len):\n",
        "\n",
        "  model = Sequential(name='Sequential_Text_Generator')\n",
        "  model.add(Embedding(vocabulary_size, seq_len, input_length=seq_len, name='Embedding'))\n",
        "  model.add(LSTM(150, return_sequences=True, name='LSTM_1'))\n",
        "  model.add(LSTM(150, name='LSTM_2'))\n",
        "  model.add(Dense(150, activation='relu', name='Dense_1'))\n",
        "  model.add(Dense(vocabulary_size, activation='softmax', name='Dense_2'))\n",
        "\n",
        "  model.compile(loss='categorical_crossentropy', optimizer='adam', metrics=['accuracy'])\n",
        "\n",
        "  model.summary()\n",
        "\n",
        "  return model"
      ],
      "metadata": {
        "id": "UK5V3PwUBbNJ"
      },
      "execution_count": 40,
      "outputs": []
    },
    {
      "cell_type": "code",
      "source": [
        "model = create_model(vocabulary_size+1, seq_len)"
      ],
      "metadata": {
        "colab": {
          "base_uri": "https://localhost:8080/"
        },
        "id": "0eYB3GE6E6VC",
        "outputId": "7a74d69f-db3a-4bc7-cd1f-cbad605341ad"
      },
      "execution_count": 41,
      "outputs": [
        {
          "output_type": "stream",
          "name": "stdout",
          "text": [
            "Model: \"Sequential_Text_Generator\"\n",
            "_________________________________________________________________\n",
            " Layer (type)                Output Shape              Param #   \n",
            "=================================================================\n",
            " Embedding (Embedding)       (None, 25, 25)            67975     \n",
            "                                                                 \n",
            " LSTM_1 (LSTM)               (None, 25, 150)           105600    \n",
            "                                                                 \n",
            " LSTM_2 (LSTM)               (None, 150)               180600    \n",
            "                                                                 \n",
            " Dense_1 (Dense)             (None, 150)               22650     \n",
            "                                                                 \n",
            " Dense_2 (Dense)             (None, 2719)              410569    \n",
            "                                                                 \n",
            "=================================================================\n",
            "Total params: 787,394\n",
            "Trainable params: 787,394\n",
            "Non-trainable params: 0\n",
            "_________________________________________________________________\n"
          ]
        }
      ]
    },
    {
      "cell_type": "markdown",
      "source": [
        "# Treinar o modelo"
      ],
      "metadata": {
        "id": "wUnIl8b2HroX"
      }
    },
    {
      "cell_type": "code",
      "source": [
        "with device('/device:GPU:0'):\n",
        "\n",
        "  model.fit(X, y, batch_size=128, epochs=200)"
      ],
      "metadata": {
        "colab": {
          "base_uri": "https://localhost:8080/"
        },
        "id": "A3c3HEWYFRay",
        "outputId": "11484c28-fdf6-427c-e8ca-113233f94fba"
      },
      "execution_count": 42,
      "outputs": [
        {
          "output_type": "stream",
          "name": "stdout",
          "text": [
            "Epoch 1/200\n",
            "89/89 [==============================] - 9s 11ms/step - loss: 6.8512 - accuracy: 0.0508\n",
            "Epoch 2/200\n",
            "89/89 [==============================] - 1s 10ms/step - loss: 6.3882 - accuracy: 0.0529\n",
            "Epoch 3/200\n",
            "89/89 [==============================] - 1s 10ms/step - loss: 6.3489 - accuracy: 0.0529\n",
            "Epoch 4/200\n",
            "89/89 [==============================] - 1s 10ms/step - loss: 6.2223 - accuracy: 0.0529\n",
            "Epoch 5/200\n",
            "89/89 [==============================] - 1s 10ms/step - loss: 6.1232 - accuracy: 0.0527\n",
            "Epoch 6/200\n",
            "89/89 [==============================] - 1s 10ms/step - loss: 6.0042 - accuracy: 0.0611\n",
            "Epoch 7/200\n",
            "89/89 [==============================] - 1s 10ms/step - loss: 5.8832 - accuracy: 0.0675\n",
            "Epoch 8/200\n",
            "89/89 [==============================] - 1s 10ms/step - loss: 5.7881 - accuracy: 0.0686\n",
            "Epoch 9/200\n",
            "89/89 [==============================] - 1s 10ms/step - loss: 5.7046 - accuracy: 0.0704\n",
            "Epoch 10/200\n",
            "89/89 [==============================] - 1s 10ms/step - loss: 5.6264 - accuracy: 0.0763\n",
            "Epoch 11/200\n",
            "89/89 [==============================] - 1s 10ms/step - loss: 5.5586 - accuracy: 0.0776\n",
            "Epoch 12/200\n",
            "89/89 [==============================] - 1s 10ms/step - loss: 5.4992 - accuracy: 0.0789\n",
            "Epoch 13/200\n",
            "89/89 [==============================] - 1s 10ms/step - loss: 5.4399 - accuracy: 0.0805\n",
            "Epoch 14/200\n",
            "89/89 [==============================] - 1s 10ms/step - loss: 5.3829 - accuracy: 0.0808\n",
            "Epoch 15/200\n",
            "89/89 [==============================] - 1s 10ms/step - loss: 5.3276 - accuracy: 0.0843\n",
            "Epoch 16/200\n",
            "89/89 [==============================] - 1s 10ms/step - loss: 5.2784 - accuracy: 0.0852\n",
            "Epoch 17/200\n",
            "89/89 [==============================] - 1s 10ms/step - loss: 5.2269 - accuracy: 0.0884\n",
            "Epoch 18/200\n",
            "89/89 [==============================] - 1s 13ms/step - loss: 5.1827 - accuracy: 0.0899\n",
            "Epoch 19/200\n",
            "89/89 [==============================] - 1s 14ms/step - loss: 5.1390 - accuracy: 0.0894\n",
            "Epoch 20/200\n",
            "89/89 [==============================] - 1s 12ms/step - loss: 5.0973 - accuracy: 0.0926\n",
            "Epoch 21/200\n",
            "89/89 [==============================] - 1s 10ms/step - loss: 5.0557 - accuracy: 0.0922\n",
            "Epoch 22/200\n",
            "89/89 [==============================] - 1s 10ms/step - loss: 5.0129 - accuracy: 0.0913\n",
            "Epoch 23/200\n",
            "89/89 [==============================] - 1s 10ms/step - loss: 4.9787 - accuracy: 0.0946\n",
            "Epoch 24/200\n",
            "89/89 [==============================] - 1s 10ms/step - loss: 4.9408 - accuracy: 0.0950\n",
            "Epoch 25/200\n",
            "89/89 [==============================] - 1s 10ms/step - loss: 4.9008 - accuracy: 0.0936\n",
            "Epoch 26/200\n",
            "89/89 [==============================] - 1s 10ms/step - loss: 4.8619 - accuracy: 0.0969\n",
            "Epoch 27/200\n",
            "89/89 [==============================] - 1s 10ms/step - loss: 4.8280 - accuracy: 0.0934\n",
            "Epoch 28/200\n",
            "89/89 [==============================] - 1s 10ms/step - loss: 4.7901 - accuracy: 0.0979\n",
            "Epoch 29/200\n",
            "89/89 [==============================] - 1s 10ms/step - loss: 4.7584 - accuracy: 0.0975\n",
            "Epoch 30/200\n",
            "89/89 [==============================] - 1s 10ms/step - loss: 4.7202 - accuracy: 0.0979\n",
            "Epoch 31/200\n",
            "89/89 [==============================] - 1s 10ms/step - loss: 4.6825 - accuracy: 0.1004\n",
            "Epoch 32/200\n",
            "89/89 [==============================] - 1s 10ms/step - loss: 4.6480 - accuracy: 0.1009\n",
            "Epoch 33/200\n",
            "89/89 [==============================] - 1s 11ms/step - loss: 4.6097 - accuracy: 0.1017\n",
            "Epoch 34/200\n",
            "89/89 [==============================] - 1s 10ms/step - loss: 4.5726 - accuracy: 0.1025\n",
            "Epoch 35/200\n",
            "89/89 [==============================] - 1s 11ms/step - loss: 4.5312 - accuracy: 0.1033\n",
            "Epoch 36/200\n",
            "89/89 [==============================] - 1s 10ms/step - loss: 4.4998 - accuracy: 0.1070\n",
            "Epoch 37/200\n",
            "89/89 [==============================] - 1s 10ms/step - loss: 4.4586 - accuracy: 0.1069\n",
            "Epoch 38/200\n",
            "89/89 [==============================] - 1s 10ms/step - loss: 4.4129 - accuracy: 0.1121\n",
            "Epoch 39/200\n",
            "89/89 [==============================] - 1s 11ms/step - loss: 4.3808 - accuracy: 0.1119\n",
            "Epoch 40/200\n",
            "89/89 [==============================] - 1s 10ms/step - loss: 4.3405 - accuracy: 0.1164\n",
            "Epoch 41/200\n",
            "89/89 [==============================] - 1s 11ms/step - loss: 4.3022 - accuracy: 0.1175\n",
            "Epoch 42/200\n",
            "89/89 [==============================] - 1s 10ms/step - loss: 4.2674 - accuracy: 0.1189\n",
            "Epoch 43/200\n",
            "89/89 [==============================] - 1s 10ms/step - loss: 4.2293 - accuracy: 0.1185\n",
            "Epoch 44/200\n",
            "89/89 [==============================] - 1s 10ms/step - loss: 4.1911 - accuracy: 0.1246\n",
            "Epoch 45/200\n",
            "89/89 [==============================] - 1s 10ms/step - loss: 4.1591 - accuracy: 0.1263\n",
            "Epoch 46/200\n",
            "89/89 [==============================] - 1s 10ms/step - loss: 4.1198 - accuracy: 0.1272\n",
            "Epoch 47/200\n",
            "89/89 [==============================] - 1s 10ms/step - loss: 4.0917 - accuracy: 0.1301\n",
            "Epoch 48/200\n",
            "89/89 [==============================] - 1s 10ms/step - loss: 4.0623 - accuracy: 0.1307\n",
            "Epoch 49/200\n",
            "89/89 [==============================] - 1s 10ms/step - loss: 4.0273 - accuracy: 0.1348\n",
            "Epoch 50/200\n",
            "89/89 [==============================] - 1s 10ms/step - loss: 3.9884 - accuracy: 0.1397\n",
            "Epoch 51/200\n",
            "89/89 [==============================] - 1s 10ms/step - loss: 3.9521 - accuracy: 0.1393\n",
            "Epoch 52/200\n",
            "89/89 [==============================] - 1s 10ms/step - loss: 3.9241 - accuracy: 0.1432\n",
            "Epoch 53/200\n",
            "89/89 [==============================] - 1s 10ms/step - loss: 3.8976 - accuracy: 0.1411\n",
            "Epoch 54/200\n",
            "89/89 [==============================] - 1s 10ms/step - loss: 3.8587 - accuracy: 0.1521\n",
            "Epoch 55/200\n",
            "89/89 [==============================] - 1s 10ms/step - loss: 3.8260 - accuracy: 0.1511\n",
            "Epoch 56/200\n",
            "89/89 [==============================] - 1s 10ms/step - loss: 3.8008 - accuracy: 0.1530\n",
            "Epoch 57/200\n",
            "89/89 [==============================] - 1s 10ms/step - loss: 3.7715 - accuracy: 0.1599\n",
            "Epoch 58/200\n",
            "89/89 [==============================] - 1s 10ms/step - loss: 3.7427 - accuracy: 0.1582\n",
            "Epoch 59/200\n",
            "89/89 [==============================] - 1s 10ms/step - loss: 3.7148 - accuracy: 0.1631\n",
            "Epoch 60/200\n",
            "89/89 [==============================] - 1s 10ms/step - loss: 3.6897 - accuracy: 0.1659\n",
            "Epoch 61/200\n",
            "89/89 [==============================] - 1s 10ms/step - loss: 3.6596 - accuracy: 0.1687\n",
            "Epoch 62/200\n",
            "89/89 [==============================] - 1s 10ms/step - loss: 3.6363 - accuracy: 0.1709\n",
            "Epoch 63/200\n",
            "89/89 [==============================] - 1s 10ms/step - loss: 3.6023 - accuracy: 0.1755\n",
            "Epoch 64/200\n",
            "89/89 [==============================] - 1s 10ms/step - loss: 3.5741 - accuracy: 0.1861\n",
            "Epoch 65/200\n",
            "89/89 [==============================] - 1s 10ms/step - loss: 3.5490 - accuracy: 0.1824\n",
            "Epoch 66/200\n",
            "89/89 [==============================] - 1s 10ms/step - loss: 3.5227 - accuracy: 0.1852\n",
            "Epoch 67/200\n",
            "89/89 [==============================] - 1s 12ms/step - loss: 3.5048 - accuracy: 0.1920\n",
            "Epoch 68/200\n",
            "89/89 [==============================] - 1s 13ms/step - loss: 3.4727 - accuracy: 0.1925\n",
            "Epoch 69/200\n",
            "89/89 [==============================] - 1s 13ms/step - loss: 3.4530 - accuracy: 0.1978\n",
            "Epoch 70/200\n",
            "89/89 [==============================] - 1s 10ms/step - loss: 3.4325 - accuracy: 0.1957\n",
            "Epoch 71/200\n",
            "89/89 [==============================] - 1s 10ms/step - loss: 3.4070 - accuracy: 0.1974\n",
            "Epoch 72/200\n",
            "89/89 [==============================] - 1s 10ms/step - loss: 3.3771 - accuracy: 0.2049\n",
            "Epoch 73/200\n",
            "89/89 [==============================] - 1s 10ms/step - loss: 3.3562 - accuracy: 0.2089\n",
            "Epoch 74/200\n",
            "89/89 [==============================] - 1s 10ms/step - loss: 3.3265 - accuracy: 0.2142\n",
            "Epoch 75/200\n",
            "89/89 [==============================] - 1s 10ms/step - loss: 3.3107 - accuracy: 0.2201\n",
            "Epoch 76/200\n",
            "89/89 [==============================] - 1s 10ms/step - loss: 3.2876 - accuracy: 0.2211\n",
            "Epoch 77/200\n",
            "89/89 [==============================] - 1s 10ms/step - loss: 3.2731 - accuracy: 0.2244\n",
            "Epoch 78/200\n",
            "89/89 [==============================] - 1s 10ms/step - loss: 3.2461 - accuracy: 0.2302\n",
            "Epoch 79/200\n",
            "89/89 [==============================] - 1s 10ms/step - loss: 3.2224 - accuracy: 0.2343\n",
            "Epoch 80/200\n",
            "89/89 [==============================] - 1s 10ms/step - loss: 3.1955 - accuracy: 0.2434\n",
            "Epoch 81/200\n",
            "89/89 [==============================] - 1s 10ms/step - loss: 3.1878 - accuracy: 0.2391\n",
            "Epoch 82/200\n",
            "89/89 [==============================] - 1s 10ms/step - loss: 3.1598 - accuracy: 0.2467\n",
            "Epoch 83/200\n",
            "89/89 [==============================] - 1s 10ms/step - loss: 3.1294 - accuracy: 0.2525\n",
            "Epoch 84/200\n",
            "89/89 [==============================] - 1s 10ms/step - loss: 3.1112 - accuracy: 0.2584\n",
            "Epoch 85/200\n",
            "89/89 [==============================] - 1s 10ms/step - loss: 3.0963 - accuracy: 0.2579\n",
            "Epoch 86/200\n",
            "89/89 [==============================] - 1s 10ms/step - loss: 3.0708 - accuracy: 0.2619\n",
            "Epoch 87/200\n",
            "89/89 [==============================] - 1s 10ms/step - loss: 3.0543 - accuracy: 0.2662\n",
            "Epoch 88/200\n",
            "89/89 [==============================] - 1s 10ms/step - loss: 3.0335 - accuracy: 0.2707\n",
            "Epoch 89/200\n",
            "89/89 [==============================] - 1s 10ms/step - loss: 3.0061 - accuracy: 0.2737\n",
            "Epoch 90/200\n",
            "89/89 [==============================] - 1s 10ms/step - loss: 2.9891 - accuracy: 0.2807\n",
            "Epoch 91/200\n",
            "89/89 [==============================] - 1s 10ms/step - loss: 3.1508 - accuracy: 0.2661\n",
            "Epoch 92/200\n",
            "89/89 [==============================] - 1s 10ms/step - loss: 3.8102 - accuracy: 0.2018\n",
            "Epoch 93/200\n",
            "89/89 [==============================] - 1s 10ms/step - loss: 3.1004 - accuracy: 0.2649\n",
            "Epoch 94/200\n",
            "89/89 [==============================] - 1s 10ms/step - loss: 2.9758 - accuracy: 0.2823\n",
            "Epoch 95/200\n",
            "89/89 [==============================] - 1s 10ms/step - loss: 3.0491 - accuracy: 0.2797\n",
            "Epoch 96/200\n",
            "89/89 [==============================] - 1s 10ms/step - loss: 3.0978 - accuracy: 0.2810\n",
            "Epoch 97/200\n",
            "89/89 [==============================] - 1s 10ms/step - loss: 2.9378 - accuracy: 0.2910\n",
            "Epoch 98/200\n",
            "89/89 [==============================] - 1s 10ms/step - loss: 3.1185 - accuracy: 0.2717\n",
            "Epoch 99/200\n",
            "89/89 [==============================] - 1s 10ms/step - loss: 3.2254 - accuracy: 0.2565\n",
            "Epoch 100/200\n",
            "89/89 [==============================] - 1s 10ms/step - loss: 3.1109 - accuracy: 0.2719\n",
            "Epoch 101/200\n",
            "89/89 [==============================] - 1s 10ms/step - loss: 3.0261 - accuracy: 0.2819\n",
            "Epoch 102/200\n",
            "89/89 [==============================] - 1s 10ms/step - loss: 2.9732 - accuracy: 0.2889\n",
            "Epoch 103/200\n",
            "89/89 [==============================] - 1s 10ms/step - loss: 2.9124 - accuracy: 0.3035\n",
            "Epoch 104/200\n",
            "89/89 [==============================] - 1s 10ms/step - loss: 2.8860 - accuracy: 0.3068\n",
            "Epoch 105/200\n",
            "89/89 [==============================] - 1s 10ms/step - loss: 2.8440 - accuracy: 0.3125\n",
            "Epoch 106/200\n",
            "89/89 [==============================] - 1s 10ms/step - loss: 2.8079 - accuracy: 0.3202\n",
            "Epoch 107/200\n",
            "89/89 [==============================] - 1s 10ms/step - loss: 3.2028 - accuracy: 0.2515\n",
            "Epoch 108/200\n",
            "89/89 [==============================] - 1s 10ms/step - loss: 3.3048 - accuracy: 0.2219\n",
            "Epoch 109/200\n",
            "89/89 [==============================] - 1s 10ms/step - loss: 3.3007 - accuracy: 0.2249\n",
            "Epoch 110/200\n",
            "89/89 [==============================] - 1s 10ms/step - loss: 3.1254 - accuracy: 0.2637\n",
            "Epoch 111/200\n",
            "89/89 [==============================] - 1s 10ms/step - loss: 3.0348 - accuracy: 0.2824\n",
            "Epoch 112/200\n",
            "89/89 [==============================] - 1s 10ms/step - loss: 2.9496 - accuracy: 0.2948\n",
            "Epoch 113/200\n",
            "89/89 [==============================] - 1s 10ms/step - loss: 2.8892 - accuracy: 0.3051\n",
            "Epoch 114/200\n",
            "89/89 [==============================] - 1s 10ms/step - loss: 2.8174 - accuracy: 0.3226\n",
            "Epoch 115/200\n",
            "89/89 [==============================] - 1s 10ms/step - loss: 2.7753 - accuracy: 0.3286\n",
            "Epoch 116/200\n",
            "89/89 [==============================] - 1s 10ms/step - loss: 2.7363 - accuracy: 0.3350\n",
            "Epoch 117/200\n",
            "89/89 [==============================] - 1s 10ms/step - loss: 2.6844 - accuracy: 0.3445\n",
            "Epoch 118/200\n",
            "89/89 [==============================] - 1s 10ms/step - loss: 2.6362 - accuracy: 0.3533\n",
            "Epoch 119/200\n",
            "89/89 [==============================] - 1s 10ms/step - loss: 2.6053 - accuracy: 0.3527\n",
            "Epoch 120/200\n",
            "89/89 [==============================] - 1s 10ms/step - loss: 2.5652 - accuracy: 0.3662\n",
            "Epoch 121/200\n",
            "89/89 [==============================] - 1s 10ms/step - loss: 2.5229 - accuracy: 0.3769\n",
            "Epoch 122/200\n",
            "89/89 [==============================] - 1s 10ms/step - loss: 2.4812 - accuracy: 0.3813\n",
            "Epoch 123/200\n",
            "89/89 [==============================] - 1s 10ms/step - loss: 2.4517 - accuracy: 0.3904\n",
            "Epoch 124/200\n",
            "89/89 [==============================] - 1s 10ms/step - loss: 2.4133 - accuracy: 0.3972\n",
            "Epoch 125/200\n",
            "89/89 [==============================] - 1s 10ms/step - loss: 2.3632 - accuracy: 0.4106\n",
            "Epoch 126/200\n",
            "89/89 [==============================] - 1s 10ms/step - loss: 2.3318 - accuracy: 0.4121\n",
            "Epoch 127/200\n",
            "89/89 [==============================] - 1s 10ms/step - loss: 2.2996 - accuracy: 0.4244\n",
            "Epoch 128/200\n",
            "89/89 [==============================] - 1s 10ms/step - loss: 2.2602 - accuracy: 0.4295\n",
            "Epoch 129/200\n",
            "89/89 [==============================] - 1s 10ms/step - loss: 2.2193 - accuracy: 0.4389\n",
            "Epoch 130/200\n",
            "89/89 [==============================] - 1s 10ms/step - loss: 2.1870 - accuracy: 0.4470\n",
            "Epoch 131/200\n",
            "89/89 [==============================] - 1s 10ms/step - loss: 2.1534 - accuracy: 0.4498\n",
            "Epoch 132/200\n",
            "89/89 [==============================] - 1s 10ms/step - loss: 2.1268 - accuracy: 0.4600\n",
            "Epoch 133/200\n",
            "89/89 [==============================] - 1s 10ms/step - loss: 2.0852 - accuracy: 0.4714\n",
            "Epoch 134/200\n",
            "89/89 [==============================] - 1s 10ms/step - loss: 2.0515 - accuracy: 0.4753\n",
            "Epoch 135/200\n",
            "89/89 [==============================] - 1s 10ms/step - loss: 2.0180 - accuracy: 0.4803\n",
            "Epoch 136/200\n",
            "89/89 [==============================] - 1s 10ms/step - loss: 1.9811 - accuracy: 0.4874\n",
            "Epoch 137/200\n",
            "89/89 [==============================] - 1s 10ms/step - loss: 1.9368 - accuracy: 0.5051\n",
            "Epoch 138/200\n",
            "89/89 [==============================] - 1s 10ms/step - loss: 1.9023 - accuracy: 0.5090\n",
            "Epoch 139/200\n",
            "89/89 [==============================] - 1s 11ms/step - loss: 1.8689 - accuracy: 0.5179\n",
            "Epoch 140/200\n",
            "89/89 [==============================] - 1s 10ms/step - loss: 1.8326 - accuracy: 0.5304\n",
            "Epoch 141/200\n",
            "89/89 [==============================] - 1s 10ms/step - loss: 1.8014 - accuracy: 0.5332\n",
            "Epoch 142/200\n",
            "89/89 [==============================] - 1s 10ms/step - loss: 1.7710 - accuracy: 0.5419\n",
            "Epoch 143/200\n",
            "89/89 [==============================] - 1s 10ms/step - loss: 1.7330 - accuracy: 0.5526\n",
            "Epoch 144/200\n",
            "89/89 [==============================] - 1s 10ms/step - loss: 1.7033 - accuracy: 0.5613\n",
            "Epoch 145/200\n",
            "89/89 [==============================] - 1s 10ms/step - loss: 1.6564 - accuracy: 0.5716\n",
            "Epoch 146/200\n",
            "89/89 [==============================] - 1s 10ms/step - loss: 1.6272 - accuracy: 0.5818\n",
            "Epoch 147/200\n",
            "89/89 [==============================] - 1s 10ms/step - loss: 1.6003 - accuracy: 0.5843\n",
            "Epoch 148/200\n",
            "89/89 [==============================] - 1s 11ms/step - loss: 1.5650 - accuracy: 0.5976\n",
            "Epoch 149/200\n",
            "89/89 [==============================] - 1s 10ms/step - loss: 1.5347 - accuracy: 0.6021\n",
            "Epoch 150/200\n",
            "89/89 [==============================] - 1s 10ms/step - loss: 1.5023 - accuracy: 0.6117\n",
            "Epoch 151/200\n",
            "89/89 [==============================] - 1s 10ms/step - loss: 1.4683 - accuracy: 0.6217\n",
            "Epoch 152/200\n",
            "89/89 [==============================] - 1s 10ms/step - loss: 1.4371 - accuracy: 0.6300\n",
            "Epoch 153/200\n",
            "89/89 [==============================] - 1s 10ms/step - loss: 1.4101 - accuracy: 0.6322\n",
            "Epoch 154/200\n",
            "89/89 [==============================] - 1s 10ms/step - loss: 1.3820 - accuracy: 0.6392\n",
            "Epoch 155/200\n",
            "89/89 [==============================] - 1s 10ms/step - loss: 1.3431 - accuracy: 0.6570\n",
            "Epoch 156/200\n",
            "89/89 [==============================] - 1s 10ms/step - loss: 1.3171 - accuracy: 0.6589\n",
            "Epoch 157/200\n",
            "89/89 [==============================] - 1s 10ms/step - loss: 1.2790 - accuracy: 0.6699\n",
            "Epoch 158/200\n",
            "89/89 [==============================] - 1s 10ms/step - loss: 1.2519 - accuracy: 0.6787\n",
            "Epoch 159/200\n",
            "89/89 [==============================] - 1s 10ms/step - loss: 1.2168 - accuracy: 0.6874\n",
            "Epoch 160/200\n",
            "89/89 [==============================] - 1s 10ms/step - loss: 1.1962 - accuracy: 0.6929\n",
            "Epoch 161/200\n",
            "89/89 [==============================] - 1s 10ms/step - loss: 1.1622 - accuracy: 0.7048\n",
            "Epoch 162/200\n",
            "89/89 [==============================] - 1s 10ms/step - loss: 1.1344 - accuracy: 0.7094\n",
            "Epoch 163/200\n",
            "89/89 [==============================] - 1s 10ms/step - loss: 1.0994 - accuracy: 0.7211\n",
            "Epoch 164/200\n",
            "89/89 [==============================] - 1s 10ms/step - loss: 1.0752 - accuracy: 0.7275\n",
            "Epoch 165/200\n",
            "89/89 [==============================] - 1s 10ms/step - loss: 1.0499 - accuracy: 0.7326\n",
            "Epoch 166/200\n",
            "89/89 [==============================] - 1s 11ms/step - loss: 1.0104 - accuracy: 0.7482\n",
            "Epoch 167/200\n",
            "89/89 [==============================] - 1s 10ms/step - loss: 1.0049 - accuracy: 0.7453\n",
            "Epoch 168/200\n",
            "89/89 [==============================] - 1s 10ms/step - loss: 0.9940 - accuracy: 0.7454\n",
            "Epoch 169/200\n",
            "89/89 [==============================] - 1s 10ms/step - loss: 0.9460 - accuracy: 0.7618\n",
            "Epoch 170/200\n",
            "89/89 [==============================] - 1s 10ms/step - loss: 0.9226 - accuracy: 0.7704\n",
            "Epoch 171/200\n",
            "89/89 [==============================] - 1s 10ms/step - loss: 0.8872 - accuracy: 0.7790\n",
            "Epoch 172/200\n",
            "89/89 [==============================] - 1s 10ms/step - loss: 0.8604 - accuracy: 0.7893\n",
            "Epoch 173/200\n",
            "89/89 [==============================] - 1s 10ms/step - loss: 0.8328 - accuracy: 0.7961\n",
            "Epoch 174/200\n",
            "89/89 [==============================] - 1s 10ms/step - loss: 0.7998 - accuracy: 0.8076\n",
            "Epoch 175/200\n",
            "89/89 [==============================] - 1s 10ms/step - loss: 0.7824 - accuracy: 0.8075\n",
            "Epoch 176/200\n",
            "89/89 [==============================] - 1s 10ms/step - loss: 0.7572 - accuracy: 0.8190\n",
            "Epoch 177/200\n",
            "89/89 [==============================] - 1s 10ms/step - loss: 0.7379 - accuracy: 0.8219\n",
            "Epoch 178/200\n",
            "89/89 [==============================] - 1s 10ms/step - loss: 0.7112 - accuracy: 0.8271\n",
            "Epoch 179/200\n",
            "89/89 [==============================] - 1s 10ms/step - loss: 0.6894 - accuracy: 0.8336\n",
            "Epoch 180/200\n",
            "89/89 [==============================] - 1s 10ms/step - loss: 0.6644 - accuracy: 0.8456\n",
            "Epoch 181/200\n",
            "89/89 [==============================] - 1s 10ms/step - loss: 0.6438 - accuracy: 0.8502\n",
            "Epoch 182/200\n",
            "89/89 [==============================] - 1s 10ms/step - loss: 0.6284 - accuracy: 0.8547\n",
            "Epoch 183/200\n",
            "89/89 [==============================] - 1s 10ms/step - loss: 0.6142 - accuracy: 0.8568\n",
            "Epoch 184/200\n",
            "89/89 [==============================] - 1s 13ms/step - loss: 0.5966 - accuracy: 0.8614\n",
            "Epoch 185/200\n",
            "89/89 [==============================] - 1s 14ms/step - loss: 0.5697 - accuracy: 0.8704\n",
            "Epoch 186/200\n",
            "89/89 [==============================] - 1s 14ms/step - loss: 0.5335 - accuracy: 0.8803\n",
            "Epoch 187/200\n",
            "89/89 [==============================] - 1s 12ms/step - loss: 0.5060 - accuracy: 0.8878\n",
            "Epoch 188/200\n",
            "89/89 [==============================] - 1s 11ms/step - loss: 0.4867 - accuracy: 0.8930\n",
            "Epoch 189/200\n",
            "89/89 [==============================] - 1s 11ms/step - loss: 0.4686 - accuracy: 0.9000\n",
            "Epoch 190/200\n",
            "89/89 [==============================] - 1s 11ms/step - loss: 0.4465 - accuracy: 0.9068\n",
            "Epoch 191/200\n",
            "89/89 [==============================] - 1s 11ms/step - loss: 0.4292 - accuracy: 0.9119\n",
            "Epoch 192/200\n",
            "89/89 [==============================] - 1s 11ms/step - loss: 0.4204 - accuracy: 0.9135\n",
            "Epoch 193/200\n",
            "89/89 [==============================] - 1s 10ms/step - loss: 0.4113 - accuracy: 0.9179\n",
            "Epoch 194/200\n",
            "89/89 [==============================] - 1s 11ms/step - loss: 0.3962 - accuracy: 0.9181\n",
            "Epoch 195/200\n",
            "89/89 [==============================] - 1s 10ms/step - loss: 0.3773 - accuracy: 0.9262\n",
            "Epoch 196/200\n",
            "89/89 [==============================] - 1s 10ms/step - loss: 0.3566 - accuracy: 0.9318\n",
            "Epoch 197/200\n",
            "89/89 [==============================] - 1s 10ms/step - loss: 0.3441 - accuracy: 0.9339\n",
            "Epoch 198/200\n",
            "89/89 [==============================] - 1s 10ms/step - loss: 0.3220 - accuracy: 0.9373\n",
            "Epoch 199/200\n",
            "89/89 [==============================] - 1s 10ms/step - loss: 0.3092 - accuracy: 0.9442\n",
            "Epoch 200/200\n",
            "89/89 [==============================] - 1s 10ms/step - loss: 0.2984 - accuracy: 0.9464\n"
          ]
        }
      ]
    },
    {
      "cell_type": "code",
      "source": [
        "model.save('my_mobydick_model.h5')"
      ],
      "metadata": {
        "id": "Lr-x77QqGk-R"
      },
      "execution_count": 43,
      "outputs": []
    },
    {
      "cell_type": "code",
      "source": [
        "dump(tokenizer, open('my_simpletokenizer', 'wb'))"
      ],
      "metadata": {
        "id": "bR_Jaq06HK26"
      },
      "execution_count": 44,
      "outputs": []
    },
    {
      "cell_type": "code",
      "source": [],
      "metadata": {
        "id": "r6l7QtphHYz6"
      },
      "execution_count": 44,
      "outputs": []
    }
  ]
}