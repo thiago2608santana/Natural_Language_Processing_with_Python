{
  "nbformat": 4,
  "nbformat_minor": 0,
  "metadata": {
    "colab": {
      "name": "Stop_Words.ipynb",
      "provenance": [],
      "collapsed_sections": [],
      "authorship_tag": "ABX9TyMDUVsJLdApsxVF7uQFyWAc",
      "include_colab_link": true
    },
    "kernelspec": {
      "name": "python3",
      "display_name": "Python 3"
    },
    "language_info": {
      "name": "python"
    }
  },
  "cells": [
    {
      "cell_type": "markdown",
      "metadata": {
        "id": "view-in-github",
        "colab_type": "text"
      },
      "source": [
        "<a href=\"https://colab.research.google.com/github/thiago2608santana/Natural_Language_Processing_with_Python/blob/main/Stop_Words.ipynb\" target=\"_parent\"><img src=\"https://colab.research.google.com/assets/colab-badge.svg\" alt=\"Open In Colab\"/></a>"
      ]
    },
    {
      "cell_type": "code",
      "execution_count": 1,
      "metadata": {
        "id": "HT1nngVamLLC"
      },
      "outputs": [],
      "source": [
        "import spacy"
      ]
    },
    {
      "cell_type": "code",
      "source": [
        "nlp = spacy.load('en_core_web_sm')"
      ],
      "metadata": {
        "id": "TMUQmh_HmOwd"
      },
      "execution_count": 2,
      "outputs": []
    },
    {
      "cell_type": "code",
      "source": [
        "print(nlp.Defaults.stop_words)"
      ],
      "metadata": {
        "colab": {
          "base_uri": "https://localhost:8080/"
        },
        "id": "CAIaj6XYmSA8",
        "outputId": "f0f0786b-8c06-4c21-dff8-87807e0e4136"
      },
      "execution_count": 3,
      "outputs": [
        {
          "output_type": "stream",
          "name": "stdout",
          "text": [
            "{'some', 'these', 'with', 'one', 'former', 'whose', 'on', 'am', 'hence', 'above', 'wherever', 'even', 'we', 'such', 'did', 'than', 'no', 'she', 'mostly', 'within', 'also', 'twelve', 'anything', 'which', 'will', 'bottom', 'whither', 'when', 'along', 'doing', 'used', 'us', '‘d', 'always', 'whereby', 'first', 'get', 'after', 'sometime', 'do', 'what', 'show', 'every', 'back', 'the', 'another', 'full', 'thus', 'this', 'see', 'fifty', 're', 'make', 'often', 'whatever', 'there', 'really', 'those', '’ve', 'wherein', 'that', 'cannot', 'here', 'just', 'same', 'and', 'further', 'anywhere', 'still', 'if', 'two', 'per', 'please', 'alone', 'his', 'hereafter', 'name', 'seemed', 'thereupon', 'thru', 'hundred', 'more', 'across', 'among', 'many', 'thereby', 'besides', 'they', 'although', '’re', 'been', 'anyway', 'now', 'front', 'afterwards', 'made', 'nowhere', 'somehow', 'its', 'who', 'whole', 'therein', 'seems', 'too', 'take', 'together', 'below', 'beforehand', 'therefore', 'except', 'top', 'serious', 'eleven', \"'d\", 'regarding', '’m', 'before', 'say', 'though', 'must', 'few', 'nevertheless', 'meanwhile', 'through', 'much', '‘re', 'an', 'down', 'fifteen', 'last', 'during', 'not', 'moreover', 'hers', 'out', 'whoever', 'everything', 'how', 'move', 'he', 'latter', \"'re\", 'someone', 'hereupon', 'third', 'your', \"'m\", 'namely', 'herself', 'becomes', 'them', 'so', 'between', 'herein', 'whereafter', 'otherwise', 'neither', 'themselves', 'up', 'call', 'thereafter', '’d', 'by', 'next', 'done', 'but', 'being', 'sixty', 'latterly', 'off', 'ca', 'less', 'behind', 'from', 'have', 'whether', 'nor', 'ever', 'can', '‘ve', 'himself', 'about', 'keep', 'beyond', 'anyone', 'else', 'at', 'rather', 'amount', 'while', 'in', 'thence', 'nothing', 'their', 'ours', \"'ve\", 'where', 'unless', 'other', 'yourselves', 'either', 'any', 'almost', 'formerly', 'our', 'around', 'whenever', 'enough', 'yours', 'to', 'whereupon', 'him', 'be', 'least', 'me', '’s', 'everyone', 'whence', 'however', 'give', 'might', 'somewhere', 'should', 'whereas', 'become', 'none', 'then', 'was', '’ll', 'eight', 'only', 'quite', 'is', 'once', 'i', 'noone', '‘ll', 'it', 'over', 'because', 'ten', 'since', 'of', 'n‘t', 'four', 'becoming', 'would', 'everywhere', '‘s', 'sometimes', 'hereby', 'under', 'five', 'you', 'nine', 'others', 'all', 'each', 'yet', 'forty', 'something', 'never', 'without', 'anyhow', \"n't\", 'onto', 'part', 'whom', 'became', 'beside', 'against', 'upon', 'twenty', 'very', 'towards', 'has', 'again', 'or', 'perhaps', 'elsewhere', 'mine', 'both', 'until', 'why', 'via', 'as', 'for', 'indeed', 'seem', 'nobody', 'could', 'most', 'throughout', \"'ll\", 'does', 'yourself', 'well', 'a', 'were', 'into', 'several', \"'s\", 'ourselves', 'go', 'due', 'are', 'put', 'own', 'amongst', 'seeming', 'six', 'side', 'empty', 'had', 'itself', 'her', 'three', 'may', 'using', 'n’t', 'already', '‘m', 'various', 'toward', 'my', 'myself'}\n"
          ]
        }
      ]
    },
    {
      "cell_type": "code",
      "source": [
        ""
      ],
      "metadata": {
        "id": "honEKJramWZM"
      },
      "execution_count": null,
      "outputs": []
    }
  ]
}