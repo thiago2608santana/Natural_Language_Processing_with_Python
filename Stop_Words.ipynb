{
  "nbformat": 4,
  "nbformat_minor": 0,
  "metadata": {
    "colab": {
      "name": "Stop_Words.ipynb",
      "provenance": [],
      "collapsed_sections": [],
      "authorship_tag": "ABX9TyOo4hqIras/AePoXmhRL5ba",
      "include_colab_link": true
    },
    "kernelspec": {
      "name": "python3",
      "display_name": "Python 3"
    },
    "language_info": {
      "name": "python"
    }
  },
  "cells": [
    {
      "cell_type": "markdown",
      "metadata": {
        "id": "view-in-github",
        "colab_type": "text"
      },
      "source": [
        "<a href=\"https://colab.research.google.com/github/thiago2608santana/Natural_Language_Processing_with_Python/blob/main/Stop_Words.ipynb\" target=\"_parent\"><img src=\"https://colab.research.google.com/assets/colab-badge.svg\" alt=\"Open In Colab\"/></a>"
      ]
    },
    {
      "cell_type": "code",
      "execution_count": 1,
      "metadata": {
        "id": "HT1nngVamLLC"
      },
      "outputs": [],
      "source": [
        "import spacy"
      ]
    },
    {
      "cell_type": "code",
      "source": [
        "nlp = spacy.load('en_core_web_sm')"
      ],
      "metadata": {
        "id": "TMUQmh_HmOwd"
      },
      "execution_count": 2,
      "outputs": []
    },
    {
      "cell_type": "code",
      "source": [
        "print(nlp.Defaults.stop_words)"
      ],
      "metadata": {
        "colab": {
          "base_uri": "https://localhost:8080/"
        },
        "id": "CAIaj6XYmSA8",
        "outputId": "f0f0786b-8c06-4c21-dff8-87807e0e4136"
      },
      "execution_count": 3,
      "outputs": [
        {
          "output_type": "stream",
          "name": "stdout",
          "text": [
            "{'some', 'these', 'with', 'one', 'former', 'whose', 'on', 'am', 'hence', 'above', 'wherever', 'even', 'we', 'such', 'did', 'than', 'no', 'she', 'mostly', 'within', 'also', 'twelve', 'anything', 'which', 'will', 'bottom', 'whither', 'when', 'along', 'doing', 'used', 'us', '‘d', 'always', 'whereby', 'first', 'get', 'after', 'sometime', 'do', 'what', 'show', 'every', 'back', 'the', 'another', 'full', 'thus', 'this', 'see', 'fifty', 're', 'make', 'often', 'whatever', 'there', 'really', 'those', '’ve', 'wherein', 'that', 'cannot', 'here', 'just', 'same', 'and', 'further', 'anywhere', 'still', 'if', 'two', 'per', 'please', 'alone', 'his', 'hereafter', 'name', 'seemed', 'thereupon', 'thru', 'hundred', 'more', 'across', 'among', 'many', 'thereby', 'besides', 'they', 'although', '’re', 'been', 'anyway', 'now', 'front', 'afterwards', 'made', 'nowhere', 'somehow', 'its', 'who', 'whole', 'therein', 'seems', 'too', 'take', 'together', 'below', 'beforehand', 'therefore', 'except', 'top', 'serious', 'eleven', \"'d\", 'regarding', '’m', 'before', 'say', 'though', 'must', 'few', 'nevertheless', 'meanwhile', 'through', 'much', '‘re', 'an', 'down', 'fifteen', 'last', 'during', 'not', 'moreover', 'hers', 'out', 'whoever', 'everything', 'how', 'move', 'he', 'latter', \"'re\", 'someone', 'hereupon', 'third', 'your', \"'m\", 'namely', 'herself', 'becomes', 'them', 'so', 'between', 'herein', 'whereafter', 'otherwise', 'neither', 'themselves', 'up', 'call', 'thereafter', '’d', 'by', 'next', 'done', 'but', 'being', 'sixty', 'latterly', 'off', 'ca', 'less', 'behind', 'from', 'have', 'whether', 'nor', 'ever', 'can', '‘ve', 'himself', 'about', 'keep', 'beyond', 'anyone', 'else', 'at', 'rather', 'amount', 'while', 'in', 'thence', 'nothing', 'their', 'ours', \"'ve\", 'where', 'unless', 'other', 'yourselves', 'either', 'any', 'almost', 'formerly', 'our', 'around', 'whenever', 'enough', 'yours', 'to', 'whereupon', 'him', 'be', 'least', 'me', '’s', 'everyone', 'whence', 'however', 'give', 'might', 'somewhere', 'should', 'whereas', 'become', 'none', 'then', 'was', '’ll', 'eight', 'only', 'quite', 'is', 'once', 'i', 'noone', '‘ll', 'it', 'over', 'because', 'ten', 'since', 'of', 'n‘t', 'four', 'becoming', 'would', 'everywhere', '‘s', 'sometimes', 'hereby', 'under', 'five', 'you', 'nine', 'others', 'all', 'each', 'yet', 'forty', 'something', 'never', 'without', 'anyhow', \"n't\", 'onto', 'part', 'whom', 'became', 'beside', 'against', 'upon', 'twenty', 'very', 'towards', 'has', 'again', 'or', 'perhaps', 'elsewhere', 'mine', 'both', 'until', 'why', 'via', 'as', 'for', 'indeed', 'seem', 'nobody', 'could', 'most', 'throughout', \"'ll\", 'does', 'yourself', 'well', 'a', 'were', 'into', 'several', \"'s\", 'ourselves', 'go', 'due', 'are', 'put', 'own', 'amongst', 'seeming', 'six', 'side', 'empty', 'had', 'itself', 'her', 'three', 'may', 'using', 'n’t', 'already', '‘m', 'various', 'toward', 'my', 'myself'}\n"
          ]
        }
      ]
    },
    {
      "cell_type": "code",
      "source": [
        "len(nlp.Defaults.stop_words)"
      ],
      "metadata": {
        "colab": {
          "base_uri": "https://localhost:8080/"
        },
        "id": "honEKJramWZM",
        "outputId": "c7bcba6a-9573-4aba-a92f-62f1c1d26996"
      },
      "execution_count": 4,
      "outputs": [
        {
          "output_type": "execute_result",
          "data": {
            "text/plain": [
              "326"
            ]
          },
          "metadata": {},
          "execution_count": 4
        }
      ]
    },
    {
      "cell_type": "markdown",
      "source": [
        "**Check if a word is a stop word**"
      ],
      "metadata": {
        "id": "vt4g8kYEmqeO"
      }
    },
    {
      "cell_type": "code",
      "source": [
        "nlp.vocab['is'].is_stop"
      ],
      "metadata": {
        "colab": {
          "base_uri": "https://localhost:8080/"
        },
        "id": "eSO-iQ5RmlgW",
        "outputId": "5acae264-6096-4686-a50e-5b77b1e5f1ab"
      },
      "execution_count": 7,
      "outputs": [
        {
          "output_type": "execute_result",
          "data": {
            "text/plain": [
              "True"
            ]
          },
          "metadata": {},
          "execution_count": 7
        }
      ]
    },
    {
      "cell_type": "code",
      "source": [
        "nlp.vocab['mystery'].is_stop"
      ],
      "metadata": {
        "colab": {
          "base_uri": "https://localhost:8080/"
        },
        "id": "1eX1B6IcmnG6",
        "outputId": "09f5e238-2db5-4a4f-b549-5e223f60ebb3"
      },
      "execution_count": 8,
      "outputs": [
        {
          "output_type": "execute_result",
          "data": {
            "text/plain": [
              "False"
            ]
          },
          "metadata": {},
          "execution_count": 8
        }
      ]
    },
    {
      "cell_type": "markdown",
      "source": [
        "**Add a new word to set of stop words**"
      ],
      "metadata": {
        "id": "I0dv58uMm_G1"
      }
    },
    {
      "cell_type": "code",
      "source": [
        "nlp.Defaults.stop_words.add('btw')"
      ],
      "metadata": {
        "id": "kQpkTDeYmvdv"
      },
      "execution_count": 9,
      "outputs": []
    },
    {
      "cell_type": "code",
      "source": [
        "nlp.vocab['btw'].is_stop = True"
      ],
      "metadata": {
        "id": "1VoDsok9nIsx"
      },
      "execution_count": 10,
      "outputs": []
    },
    {
      "cell_type": "code",
      "source": [
        "len(nlp.Defaults.stop_words)"
      ],
      "metadata": {
        "colab": {
          "base_uri": "https://localhost:8080/"
        },
        "id": "luhNgG15nNGB",
        "outputId": "c08a713c-19f4-4848-a3d3-c510e23d5493"
      },
      "execution_count": 11,
      "outputs": [
        {
          "output_type": "execute_result",
          "data": {
            "text/plain": [
              "327"
            ]
          },
          "metadata": {},
          "execution_count": 11
        }
      ]
    },
    {
      "cell_type": "code",
      "source": [
        "nlp.vocab['btw'].is_stop"
      ],
      "metadata": {
        "colab": {
          "base_uri": "https://localhost:8080/"
        },
        "id": "MwXvfjD3nOgP",
        "outputId": "9319c4a2-cdb2-4e91-cd5c-b5ffa9237ae1"
      },
      "execution_count": 13,
      "outputs": [
        {
          "output_type": "execute_result",
          "data": {
            "text/plain": [
              "True"
            ]
          },
          "metadata": {},
          "execution_count": 13
        }
      ]
    },
    {
      "cell_type": "code",
      "source": [
        "nlp.Defaults.stop_words.remove('beyond')"
      ],
      "metadata": {
        "id": "GacpnOi1njgW"
      },
      "execution_count": 14,
      "outputs": []
    },
    {
      "cell_type": "code",
      "source": [
        "nlp.vocab['beyond'].is_stop = False"
      ],
      "metadata": {
        "id": "5HcpsEWAnxHD"
      },
      "execution_count": 15,
      "outputs": []
    },
    {
      "cell_type": "code",
      "source": [
        "nlp.vocab['beyond'].is_stop"
      ],
      "metadata": {
        "colab": {
          "base_uri": "https://localhost:8080/"
        },
        "id": "l0luct3Kn2Vc",
        "outputId": "11153512-8689-4e73-8876-583e76ca37c3"
      },
      "execution_count": 16,
      "outputs": [
        {
          "output_type": "execute_result",
          "data": {
            "text/plain": [
              "False"
            ]
          },
          "metadata": {},
          "execution_count": 16
        }
      ]
    },
    {
      "cell_type": "code",
      "source": [
        ""
      ],
      "metadata": {
        "id": "Dwcb-oGgn3vF"
      },
      "execution_count": null,
      "outputs": []
    }
  ]
}