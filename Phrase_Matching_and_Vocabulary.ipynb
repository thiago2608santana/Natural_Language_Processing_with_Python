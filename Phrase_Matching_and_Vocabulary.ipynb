{
  "nbformat": 4,
  "nbformat_minor": 0,
  "metadata": {
    "colab": {
      "name": "Phrase_Matching_and_Vocabulary.ipynb",
      "provenance": [],
      "collapsed_sections": [],
      "authorship_tag": "ABX9TyPhfTQlCB296sqRppQntqc6",
      "include_colab_link": true
    },
    "kernelspec": {
      "name": "python3",
      "display_name": "Python 3"
    },
    "language_info": {
      "name": "python"
    }
  },
  "cells": [
    {
      "cell_type": "markdown",
      "metadata": {
        "id": "view-in-github",
        "colab_type": "text"
      },
      "source": [
        "<a href=\"https://colab.research.google.com/github/thiago2608santana/Natural_Language_Processing_with_Python/blob/main/Phrase_Matching_and_Vocabulary.ipynb\" target=\"_parent\"><img src=\"https://colab.research.google.com/assets/colab-badge.svg\" alt=\"Open In Colab\"/></a>"
      ]
    },
    {
      "cell_type": "code",
      "execution_count": 1,
      "metadata": {
        "id": "jsofLuAOE3rU"
      },
      "outputs": [],
      "source": [
        "import spacy"
      ]
    },
    {
      "cell_type": "code",
      "source": [
        "nlp = spacy.load('en_core_web_sm')"
      ],
      "metadata": {
        "id": "W8R4oXSSE7gV"
      },
      "execution_count": 2,
      "outputs": []
    },
    {
      "cell_type": "code",
      "source": [
        "from spacy.matcher import Matcher"
      ],
      "metadata": {
        "id": "CTGlay0QFBy3"
      },
      "execution_count": 3,
      "outputs": []
    },
    {
      "cell_type": "code",
      "source": [
        "matcher = Matcher(nlp.vocab)"
      ],
      "metadata": {
        "id": "uhTe0sJIFuV-"
      },
      "execution_count": 4,
      "outputs": []
    },
    {
      "cell_type": "code",
      "source": [
        "#SolarPower\n",
        "pattern1 = [{'LOWER':'solarpower'}]\n",
        "#Solar-Power\n",
        "pattern2 = [{'LOWER':'solar'}, {'IS_PUNCT':True}, {'LOWER':'power'}]\n",
        "#Solar Power\n",
        "pattern3 = [{'LOWER':'solar'}, {'LOWER':'power'}]"
      ],
      "metadata": {
        "id": "Q6elc9tVFyE-"
      },
      "execution_count": 5,
      "outputs": []
    },
    {
      "cell_type": "code",
      "source": [
        "matcher.add('SolarPower', [pattern1, pattern2, pattern3])"
      ],
      "metadata": {
        "id": "AIdnctlAHG9m"
      },
      "execution_count": 8,
      "outputs": []
    },
    {
      "cell_type": "code",
      "source": [
        "doc = nlp('The Solar Power industry continues to grow a solarpower increases. Solar-Power is amazing.')"
      ],
      "metadata": {
        "id": "v9wVSQsxHd0c"
      },
      "execution_count": 9,
      "outputs": []
    },
    {
      "cell_type": "code",
      "source": [
        "found_matches = matcher(doc)"
      ],
      "metadata": {
        "id": "vy9ajU1BKFBK"
      },
      "execution_count": 10,
      "outputs": []
    },
    {
      "cell_type": "code",
      "source": [
        "found_matches"
      ],
      "metadata": {
        "colab": {
          "base_uri": "https://localhost:8080/"
        },
        "id": "lTqXqCvnKO9I",
        "outputId": "eb848998-d9a0-4fd8-f8dc-540eeef8cbd2"
      },
      "execution_count": 11,
      "outputs": [
        {
          "output_type": "execute_result",
          "data": {
            "text/plain": [
              "[(8656102463236116519, 1, 3),\n",
              " (8656102463236116519, 8, 9),\n",
              " (8656102463236116519, 11, 14)]"
            ]
          },
          "metadata": {},
          "execution_count": 11
        }
      ]
    },
    {
      "cell_type": "code",
      "source": [
        "for match_id, start, end in found_matches:\n",
        "  string_id = nlp.vocab.strings[match_id]\n",
        "  span = doc[start:end]\n",
        "  print(match_id, string_id, start, end, span.text)"
      ],
      "metadata": {
        "colab": {
          "base_uri": "https://localhost:8080/"
        },
        "id": "VGXWv4jJKQAC",
        "outputId": "951270f6-8680-4b92-82cf-27647bd1558f"
      },
      "execution_count": 12,
      "outputs": [
        {
          "output_type": "stream",
          "name": "stdout",
          "text": [
            "8656102463236116519 SolarPower 1 3 Solar Power\n",
            "8656102463236116519 SolarPower 8 9 solarpower\n",
            "8656102463236116519 SolarPower 11 14 Solar-Power\n"
          ]
        }
      ]
    },
    {
      "cell_type": "code",
      "source": [
        "matcher.remove('SolarPower')"
      ],
      "metadata": {
        "id": "mNKk5MUCK6eh"
      },
      "execution_count": 13,
      "outputs": []
    },
    {
      "cell_type": "code",
      "source": [
        "#solarpower SolarPower\n",
        "pattern1 = [{'LOWER':'solarpower'}]\n",
        "# solar.power - Qualquer pontuação que estiver no meio (+, -, #, ...)\n",
        "pattern2 = [{'LOWER':'solar'}, {'IS_PUNCT':True, 'OP':'*'}, {'LOWER':'power'}]"
      ],
      "metadata": {
        "id": "GunGwBl8LXVC"
      },
      "execution_count": 14,
      "outputs": []
    },
    {
      "cell_type": "code",
      "source": [
        "matcher.add('SolarPower', [pattern1, pattern2])"
      ],
      "metadata": {
        "id": "WBLonJ6iL1hK"
      },
      "execution_count": 15,
      "outputs": []
    },
    {
      "cell_type": "code",
      "source": [
        "doc2 = nlp('Solar--power is solarpower yay!')"
      ],
      "metadata": {
        "id": "YeGcznxLL6z9"
      },
      "execution_count": 16,
      "outputs": []
    },
    {
      "cell_type": "code",
      "source": [
        "found_matches = matcher(doc2)"
      ],
      "metadata": {
        "id": "IpoXwH6XMT7G"
      },
      "execution_count": 18,
      "outputs": []
    },
    {
      "cell_type": "code",
      "source": [
        "print(found_matches)"
      ],
      "metadata": {
        "colab": {
          "base_uri": "https://localhost:8080/"
        },
        "id": "J9l0WD2qMWuw",
        "outputId": "88b32d77-c6b4-48f7-fc85-8aacd7b3c6a0"
      },
      "execution_count": 19,
      "outputs": [
        {
          "output_type": "stream",
          "name": "stdout",
          "text": [
            "[(8656102463236116519, 0, 3), (8656102463236116519, 4, 5)]\n"
          ]
        }
      ]
    },
    {
      "cell_type": "code",
      "source": [
        ""
      ],
      "metadata": {
        "id": "pLDOCjBFMxK9"
      },
      "execution_count": null,
      "outputs": []
    }
  ]
}