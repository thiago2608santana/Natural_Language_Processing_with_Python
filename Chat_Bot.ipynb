{
  "nbformat": 4,
  "nbformat_minor": 0,
  "metadata": {
    "colab": {
      "provenance": [],
      "collapsed_sections": [],
      "mount_file_id": "1D3tn9ZvssXMbEe1_fjOMLlvQ8dv-J2co",
      "authorship_tag": "ABX9TyMdNkTKOAKJd9uNfIRTRwQE",
      "include_colab_link": true
    },
    "kernelspec": {
      "name": "python3",
      "display_name": "Python 3"
    },
    "language_info": {
      "name": "python"
    },
    "accelerator": "GPU",
    "gpuClass": "standard"
  },
  "cells": [
    {
      "cell_type": "markdown",
      "metadata": {
        "id": "view-in-github",
        "colab_type": "text"
      },
      "source": [
        "<a href=\"https://colab.research.google.com/github/thiago2608santana/Natural_Language_Processing_with_Python/blob/main/Chat_Bot.ipynb\" target=\"_parent\"><img src=\"https://colab.research.google.com/assets/colab-badge.svg\" alt=\"Open In Colab\"/></a>"
      ]
    },
    {
      "cell_type": "markdown",
      "source": [
        "# Importar bibliotecas"
      ],
      "metadata": {
        "id": "mB2uFz9BHgVV"
      }
    },
    {
      "cell_type": "code",
      "execution_count": 85,
      "metadata": {
        "id": "1vdkKglWEw3i"
      },
      "outputs": [],
      "source": [
        "import pickle\n",
        "import numpy as np\n",
        "import matplotlib.pyplot as plt\n",
        "from tensorflow import device\n",
        "from keras.preprocessing.text import Tokenizer\n",
        "from keras.preprocessing.sequence import pad_sequences\n",
        "from keras.models import Sequential, Model\n",
        "from keras.layers.embeddings import Embedding\n",
        "from keras.layers import Input, Activation, Dense, Permute, Dropout, add, dot, concatenate, LSTM"
      ]
    },
    {
      "cell_type": "markdown",
      "source": [
        "# Escolher se o modelo será treinado novamente ou se será carregado o arquivo de um modelo treinado previamente"
      ],
      "metadata": {
        "id": "7ycinz0QscDH"
      }
    },
    {
      "cell_type": "code",
      "source": [
        "carregar_modelo_treinado = 'sim'"
      ],
      "metadata": {
        "id": "9oIAqhZCsk4c"
      },
      "execution_count": 86,
      "outputs": []
    },
    {
      "cell_type": "markdown",
      "source": [
        "# Carregar os dados"
      ],
      "metadata": {
        "id": "eOm3wz4yHjD7"
      }
    },
    {
      "cell_type": "code",
      "source": [
        "with open('/content/drive/MyDrive/NLP_with_Python_Datasets/train_qa.txt', 'rb') as f:\n",
        "  train_data = pickle.load(f)"
      ],
      "metadata": {
        "id": "-zhlocFkh6tj"
      },
      "execution_count": 87,
      "outputs": []
    },
    {
      "cell_type": "code",
      "source": [
        "with open('/content/drive/MyDrive/NLP_with_Python_Datasets/test_qa.txt', 'rb') as f:\n",
        "  test_data = pickle.load(f)"
      ],
      "metadata": {
        "id": "u89YEpbCHeO6"
      },
      "execution_count": 88,
      "outputs": []
    },
    {
      "cell_type": "markdown",
      "source": [
        "# Visualizar e entender os dados"
      ],
      "metadata": {
        "id": "xmluRq6WIyVe"
      }
    },
    {
      "cell_type": "code",
      "source": [
        "type(train_data)"
      ],
      "metadata": {
        "colab": {
          "base_uri": "https://localhost:8080/"
        },
        "id": "juJZhw4oHktP",
        "outputId": "55c20695-c68a-4e43-8404-bdf254c2c702"
      },
      "execution_count": 89,
      "outputs": [
        {
          "output_type": "execute_result",
          "data": {
            "text/plain": [
              "list"
            ]
          },
          "metadata": {},
          "execution_count": 89
        }
      ]
    },
    {
      "cell_type": "code",
      "source": [
        "type(test_data)"
      ],
      "metadata": {
        "colab": {
          "base_uri": "https://localhost:8080/"
        },
        "id": "ujBiaiXXH6Q6",
        "outputId": "b2764d93-dc75-40a8-edaf-9bd3166ad037"
      },
      "execution_count": 90,
      "outputs": [
        {
          "output_type": "execute_result",
          "data": {
            "text/plain": [
              "list"
            ]
          },
          "metadata": {},
          "execution_count": 90
        }
      ]
    },
    {
      "cell_type": "code",
      "source": [
        "len(train_data)"
      ],
      "metadata": {
        "colab": {
          "base_uri": "https://localhost:8080/"
        },
        "id": "NAHnRg64H7SH",
        "outputId": "92089302-cec6-484c-d91d-980940533aca"
      },
      "execution_count": 91,
      "outputs": [
        {
          "output_type": "execute_result",
          "data": {
            "text/plain": [
              "10000"
            ]
          },
          "metadata": {},
          "execution_count": 91
        }
      ]
    },
    {
      "cell_type": "code",
      "source": [
        "len(test_data)"
      ],
      "metadata": {
        "colab": {
          "base_uri": "https://localhost:8080/"
        },
        "id": "F5xvdmBcH-6n",
        "outputId": "39069e4f-9f1a-43ff-a451-056a30f23560"
      },
      "execution_count": 92,
      "outputs": [
        {
          "output_type": "execute_result",
          "data": {
            "text/plain": [
              "1000"
            ]
          },
          "metadata": {},
          "execution_count": 92
        }
      ]
    },
    {
      "cell_type": "markdown",
      "source": [
        "**story**"
      ],
      "metadata": {
        "id": "3hyWfMDaI5BE"
      }
    },
    {
      "cell_type": "code",
      "source": [
        "' '.join(train_data[0][0])"
      ],
      "metadata": {
        "colab": {
          "base_uri": "https://localhost:8080/",
          "height": 36
        },
        "id": "czJVYk5_IAwI",
        "outputId": "1651c77c-199b-4421-e7ee-5c0d498e8ef8"
      },
      "execution_count": 93,
      "outputs": [
        {
          "output_type": "execute_result",
          "data": {
            "text/plain": [
              "'Mary moved to the bathroom . Sandra journeyed to the bedroom .'"
            ],
            "application/vnd.google.colaboratory.intrinsic+json": {
              "type": "string"
            }
          },
          "metadata": {},
          "execution_count": 93
        }
      ]
    },
    {
      "cell_type": "markdown",
      "source": [
        "**question**"
      ],
      "metadata": {
        "id": "YdU57JyAI7BF"
      }
    },
    {
      "cell_type": "code",
      "source": [
        "' '.join(train_data[0][1])"
      ],
      "metadata": {
        "colab": {
          "base_uri": "https://localhost:8080/",
          "height": 36
        },
        "id": "GSj8zl2pIDbB",
        "outputId": "566fef0b-4836-4417-812a-0587943049c7"
      },
      "execution_count": 94,
      "outputs": [
        {
          "output_type": "execute_result",
          "data": {
            "text/plain": [
              "'Is Sandra in the hallway ?'"
            ],
            "application/vnd.google.colaboratory.intrinsic+json": {
              "type": "string"
            }
          },
          "metadata": {},
          "execution_count": 94
        }
      ]
    },
    {
      "cell_type": "markdown",
      "source": [
        "**answer**"
      ],
      "metadata": {
        "id": "EBjGOwESI9Q8"
      }
    },
    {
      "cell_type": "code",
      "source": [
        "train_data[0][2]"
      ],
      "metadata": {
        "colab": {
          "base_uri": "https://localhost:8080/",
          "height": 36
        },
        "id": "EjBkf72kIhZh",
        "outputId": "cab3081c-5eb1-48f7-e514-ffb2824804dc"
      },
      "execution_count": 95,
      "outputs": [
        {
          "output_type": "execute_result",
          "data": {
            "text/plain": [
              "'no'"
            ],
            "application/vnd.google.colaboratory.intrinsic+json": {
              "type": "string"
            }
          },
          "metadata": {},
          "execution_count": 95
        }
      ]
    },
    {
      "cell_type": "markdown",
      "source": [
        "# Preprocessamento dos dados"
      ],
      "metadata": {
        "id": "OEMveH-xJKew"
      }
    },
    {
      "cell_type": "code",
      "source": [
        "all_data = test_data + train_data"
      ],
      "metadata": {
        "id": "JTHc0L_QIjkY"
      },
      "execution_count": 96,
      "outputs": []
    },
    {
      "cell_type": "code",
      "source": [
        "len(all_data)"
      ],
      "metadata": {
        "colab": {
          "base_uri": "https://localhost:8080/"
        },
        "id": "z2GqeDM2JBvg",
        "outputId": "8a7d9ab3-2df7-42bb-e0e6-caabad548e66"
      },
      "execution_count": 97,
      "outputs": [
        {
          "output_type": "execute_result",
          "data": {
            "text/plain": [
              "11000"
            ]
          },
          "metadata": {},
          "execution_count": 97
        }
      ]
    },
    {
      "cell_type": "code",
      "source": [
        "vocab = set()\n",
        "\n",
        "for story, question, answer in all_data:\n",
        "  vocab = vocab.union(set(story))\n",
        "  vocab = vocab.union(set(question))"
      ],
      "metadata": {
        "id": "kuV3G84FJEEX"
      },
      "execution_count": 98,
      "outputs": []
    },
    {
      "cell_type": "code",
      "source": [
        "vocab.add('no')"
      ],
      "metadata": {
        "id": "9AEscHjKJ47S"
      },
      "execution_count": 99,
      "outputs": []
    },
    {
      "cell_type": "code",
      "source": [
        "vocab.add('yes')"
      ],
      "metadata": {
        "id": "2dOVQxenKOXH"
      },
      "execution_count": 100,
      "outputs": []
    },
    {
      "cell_type": "code",
      "source": [
        "vocab"
      ],
      "metadata": {
        "colab": {
          "base_uri": "https://localhost:8080/"
        },
        "id": "7gRWxDLqKPcP",
        "outputId": "e3ec7df7-1859-45bd-c67a-1a6d9f3e1755"
      },
      "execution_count": 101,
      "outputs": [
        {
          "output_type": "execute_result",
          "data": {
            "text/plain": [
              "{'.',\n",
              " '?',\n",
              " 'Daniel',\n",
              " 'Is',\n",
              " 'John',\n",
              " 'Mary',\n",
              " 'Sandra',\n",
              " 'apple',\n",
              " 'back',\n",
              " 'bathroom',\n",
              " 'bedroom',\n",
              " 'discarded',\n",
              " 'down',\n",
              " 'dropped',\n",
              " 'football',\n",
              " 'garden',\n",
              " 'got',\n",
              " 'grabbed',\n",
              " 'hallway',\n",
              " 'in',\n",
              " 'journeyed',\n",
              " 'kitchen',\n",
              " 'left',\n",
              " 'milk',\n",
              " 'moved',\n",
              " 'no',\n",
              " 'office',\n",
              " 'picked',\n",
              " 'put',\n",
              " 'the',\n",
              " 'there',\n",
              " 'to',\n",
              " 'took',\n",
              " 'travelled',\n",
              " 'up',\n",
              " 'went',\n",
              " 'yes'}"
            ]
          },
          "metadata": {},
          "execution_count": 101
        }
      ]
    },
    {
      "cell_type": "code",
      "source": [
        "vocab_size = len(vocab) + 1"
      ],
      "metadata": {
        "id": "OEcegnhJKP13"
      },
      "execution_count": 102,
      "outputs": []
    },
    {
      "cell_type": "code",
      "source": [
        "vocab_size"
      ],
      "metadata": {
        "colab": {
          "base_uri": "https://localhost:8080/"
        },
        "id": "fIOzEZF3KdOv",
        "outputId": "c768545c-2aad-468d-b2b7-319222ee74f0"
      },
      "execution_count": 103,
      "outputs": [
        {
          "output_type": "execute_result",
          "data": {
            "text/plain": [
              "38"
            ]
          },
          "metadata": {},
          "execution_count": 103
        }
      ]
    },
    {
      "cell_type": "markdown",
      "source": [
        "**Longest story**"
      ],
      "metadata": {
        "id": "tbguxnzDK8PK"
      }
    },
    {
      "cell_type": "code",
      "source": [
        "all_story_lens = [len(data[0]) for data in all_data]"
      ],
      "metadata": {
        "id": "vxUoOJqmK6B4"
      },
      "execution_count": 104,
      "outputs": []
    },
    {
      "cell_type": "code",
      "source": [
        "max_story_len = max(all_story_lens)"
      ],
      "metadata": {
        "id": "jciOPIw7LFDo"
      },
      "execution_count": 105,
      "outputs": []
    },
    {
      "cell_type": "code",
      "source": [
        "max_story_len"
      ],
      "metadata": {
        "colab": {
          "base_uri": "https://localhost:8080/"
        },
        "id": "3F8Ve1QGLIlP",
        "outputId": "272500d6-ee0f-4ba3-b366-6388efd07919"
      },
      "execution_count": 106,
      "outputs": [
        {
          "output_type": "execute_result",
          "data": {
            "text/plain": [
              "156"
            ]
          },
          "metadata": {},
          "execution_count": 106
        }
      ]
    },
    {
      "cell_type": "markdown",
      "source": [
        "**Longets question**"
      ],
      "metadata": {
        "id": "z4MntPUcLsH_"
      }
    },
    {
      "cell_type": "code",
      "source": [
        "max_question_len = max([len(data[1]) for data in all_data])"
      ],
      "metadata": {
        "id": "jW-8IqIFLQTY"
      },
      "execution_count": 107,
      "outputs": []
    },
    {
      "cell_type": "code",
      "source": [
        "max_question_len"
      ],
      "metadata": {
        "colab": {
          "base_uri": "https://localhost:8080/"
        },
        "id": "67cAkOcWL6Kk",
        "outputId": "9519da3b-b0e8-4070-99f8-6aa39746851d"
      },
      "execution_count": 108,
      "outputs": [
        {
          "output_type": "execute_result",
          "data": {
            "text/plain": [
              "6"
            ]
          },
          "metadata": {},
          "execution_count": 108
        }
      ]
    },
    {
      "cell_type": "markdown",
      "source": [
        "# Tokenizar o dataset"
      ],
      "metadata": {
        "id": "mhUYU3J2OkW-"
      }
    },
    {
      "cell_type": "code",
      "source": [
        "tokenizer = Tokenizer(filters=[])"
      ],
      "metadata": {
        "id": "SIx-IkqNL7H7"
      },
      "execution_count": 109,
      "outputs": []
    },
    {
      "cell_type": "code",
      "source": [
        "tokenizer.fit_on_texts(vocab)"
      ],
      "metadata": {
        "id": "sbd_6sPTOsl7"
      },
      "execution_count": 110,
      "outputs": []
    },
    {
      "cell_type": "code",
      "source": [
        "tokenizer.word_index"
      ],
      "metadata": {
        "colab": {
          "base_uri": "https://localhost:8080/"
        },
        "id": "3nqJkShAOvqN",
        "outputId": "5b1050f5-97d2-4f54-8259-5ceeb2e427f6"
      },
      "execution_count": 111,
      "outputs": [
        {
          "output_type": "execute_result",
          "data": {
            "text/plain": [
              "{'garden': 1,\n",
              " 'journeyed': 2,\n",
              " 'bathroom': 3,\n",
              " 'yes': 4,\n",
              " 'football': 5,\n",
              " 'got': 6,\n",
              " 'no': 7,\n",
              " 'left': 8,\n",
              " 'picked': 9,\n",
              " 'the': 10,\n",
              " 'grabbed': 11,\n",
              " 'up': 12,\n",
              " '?': 13,\n",
              " 'put': 14,\n",
              " '.': 15,\n",
              " 'to': 16,\n",
              " 'hallway': 17,\n",
              " 'is': 18,\n",
              " 'there': 19,\n",
              " 'discarded': 20,\n",
              " 'john': 21,\n",
              " 'moved': 22,\n",
              " 'back': 23,\n",
              " 'daniel': 24,\n",
              " 'in': 25,\n",
              " 'apple': 26,\n",
              " 'dropped': 27,\n",
              " 'kitchen': 28,\n",
              " 'mary': 29,\n",
              " 'sandra': 30,\n",
              " 'took': 31,\n",
              " 'down': 32,\n",
              " 'went': 33,\n",
              " 'office': 34,\n",
              " 'milk': 35,\n",
              " 'bedroom': 36,\n",
              " 'travelled': 37}"
            ]
          },
          "metadata": {},
          "execution_count": 111
        }
      ]
    },
    {
      "cell_type": "code",
      "source": [
        "train_story_text = []\n",
        "train_question_text = []\n",
        "train_answers = []\n",
        "\n",
        "for story, question, answer in train_data:\n",
        "  train_story_text.append(story)\n",
        "  train_question_text.append(question)\n",
        "  train_answers.append(answer)"
      ],
      "metadata": {
        "id": "CPJdN5mrOyRC"
      },
      "execution_count": 112,
      "outputs": []
    },
    {
      "cell_type": "code",
      "source": [
        "train_story_seq = tokenizer.texts_to_sequences(train_story_text)"
      ],
      "metadata": {
        "id": "S9F0FLSzPjW6"
      },
      "execution_count": 113,
      "outputs": []
    },
    {
      "cell_type": "markdown",
      "source": [
        "# Função que vetoriza os dados (story, question, answer)"
      ],
      "metadata": {
        "id": "caS3NEcgSpfy"
      }
    },
    {
      "cell_type": "code",
      "source": [
        "def vectorize_stories(data, word_index=tokenizer.word_index, max_story_len=max_story_len, max_question_len=max_question_len):\n",
        "\n",
        "  #Stories = X\n",
        "  X = []\n",
        "  #Questions = Xq\n",
        "  Xq = []\n",
        "  #Correct answer (yes/no) = Y\n",
        "  Y = []\n",
        "\n",
        "  for story, query, answer in data:\n",
        "\n",
        "    x = [word_index[word.lower()] for word in story]\n",
        "    xq = [word_index[word.lower()] for word in query]\n",
        "\n",
        "    y = np.zeros(len(word_index)+1)\n",
        "    y[word_index[answer]] = 1\n",
        "\n",
        "    X.append(x)\n",
        "    Xq.append(xq)\n",
        "    Y.append(y)\n",
        "\n",
        "  return (pad_sequences(X, maxlen=max_story_len), pad_sequences(Xq, maxlen=max_question_len), np.array(Y))"
      ],
      "metadata": {
        "id": "NNROLwg7P2mK"
      },
      "execution_count": 114,
      "outputs": []
    },
    {
      "cell_type": "markdown",
      "source": [
        "# Vetorizar os dados"
      ],
      "metadata": {
        "id": "OA3R3jRqS0sU"
      }
    },
    {
      "cell_type": "code",
      "source": [
        "inputs_train, queries_train, answers_train = vectorize_stories(train_data)"
      ],
      "metadata": {
        "id": "qOBEW1PpP5Xx"
      },
      "execution_count": 115,
      "outputs": []
    },
    {
      "cell_type": "code",
      "source": [
        "inputs_test, queries_test, answers_test = vectorize_stories(test_data)"
      ],
      "metadata": {
        "id": "zdNPTsK5S9Ox"
      },
      "execution_count": 116,
      "outputs": []
    },
    {
      "cell_type": "code",
      "source": [
        "inputs_test"
      ],
      "metadata": {
        "colab": {
          "base_uri": "https://localhost:8080/"
        },
        "id": "VDtFq3EIS-ui",
        "outputId": "83c66448-dfc3-4150-d64c-caa3af698594"
      },
      "execution_count": 117,
      "outputs": [
        {
          "output_type": "execute_result",
          "data": {
            "text/plain": [
              "array([[ 0,  0,  0, ..., 10, 36, 15],\n",
              "       [ 0,  0,  0, ..., 10,  1, 15],\n",
              "       [ 0,  0,  0, ..., 10,  1, 15],\n",
              "       ...,\n",
              "       [ 0,  0,  0, ..., 10, 26, 15],\n",
              "       [ 0,  0,  0, ..., 10,  1, 15],\n",
              "       [ 0,  0,  0, ..., 26, 19, 15]], dtype=int32)"
            ]
          },
          "metadata": {},
          "execution_count": 117
        }
      ]
    },
    {
      "cell_type": "code",
      "source": [
        "answers_test"
      ],
      "metadata": {
        "colab": {
          "base_uri": "https://localhost:8080/"
        },
        "id": "7dq1HopWTKbZ",
        "outputId": "1e2080b5-a948-436c-d878-4d3676bb5dcb"
      },
      "execution_count": 118,
      "outputs": [
        {
          "output_type": "execute_result",
          "data": {
            "text/plain": [
              "array([[0., 0., 0., ..., 0., 0., 0.],\n",
              "       [0., 0., 0., ..., 0., 0., 0.],\n",
              "       [0., 0., 0., ..., 0., 0., 0.],\n",
              "       ...,\n",
              "       [0., 0., 0., ..., 0., 0., 0.],\n",
              "       [0., 0., 0., ..., 0., 0., 0.],\n",
              "       [0., 0., 0., ..., 0., 0., 0.]])"
            ]
          },
          "metadata": {},
          "execution_count": 118
        }
      ]
    },
    {
      "cell_type": "markdown",
      "source": [
        "**Verificar a quantidade de yes/no e checar a posição (index) correspondente. Tudo ok**"
      ],
      "metadata": {
        "id": "RrSpvImGT4qr"
      }
    },
    {
      "cell_type": "code",
      "source": [
        "tokenizer.word_index['yes']"
      ],
      "metadata": {
        "colab": {
          "base_uri": "https://localhost:8080/"
        },
        "id": "ekEm2PcYTMtJ",
        "outputId": "40d97c2b-121a-4107-e511-7cbbce01eeed"
      },
      "execution_count": 119,
      "outputs": [
        {
          "output_type": "execute_result",
          "data": {
            "text/plain": [
              "4"
            ]
          },
          "metadata": {},
          "execution_count": 119
        }
      ]
    },
    {
      "cell_type": "code",
      "source": [
        "tokenizer.word_index['no']"
      ],
      "metadata": {
        "colab": {
          "base_uri": "https://localhost:8080/"
        },
        "id": "GTDWiZL0TpYi",
        "outputId": "e705d8a6-10cb-41b9-b72f-ad11ae0f6430"
      },
      "execution_count": 120,
      "outputs": [
        {
          "output_type": "execute_result",
          "data": {
            "text/plain": [
              "7"
            ]
          },
          "metadata": {},
          "execution_count": 120
        }
      ]
    },
    {
      "cell_type": "code",
      "source": [
        "sum(answers_test)"
      ],
      "metadata": {
        "colab": {
          "base_uri": "https://localhost:8080/"
        },
        "id": "NZlBKFG2TrDa",
        "outputId": "9e4d07df-9b14-4d51-dea0-47f44d31dd29"
      },
      "execution_count": 121,
      "outputs": [
        {
          "output_type": "execute_result",
          "data": {
            "text/plain": [
              "array([  0.,   0.,   0.,   0., 497.,   0.,   0., 503.,   0.,   0.,   0.,\n",
              "         0.,   0.,   0.,   0.,   0.,   0.,   0.,   0.,   0.,   0.,   0.,\n",
              "         0.,   0.,   0.,   0.,   0.,   0.,   0.,   0.,   0.,   0.,   0.,\n",
              "         0.,   0.,   0.,   0.,   0.])"
            ]
          },
          "metadata": {},
          "execution_count": 121
        }
      ]
    },
    {
      "cell_type": "markdown",
      "source": [
        "**PLACEHOLDER shape=(max_story_len, batch_size)**"
      ],
      "metadata": {
        "id": "mjoEnas0Vjd3"
      }
    },
    {
      "cell_type": "code",
      "source": [
        "input_sequence = Input((max_story_len,))\n",
        "question = Input((max_question_len,))"
      ],
      "metadata": {
        "id": "lbrhsDyNTuiq"
      },
      "execution_count": 122,
      "outputs": []
    },
    {
      "cell_type": "markdown",
      "source": [
        "**Input Encoder M**"
      ],
      "metadata": {
        "id": "9ARC3BnQc21V"
      }
    },
    {
      "cell_type": "code",
      "source": [
        "input_encoder_m = Sequential()\n",
        "input_encoder_m.add(Embedding(input_dim=vocab_size, output_dim=64))\n",
        "input_encoder_m.add(Dropout(0.3))\n",
        "#Output: (samples, story_maxlen, embedding_dim)"
      ],
      "metadata": {
        "id": "89OEUTU2V2RL"
      },
      "execution_count": 123,
      "outputs": []
    },
    {
      "cell_type": "markdown",
      "source": [
        "**Input Encoder C**"
      ],
      "metadata": {
        "id": "cJ0MQDwAeEUM"
      }
    },
    {
      "cell_type": "code",
      "source": [
        "input_encoder_c = Sequential()\n",
        "input_encoder_c.add(Embedding(input_dim=vocab_size, output_dim=max_question_len))\n",
        "input_encoder_c.add(Dropout(0.3))\n",
        "#Output: (samples, story_maxlen, max_question_len)"
      ],
      "metadata": {
        "id": "6akz0dpeeBTC"
      },
      "execution_count": 124,
      "outputs": []
    },
    {
      "cell_type": "code",
      "source": [
        "question_encoder = Sequential()\n",
        "question_encoder.add(Embedding(input_dim=vocab_size, output_dim=64, input_length=max_question_len))\n",
        "question_encoder.add(Dropout(0.3))\n",
        "#Output: (samples, query_maxlen, embedding_dim)"
      ],
      "metadata": {
        "id": "400Va82gg-ch"
      },
      "execution_count": 125,
      "outputs": []
    },
    {
      "cell_type": "markdown",
      "source": [
        "**ENCODED <--- ENCODER (INPUT)**"
      ],
      "metadata": {
        "id": "2wqeuzbGiGmr"
      }
    },
    {
      "cell_type": "code",
      "source": [
        "input_encoded_m = input_encoder_m(input_sequence)\n",
        "input_encoded_c = input_encoder_c(input_sequence)\n",
        "question_encoded = question_encoder(question)"
      ],
      "metadata": {
        "id": "rg1kluL9hqsP"
      },
      "execution_count": 126,
      "outputs": []
    },
    {
      "cell_type": "code",
      "source": [
        "match = dot([input_encoded_m, question_encoded], axes=(2, 2))\n",
        "match = Activation('softmax')(match)"
      ],
      "metadata": {
        "id": "N8OdB9VMiZQI"
      },
      "execution_count": 127,
      "outputs": []
    },
    {
      "cell_type": "code",
      "source": [
        "response = add([match, input_encoded_c])\n",
        "response = Permute((2, 1))(response)"
      ],
      "metadata": {
        "id": "XTWVJgfpjbOZ"
      },
      "execution_count": 128,
      "outputs": []
    },
    {
      "cell_type": "code",
      "source": [
        "answer = concatenate([response, question_encoded])"
      ],
      "metadata": {
        "id": "hxhPFIh0j8VA"
      },
      "execution_count": 129,
      "outputs": []
    },
    {
      "cell_type": "code",
      "source": [
        "answer"
      ],
      "metadata": {
        "colab": {
          "base_uri": "https://localhost:8080/"
        },
        "id": "kLOdENyUk4qh",
        "outputId": "825fd4c9-48a0-44a9-eae0-d735c8a42e59"
      },
      "execution_count": 130,
      "outputs": [
        {
          "output_type": "execute_result",
          "data": {
            "text/plain": [
              "<KerasTensor: shape=(None, 6, 220) dtype=float32 (created by layer 'concatenate_1')>"
            ]
          },
          "metadata": {},
          "execution_count": 130
        }
      ]
    },
    {
      "cell_type": "code",
      "source": [
        "answer = LSTM(32)(answer)"
      ],
      "metadata": {
        "id": "Qbo1IQJek5nf"
      },
      "execution_count": 131,
      "outputs": []
    },
    {
      "cell_type": "code",
      "source": [
        "answer = Dropout(0.5)(answer)"
      ],
      "metadata": {
        "id": "OKqucMETm-9j"
      },
      "execution_count": 132,
      "outputs": []
    },
    {
      "cell_type": "code",
      "source": [
        "answer = Dense(vocab_size)(answer)\n",
        "#(samples, vocab_size) # YES/NO"
      ],
      "metadata": {
        "id": "bsC1EZiYnGmB"
      },
      "execution_count": 133,
      "outputs": []
    },
    {
      "cell_type": "code",
      "source": [
        "answer = Activation('softmax')(answer)"
      ],
      "metadata": {
        "id": "TPO8aMrNnMv8"
      },
      "execution_count": 134,
      "outputs": []
    },
    {
      "cell_type": "code",
      "source": [
        "model = Model([input_sequence, question], answer)"
      ],
      "metadata": {
        "id": "mHOHjaJZniRp"
      },
      "execution_count": 135,
      "outputs": []
    },
    {
      "cell_type": "code",
      "source": [
        "model.compile(optimizer='rmsprop', loss='categorical_crossentropy', metrics=['accuracy'])"
      ],
      "metadata": {
        "id": "Plw1rxSpnu5G"
      },
      "execution_count": 136,
      "outputs": []
    },
    {
      "cell_type": "code",
      "source": [
        "model.summary()"
      ],
      "metadata": {
        "colab": {
          "base_uri": "https://localhost:8080/"
        },
        "id": "qn56HLJkotT_",
        "outputId": "7ae1deff-e41e-4573-bfb0-eacbeea0a68c"
      },
      "execution_count": 137,
      "outputs": [
        {
          "output_type": "stream",
          "name": "stdout",
          "text": [
            "Model: \"model_1\"\n",
            "__________________________________________________________________________________________________\n",
            " Layer (type)                   Output Shape         Param #     Connected to                     \n",
            "==================================================================================================\n",
            " input_3 (InputLayer)           [(None, 156)]        0           []                               \n",
            "                                                                                                  \n",
            " input_4 (InputLayer)           [(None, 6)]          0           []                               \n",
            "                                                                                                  \n",
            " sequential_3 (Sequential)      (None, None, 64)     2432        ['input_3[0][0]']                \n",
            "                                                                                                  \n",
            " sequential_5 (Sequential)      (None, 6, 64)        2432        ['input_4[0][0]']                \n",
            "                                                                                                  \n",
            " dot_1 (Dot)                    (None, 156, 6)       0           ['sequential_3[0][0]',           \n",
            "                                                                  'sequential_5[0][0]']           \n",
            "                                                                                                  \n",
            " activation_2 (Activation)      (None, 156, 6)       0           ['dot_1[0][0]']                  \n",
            "                                                                                                  \n",
            " sequential_4 (Sequential)      (None, None, 6)      228         ['input_3[0][0]']                \n",
            "                                                                                                  \n",
            " add_1 (Add)                    (None, 156, 6)       0           ['activation_2[0][0]',           \n",
            "                                                                  'sequential_4[0][0]']           \n",
            "                                                                                                  \n",
            " permute_1 (Permute)            (None, 6, 156)       0           ['add_1[0][0]']                  \n",
            "                                                                                                  \n",
            " concatenate_1 (Concatenate)    (None, 6, 220)       0           ['permute_1[0][0]',              \n",
            "                                                                  'sequential_5[0][0]']           \n",
            "                                                                                                  \n",
            " lstm_1 (LSTM)                  (None, 32)           32384       ['concatenate_1[0][0]']          \n",
            "                                                                                                  \n",
            " dropout_7 (Dropout)            (None, 32)           0           ['lstm_1[0][0]']                 \n",
            "                                                                                                  \n",
            " dense_1 (Dense)                (None, 38)           1254        ['dropout_7[0][0]']              \n",
            "                                                                                                  \n",
            " activation_3 (Activation)      (None, 38)           0           ['dense_1[0][0]']                \n",
            "                                                                                                  \n",
            "==================================================================================================\n",
            "Total params: 38,730\n",
            "Trainable params: 38,730\n",
            "Non-trainable params: 0\n",
            "__________________________________________________________________________________________________\n"
          ]
        }
      ]
    },
    {
      "cell_type": "markdown",
      "source": [
        "# Treinar o modelo"
      ],
      "metadata": {
        "id": "TV8OOmJdkShL"
      }
    },
    {
      "cell_type": "code",
      "source": [
        "if carregar_modelo_treinado == 'nao':\n",
        "  with device('/device:GPU:0'):\n",
        "    history = model.fit([inputs_train, queries_train], answers_train, batch_size=32, epochs=100, validation_data=([inputs_test, queries_test], answers_test))"
      ],
      "metadata": {
        "id": "YAKKny55ouHH",
        "colab": {
          "base_uri": "https://localhost:8080/"
        },
        "outputId": "a7fed36f-1f21-4e7d-e8c2-537565a3f0bf"
      },
      "execution_count": 138,
      "outputs": [
        {
          "output_type": "stream",
          "name": "stdout",
          "text": [
            "Epoch 1/100\n",
            "313/313 [==============================] - 8s 17ms/step - loss: 0.9646 - accuracy: 0.4857 - val_loss: 0.6946 - val_accuracy: 0.4960\n",
            "Epoch 2/100\n",
            "313/313 [==============================] - 5s 14ms/step - loss: 0.7071 - accuracy: 0.4954 - val_loss: 0.6960 - val_accuracy: 0.4970\n",
            "Epoch 3/100\n",
            "313/313 [==============================] - 5s 14ms/step - loss: 0.6973 - accuracy: 0.4987 - val_loss: 0.6941 - val_accuracy: 0.4970\n",
            "Epoch 4/100\n",
            "313/313 [==============================] - 5s 15ms/step - loss: 0.6953 - accuracy: 0.4994 - val_loss: 0.6943 - val_accuracy: 0.4970\n",
            "Epoch 5/100\n",
            "313/313 [==============================] - 3s 11ms/step - loss: 0.6948 - accuracy: 0.5016 - val_loss: 0.6937 - val_accuracy: 0.4970\n",
            "Epoch 6/100\n",
            "313/313 [==============================] - 3s 8ms/step - loss: 0.6953 - accuracy: 0.4935 - val_loss: 0.6938 - val_accuracy: 0.5030\n",
            "Epoch 7/100\n",
            "313/313 [==============================] - 3s 8ms/step - loss: 0.6951 - accuracy: 0.4864 - val_loss: 0.6955 - val_accuracy: 0.4970\n",
            "Epoch 8/100\n",
            "313/313 [==============================] - 3s 8ms/step - loss: 0.6944 - accuracy: 0.4982 - val_loss: 0.6948 - val_accuracy: 0.4970\n",
            "Epoch 9/100\n",
            "313/313 [==============================] - 3s 8ms/step - loss: 0.6926 - accuracy: 0.5196 - val_loss: 0.6930 - val_accuracy: 0.4860\n",
            "Epoch 10/100\n",
            "313/313 [==============================] - 3s 8ms/step - loss: 0.6612 - accuracy: 0.5970 - val_loss: 0.5646 - val_accuracy: 0.7500\n",
            "Epoch 11/100\n",
            "313/313 [==============================] - 3s 8ms/step - loss: 0.5209 - accuracy: 0.7591 - val_loss: 0.4540 - val_accuracy: 0.7950\n",
            "Epoch 12/100\n",
            "313/313 [==============================] - 3s 9ms/step - loss: 0.4538 - accuracy: 0.8054 - val_loss: 0.4231 - val_accuracy: 0.8320\n",
            "Epoch 13/100\n",
            "313/313 [==============================] - 3s 8ms/step - loss: 0.4234 - accuracy: 0.8236 - val_loss: 0.4012 - val_accuracy: 0.8170\n",
            "Epoch 14/100\n",
            "313/313 [==============================] - 3s 8ms/step - loss: 0.4057 - accuracy: 0.8353 - val_loss: 0.3913 - val_accuracy: 0.8250\n",
            "Epoch 15/100\n",
            "313/313 [==============================] - 3s 9ms/step - loss: 0.3769 - accuracy: 0.8404 - val_loss: 0.3833 - val_accuracy: 0.8330\n",
            "Epoch 16/100\n",
            "313/313 [==============================] - 3s 8ms/step - loss: 0.3662 - accuracy: 0.8488 - val_loss: 0.3783 - val_accuracy: 0.8210\n",
            "Epoch 17/100\n",
            "313/313 [==============================] - 3s 8ms/step - loss: 0.3563 - accuracy: 0.8481 - val_loss: 0.3681 - val_accuracy: 0.8240\n",
            "Epoch 18/100\n",
            "313/313 [==============================] - 3s 8ms/step - loss: 0.3508 - accuracy: 0.8524 - val_loss: 0.3761 - val_accuracy: 0.8290\n",
            "Epoch 19/100\n",
            "313/313 [==============================] - 3s 8ms/step - loss: 0.3424 - accuracy: 0.8537 - val_loss: 0.3539 - val_accuracy: 0.8290\n",
            "Epoch 20/100\n",
            "313/313 [==============================] - 3s 8ms/step - loss: 0.3351 - accuracy: 0.8555 - val_loss: 0.3495 - val_accuracy: 0.8450\n",
            "Epoch 21/100\n",
            "313/313 [==============================] - 3s 8ms/step - loss: 0.3313 - accuracy: 0.8570 - val_loss: 0.3453 - val_accuracy: 0.8430\n",
            "Epoch 22/100\n",
            "313/313 [==============================] - 3s 8ms/step - loss: 0.3223 - accuracy: 0.8613 - val_loss: 0.3461 - val_accuracy: 0.8340\n",
            "Epoch 23/100\n",
            "313/313 [==============================] - 3s 8ms/step - loss: 0.3212 - accuracy: 0.8604 - val_loss: 0.3509 - val_accuracy: 0.8300\n",
            "Epoch 24/100\n",
            "313/313 [==============================] - 3s 8ms/step - loss: 0.3180 - accuracy: 0.8608 - val_loss: 0.3536 - val_accuracy: 0.8470\n",
            "Epoch 25/100\n",
            "313/313 [==============================] - 3s 8ms/step - loss: 0.3155 - accuracy: 0.8608 - val_loss: 0.3509 - val_accuracy: 0.8430\n",
            "Epoch 26/100\n",
            "313/313 [==============================] - 3s 8ms/step - loss: 0.3113 - accuracy: 0.8623 - val_loss: 0.3373 - val_accuracy: 0.8400\n",
            "Epoch 27/100\n",
            "313/313 [==============================] - 3s 8ms/step - loss: 0.3103 - accuracy: 0.8643 - val_loss: 0.3454 - val_accuracy: 0.8380\n",
            "Epoch 28/100\n",
            "313/313 [==============================] - 3s 9ms/step - loss: 0.3106 - accuracy: 0.8632 - val_loss: 0.3409 - val_accuracy: 0.8360\n",
            "Epoch 29/100\n",
            "313/313 [==============================] - 3s 8ms/step - loss: 0.3097 - accuracy: 0.8668 - val_loss: 0.3510 - val_accuracy: 0.8400\n",
            "Epoch 30/100\n",
            "313/313 [==============================] - 3s 8ms/step - loss: 0.3072 - accuracy: 0.8653 - val_loss: 0.3534 - val_accuracy: 0.8440\n",
            "Epoch 31/100\n",
            "313/313 [==============================] - 3s 9ms/step - loss: 0.3054 - accuracy: 0.8670 - val_loss: 0.3285 - val_accuracy: 0.8460\n",
            "Epoch 32/100\n",
            "313/313 [==============================] - 3s 8ms/step - loss: 0.3027 - accuracy: 0.8622 - val_loss: 0.3432 - val_accuracy: 0.8460\n",
            "Epoch 33/100\n",
            "313/313 [==============================] - 3s 9ms/step - loss: 0.2998 - accuracy: 0.8686 - val_loss: 0.3400 - val_accuracy: 0.8410\n",
            "Epoch 34/100\n",
            "313/313 [==============================] - 3s 8ms/step - loss: 0.3051 - accuracy: 0.8651 - val_loss: 0.3546 - val_accuracy: 0.8360\n",
            "Epoch 35/100\n",
            "313/313 [==============================] - 3s 8ms/step - loss: 0.2979 - accuracy: 0.8684 - val_loss: 0.3425 - val_accuracy: 0.8390\n",
            "Epoch 36/100\n",
            "313/313 [==============================] - 3s 8ms/step - loss: 0.2975 - accuracy: 0.8686 - val_loss: 0.3435 - val_accuracy: 0.8430\n",
            "Epoch 37/100\n",
            "313/313 [==============================] - 3s 8ms/step - loss: 0.2992 - accuracy: 0.8687 - val_loss: 0.3502 - val_accuracy: 0.8330\n",
            "Epoch 38/100\n",
            "313/313 [==============================] - 3s 8ms/step - loss: 0.2979 - accuracy: 0.8703 - val_loss: 0.3523 - val_accuracy: 0.8370\n",
            "Epoch 39/100\n",
            "313/313 [==============================] - 3s 11ms/step - loss: 0.2987 - accuracy: 0.8671 - val_loss: 0.3493 - val_accuracy: 0.8330\n",
            "Epoch 40/100\n",
            "313/313 [==============================] - 3s 10ms/step - loss: 0.2965 - accuracy: 0.8685 - val_loss: 0.3402 - val_accuracy: 0.8400\n",
            "Epoch 41/100\n",
            "313/313 [==============================] - 3s 8ms/step - loss: 0.2978 - accuracy: 0.8657 - val_loss: 0.3300 - val_accuracy: 0.8420\n",
            "Epoch 42/100\n",
            "313/313 [==============================] - 3s 9ms/step - loss: 0.2940 - accuracy: 0.8689 - val_loss: 0.3397 - val_accuracy: 0.8380\n",
            "Epoch 43/100\n",
            "313/313 [==============================] - 3s 8ms/step - loss: 0.2980 - accuracy: 0.8650 - val_loss: 0.3297 - val_accuracy: 0.8450\n",
            "Epoch 44/100\n",
            "313/313 [==============================] - 3s 8ms/step - loss: 0.2976 - accuracy: 0.8669 - val_loss: 0.3463 - val_accuracy: 0.8340\n",
            "Epoch 45/100\n",
            "313/313 [==============================] - 3s 8ms/step - loss: 0.2930 - accuracy: 0.8703 - val_loss: 0.3380 - val_accuracy: 0.8400\n",
            "Epoch 46/100\n",
            "313/313 [==============================] - 3s 8ms/step - loss: 0.2924 - accuracy: 0.8692 - val_loss: 0.3430 - val_accuracy: 0.8400\n",
            "Epoch 47/100\n",
            "313/313 [==============================] - 3s 8ms/step - loss: 0.2921 - accuracy: 0.8688 - val_loss: 0.3427 - val_accuracy: 0.8400\n",
            "Epoch 48/100\n",
            "313/313 [==============================] - 3s 9ms/step - loss: 0.2918 - accuracy: 0.8726 - val_loss: 0.3471 - val_accuracy: 0.8410\n",
            "Epoch 49/100\n",
            "313/313 [==============================] - 3s 8ms/step - loss: 0.2890 - accuracy: 0.8723 - val_loss: 0.3750 - val_accuracy: 0.8410\n",
            "Epoch 50/100\n",
            "313/313 [==============================] - 3s 8ms/step - loss: 0.2891 - accuracy: 0.8714 - val_loss: 0.3611 - val_accuracy: 0.8340\n",
            "Epoch 51/100\n",
            "313/313 [==============================] - 3s 8ms/step - loss: 0.2946 - accuracy: 0.8696 - val_loss: 0.3623 - val_accuracy: 0.8370\n",
            "Epoch 52/100\n",
            "313/313 [==============================] - 3s 8ms/step - loss: 0.2927 - accuracy: 0.8690 - val_loss: 0.3633 - val_accuracy: 0.8340\n",
            "Epoch 53/100\n",
            "313/313 [==============================] - 3s 8ms/step - loss: 0.2888 - accuracy: 0.8727 - val_loss: 0.3680 - val_accuracy: 0.8360\n",
            "Epoch 54/100\n",
            "313/313 [==============================] - 3s 8ms/step - loss: 0.2923 - accuracy: 0.8691 - val_loss: 0.3551 - val_accuracy: 0.8410\n",
            "Epoch 55/100\n",
            "313/313 [==============================] - 3s 8ms/step - loss: 0.2897 - accuracy: 0.8705 - val_loss: 0.3527 - val_accuracy: 0.8300\n",
            "Epoch 56/100\n",
            "313/313 [==============================] - 3s 8ms/step - loss: 0.2835 - accuracy: 0.8730 - val_loss: 0.3449 - val_accuracy: 0.8380\n",
            "Epoch 57/100\n",
            "313/313 [==============================] - 3s 8ms/step - loss: 0.2812 - accuracy: 0.8742 - val_loss: 0.3566 - val_accuracy: 0.8370\n",
            "Epoch 58/100\n",
            "313/313 [==============================] - 3s 8ms/step - loss: 0.2831 - accuracy: 0.8722 - val_loss: 0.3482 - val_accuracy: 0.8420\n",
            "Epoch 59/100\n",
            "313/313 [==============================] - 3s 8ms/step - loss: 0.2842 - accuracy: 0.8740 - val_loss: 0.3410 - val_accuracy: 0.8440\n",
            "Epoch 60/100\n",
            "313/313 [==============================] - 3s 9ms/step - loss: 0.2822 - accuracy: 0.8756 - val_loss: 0.3507 - val_accuracy: 0.8340\n",
            "Epoch 61/100\n",
            "313/313 [==============================] - 3s 9ms/step - loss: 0.2835 - accuracy: 0.8738 - val_loss: 0.3431 - val_accuracy: 0.8350\n",
            "Epoch 62/100\n",
            "313/313 [==============================] - 3s 8ms/step - loss: 0.2793 - accuracy: 0.8750 - val_loss: 0.3604 - val_accuracy: 0.8350\n",
            "Epoch 63/100\n",
            "313/313 [==============================] - 3s 8ms/step - loss: 0.2818 - accuracy: 0.8764 - val_loss: 0.3742 - val_accuracy: 0.8350\n",
            "Epoch 64/100\n",
            "313/313 [==============================] - 3s 9ms/step - loss: 0.2783 - accuracy: 0.8767 - val_loss: 0.3767 - val_accuracy: 0.8400\n",
            "Epoch 65/100\n",
            "313/313 [==============================] - 3s 8ms/step - loss: 0.2788 - accuracy: 0.8761 - val_loss: 0.3554 - val_accuracy: 0.8350\n",
            "Epoch 66/100\n",
            "313/313 [==============================] - 3s 9ms/step - loss: 0.2817 - accuracy: 0.8780 - val_loss: 0.3532 - val_accuracy: 0.8400\n",
            "Epoch 67/100\n",
            "313/313 [==============================] - 3s 9ms/step - loss: 0.2769 - accuracy: 0.8760 - val_loss: 0.3913 - val_accuracy: 0.8330\n",
            "Epoch 68/100\n",
            "313/313 [==============================] - 3s 9ms/step - loss: 0.2821 - accuracy: 0.8728 - val_loss: 0.3914 - val_accuracy: 0.8350\n",
            "Epoch 69/100\n",
            "313/313 [==============================] - 3s 8ms/step - loss: 0.2774 - accuracy: 0.8758 - val_loss: 0.3577 - val_accuracy: 0.8370\n",
            "Epoch 70/100\n",
            "313/313 [==============================] - 3s 8ms/step - loss: 0.2748 - accuracy: 0.8772 - val_loss: 0.3606 - val_accuracy: 0.8340\n",
            "Epoch 71/100\n",
            "313/313 [==============================] - 3s 8ms/step - loss: 0.2760 - accuracy: 0.8796 - val_loss: 0.4174 - val_accuracy: 0.8260\n",
            "Epoch 72/100\n",
            "313/313 [==============================] - 3s 9ms/step - loss: 0.2729 - accuracy: 0.8813 - val_loss: 0.3784 - val_accuracy: 0.8310\n",
            "Epoch 73/100\n",
            "313/313 [==============================] - 3s 8ms/step - loss: 0.2684 - accuracy: 0.8806 - val_loss: 0.4800 - val_accuracy: 0.8150\n",
            "Epoch 74/100\n",
            "313/313 [==============================] - 3s 9ms/step - loss: 0.2722 - accuracy: 0.8827 - val_loss: 0.4008 - val_accuracy: 0.8210\n",
            "Epoch 75/100\n",
            "313/313 [==============================] - 3s 9ms/step - loss: 0.2721 - accuracy: 0.8828 - val_loss: 0.3640 - val_accuracy: 0.8350\n",
            "Epoch 76/100\n",
            "313/313 [==============================] - 3s 9ms/step - loss: 0.2749 - accuracy: 0.8836 - val_loss: 0.3638 - val_accuracy: 0.8400\n",
            "Epoch 77/100\n",
            "313/313 [==============================] - 3s 8ms/step - loss: 0.2705 - accuracy: 0.8829 - val_loss: 0.3746 - val_accuracy: 0.8360\n",
            "Epoch 78/100\n",
            "313/313 [==============================] - 3s 9ms/step - loss: 0.2685 - accuracy: 0.8849 - val_loss: 0.3762 - val_accuracy: 0.8280\n",
            "Epoch 79/100\n",
            "313/313 [==============================] - 3s 8ms/step - loss: 0.2693 - accuracy: 0.8821 - val_loss: 0.4024 - val_accuracy: 0.8330\n",
            "Epoch 80/100\n",
            "313/313 [==============================] - 3s 9ms/step - loss: 0.2623 - accuracy: 0.8835 - val_loss: 0.4003 - val_accuracy: 0.8400\n",
            "Epoch 81/100\n",
            "313/313 [==============================] - 3s 8ms/step - loss: 0.2629 - accuracy: 0.8860 - val_loss: 0.4084 - val_accuracy: 0.8140\n",
            "Epoch 82/100\n",
            "313/313 [==============================] - 3s 9ms/step - loss: 0.2638 - accuracy: 0.8857 - val_loss: 0.4282 - val_accuracy: 0.8240\n",
            "Epoch 83/100\n",
            "313/313 [==============================] - 3s 9ms/step - loss: 0.2587 - accuracy: 0.8854 - val_loss: 0.4161 - val_accuracy: 0.8320\n",
            "Epoch 84/100\n",
            "313/313 [==============================] - 3s 8ms/step - loss: 0.2594 - accuracy: 0.8865 - val_loss: 0.3753 - val_accuracy: 0.8340\n",
            "Epoch 85/100\n",
            "313/313 [==============================] - 3s 9ms/step - loss: 0.2568 - accuracy: 0.8897 - val_loss: 0.3987 - val_accuracy: 0.8400\n",
            "Epoch 86/100\n",
            "313/313 [==============================] - 3s 8ms/step - loss: 0.2585 - accuracy: 0.8902 - val_loss: 0.4099 - val_accuracy: 0.8230\n",
            "Epoch 87/100\n",
            "313/313 [==============================] - 3s 9ms/step - loss: 0.2571 - accuracy: 0.8868 - val_loss: 0.3814 - val_accuracy: 0.8310\n",
            "Epoch 88/100\n",
            "313/313 [==============================] - 3s 9ms/step - loss: 0.2485 - accuracy: 0.8912 - val_loss: 0.4030 - val_accuracy: 0.8260\n",
            "Epoch 89/100\n",
            "313/313 [==============================] - 3s 8ms/step - loss: 0.2477 - accuracy: 0.8938 - val_loss: 0.4067 - val_accuracy: 0.8270\n",
            "Epoch 90/100\n",
            "313/313 [==============================] - 3s 8ms/step - loss: 0.2487 - accuracy: 0.8914 - val_loss: 0.4050 - val_accuracy: 0.8290\n",
            "Epoch 91/100\n",
            "313/313 [==============================] - 3s 8ms/step - loss: 0.2465 - accuracy: 0.8903 - val_loss: 0.3808 - val_accuracy: 0.8260\n",
            "Epoch 92/100\n",
            "313/313 [==============================] - 3s 8ms/step - loss: 0.2450 - accuracy: 0.8900 - val_loss: 0.4197 - val_accuracy: 0.8340\n",
            "Epoch 93/100\n",
            "313/313 [==============================] - 3s 9ms/step - loss: 0.2396 - accuracy: 0.8970 - val_loss: 0.4301 - val_accuracy: 0.8240\n",
            "Epoch 94/100\n",
            "313/313 [==============================] - 3s 8ms/step - loss: 0.2441 - accuracy: 0.8949 - val_loss: 0.4003 - val_accuracy: 0.8320\n",
            "Epoch 95/100\n",
            "313/313 [==============================] - 3s 8ms/step - loss: 0.2406 - accuracy: 0.8948 - val_loss: 0.3989 - val_accuracy: 0.8320\n",
            "Epoch 96/100\n",
            "313/313 [==============================] - 3s 8ms/step - loss: 0.2416 - accuracy: 0.8984 - val_loss: 0.4106 - val_accuracy: 0.8370\n",
            "Epoch 97/100\n",
            "313/313 [==============================] - 3s 8ms/step - loss: 0.2408 - accuracy: 0.8961 - val_loss: 0.4822 - val_accuracy: 0.8180\n",
            "Epoch 98/100\n",
            "313/313 [==============================] - 3s 8ms/step - loss: 0.2433 - accuracy: 0.8965 - val_loss: 0.4060 - val_accuracy: 0.8280\n",
            "Epoch 99/100\n",
            "313/313 [==============================] - 3s 9ms/step - loss: 0.2373 - accuracy: 0.8985 - val_loss: 0.4111 - val_accuracy: 0.8280\n",
            "Epoch 100/100\n",
            "313/313 [==============================] - 3s 8ms/step - loss: 0.2340 - accuracy: 0.8966 - val_loss: 0.4495 - val_accuracy: 0.8250\n"
          ]
        }
      ]
    },
    {
      "cell_type": "markdown",
      "source": [
        "# Salvar o modelo treinado"
      ],
      "metadata": {
        "id": "r1Wx0IwVkVHU"
      }
    },
    {
      "cell_type": "code",
      "source": [
        "if carregar_modelo_treinado == 'nao':\n",
        "  filename = '/content/drive/MyDrive/NLP_with_Python_Datasets/chatbot_100_epochs.h5'\n",
        "  model.save(filename)\n",
        "  pickle.dump(history, open('/content/drive/MyDrive/NLP_with_Python_Datasets/best_model_history.pickle', 'wb'))"
      ],
      "metadata": {
        "colab": {
          "base_uri": "https://localhost:8080/"
        },
        "id": "YVR5xRswhkIt",
        "outputId": "c9e31800-debe-4c11-d808-b2236c161072"
      },
      "execution_count": 139,
      "outputs": [
        {
          "output_type": "stream",
          "name": "stderr",
          "text": [
            "WARNING:absl:Found untraced functions such as lstm_cell_1_layer_call_fn, lstm_cell_1_layer_call_and_return_conditional_losses while saving (showing 2 of 2). These functions will not be directly callable after loading.\n",
            "WARNING:absl:<keras.layers.recurrent.LSTMCell object at 0x7f33a1446250> has the same name 'LSTMCell' as a built-in Keras object. Consider renaming <class 'keras.layers.recurrent.LSTMCell'> to avoid naming conflicts when loading with `tf.keras.models.load_model`. If renaming is not possible, pass the object in the `custom_objects` parameter of the load function.\n"
          ]
        }
      ]
    },
    {
      "cell_type": "markdown",
      "source": [
        "# Carregar um modelo já treinado previamente"
      ],
      "metadata": {
        "id": "JHmHqBgsmpEn"
      }
    },
    {
      "cell_type": "code",
      "source": [
        "if carregar_modelo_treinado == 'sim':\n",
        "  model.load_weights('/content/drive/MyDrive/NLP_with_Python_Datasets/chatbot_100_epochs.h5')\n",
        "  history = pickle.load(open('/content/drive/MyDrive/NLP_with_Python_Datasets/best_model_history.pickle', 'rb'))"
      ],
      "metadata": {
        "id": "gOj73vlhmopw"
      },
      "execution_count": 140,
      "outputs": []
    },
    {
      "cell_type": "markdown",
      "source": [
        "# Avaliar os resultados do modelo"
      ],
      "metadata": {
        "id": "NKEiGVsZkj2y"
      }
    },
    {
      "cell_type": "markdown",
      "source": [
        "## Plotar o hitórico de treinamento"
      ],
      "metadata": {
        "id": "vLF4NQ-Mk0kq"
      }
    },
    {
      "cell_type": "code",
      "source": [
        "print(history.history.keys())"
      ],
      "metadata": {
        "colab": {
          "base_uri": "https://localhost:8080/"
        },
        "id": "FHRIXZAUkec8",
        "outputId": "707ad584-c634-499c-ca1a-52ba2bfeb219"
      },
      "execution_count": 141,
      "outputs": [
        {
          "output_type": "stream",
          "name": "stdout",
          "text": [
            "dict_keys(['loss', 'accuracy', 'val_loss', 'val_accuracy'])\n"
          ]
        }
      ]
    },
    {
      "cell_type": "code",
      "source": [
        "plt.figure(figsize=(10,8))\n",
        "plt.plot(history.history['accuracy'])\n",
        "plt.plot(history.history['val_accuracy'])\n",
        "plt.title('Model accuracy', fontsize=16, fontweight='bold')\n",
        "plt.ylabel('accuracy', fontsize=14, fontweight='bold')\n",
        "plt.xlabel('epoch', fontsize=14, fontweight='bold')\n",
        "plt.legend(['train', 'test'], loc='upper left')\n",
        "plt.grid()"
      ],
      "metadata": {
        "colab": {
          "base_uri": "https://localhost:8080/",
          "height": 519
        },
        "id": "Md6ITgFEk9aZ",
        "outputId": "a6d07781-a3e4-4255-8f74-5819df5ed4b4"
      },
      "execution_count": 142,
      "outputs": [
        {
          "output_type": "display_data",
          "data": {
            "text/plain": [
              "<Figure size 720x576 with 1 Axes>"
            ],
            "image/png": "[encoded data removed]"
          },
          "metadata": {
            "needs_background": "light"
          }
        }
      ]
    },
    {
      "cell_type": "code",
      "source": [
        "plt.figure(figsize=(10,8))\n",
        "plt.plot(history.history['loss'])\n",
        "plt.plot(history.history['val_loss'])\n",
        "plt.title('Model loss', fontsize=16, fontweight='bold')\n",
        "plt.ylabel('loss', fontsize=14, fontweight='bold')\n",
        "plt.xlabel('epoch', fontsize=14, fontweight='bold')\n",
        "plt.legend(['train', 'test'], loc='upper left')\n",
        "plt.grid()"
      ],
      "metadata": {
        "colab": {
          "base_uri": "https://localhost:8080/",
          "height": 519
        },
        "id": "RB02V_Lulh_s",
        "outputId": "b5660333-a2ac-4b20-cda5-7638fb9a425b"
      },
      "execution_count": 143,
      "outputs": [
        {
          "output_type": "display_data",
          "data": {
            "text/plain": [
              "<Figure size 720x576 with 1 Axes>"
            ],
            "image/png": "[encoded data removed]"
          },
          "metadata": {
            "needs_background": "light"
          }
        }
      ]
    },
    {
      "cell_type": "code",
      "source": [
        "pred_results = model.predict(([inputs_test, queries_test]))"
      ],
      "metadata": {
        "id": "UYLrD-9Imi0E"
      },
      "execution_count": 144,
      "outputs": []
    },
    {
      "cell_type": "markdown",
      "source": [
        "**Visualizar os dados preditos**"
      ],
      "metadata": {
        "id": "Lm8gmfKtn59l"
      }
    },
    {
      "cell_type": "code",
      "source": [
        "pred_results.shape"
      ],
      "metadata": {
        "colab": {
          "base_uri": "https://localhost:8080/"
        },
        "id": "UWh7Q2jZndnz",
        "outputId": "8acf6fe3-d6b2-4d8a-8dff-b481fabd55be"
      },
      "execution_count": 145,
      "outputs": [
        {
          "output_type": "execute_result",
          "data": {
            "text/plain": [
              "(1000, 38)"
            ]
          },
          "metadata": {},
          "execution_count": 145
        }
      ]
    },
    {
      "cell_type": "code",
      "source": [
        "pred_results[0]"
      ],
      "metadata": {
        "colab": {
          "base_uri": "https://localhost:8080/"
        },
        "id": "MPmDUDlrnt2q",
        "outputId": "28c81bb2-5a7d-4b93-f7dc-5e9b3d32e76d"
      },
      "execution_count": 146,
      "outputs": [
        {
          "output_type": "execute_result",
          "data": {
            "text/plain": [
              "array([5.2955133e-17, 5.9334545e-17, 5.6039190e-17, 7.8028900e-17,\n",
              "       1.5890280e-06, 5.0881789e-17, 6.0842966e-17, 9.9999845e-01,\n",
              "       6.6366156e-17, 7.0346033e-17, 3.9600332e-17, 7.8427588e-17,\n",
              "       5.3635589e-17, 5.5259271e-17, 5.3203781e-17, 8.4364852e-17,\n",
              "       7.1155155e-17, 5.8995322e-17, 4.8329261e-17, 4.1821345e-17,\n",
              "       5.8117915e-17, 3.8523366e-17, 5.5580820e-17, 6.8082947e-17,\n",
              "       5.8133883e-17, 5.0116266e-17, 8.7205734e-17, 6.7713852e-17,\n",
              "       4.9313130e-17, 8.3398831e-17, 6.0976102e-17, 5.2447311e-17,\n",
              "       4.4941067e-17, 7.0730811e-17, 6.1248860e-17, 7.7224933e-17,\n",
              "       5.7855791e-17, 4.9280221e-17], dtype=float32)"
            ]
          },
          "metadata": {},
          "execution_count": 146
        }
      ]
    },
    {
      "cell_type": "code",
      "source": [
        "val_max = np.argmax(pred_results[0])"
      ],
      "metadata": {
        "id": "f1aPArChn44J"
      },
      "execution_count": 147,
      "outputs": []
    },
    {
      "cell_type": "code",
      "source": [
        "for key, val in tokenizer.word_index.items():\n",
        "  if val == val_max:\n",
        "    k = key"
      ],
      "metadata": {
        "id": "ltne372IoF5r"
      },
      "execution_count": 148,
      "outputs": []
    },
    {
      "cell_type": "code",
      "source": [
        "k"
      ],
      "metadata": {
        "colab": {
          "base_uri": "https://localhost:8080/",
          "height": 36
        },
        "id": "WHeXorHXocSw",
        "outputId": "0212108a-364f-4149-9411-d417e80f1e23"
      },
      "execution_count": 149,
      "outputs": [
        {
          "output_type": "execute_result",
          "data": {
            "text/plain": [
              "'no'"
            ],
            "application/vnd.google.colaboratory.intrinsic+json": {
              "type": "string"
            }
          },
          "metadata": {},
          "execution_count": 149
        }
      ]
    },
    {
      "cell_type": "markdown",
      "source": [
        "**Comparação com o primeiro registro de treino**"
      ],
      "metadata": {
        "id": "aV34NXCLoi3x"
      }
    },
    {
      "cell_type": "code",
      "source": [
        "test_data[0][0]"
      ],
      "metadata": {
        "colab": {
          "base_uri": "https://localhost:8080/"
        },
        "id": "EFirO5v5oczr",
        "outputId": "806dd6c2-e2bf-4a64-ed15-ce995a1b6806"
      },
      "execution_count": 150,
      "outputs": [
        {
          "output_type": "execute_result",
          "data": {
            "text/plain": [
              "['Mary',\n",
              " 'got',\n",
              " 'the',\n",
              " 'milk',\n",
              " 'there',\n",
              " '.',\n",
              " 'John',\n",
              " 'moved',\n",
              " 'to',\n",
              " 'the',\n",
              " 'bedroom',\n",
              " '.']"
            ]
          },
          "metadata": {},
          "execution_count": 150
        }
      ]
    },
    {
      "cell_type": "code",
      "source": [
        "test_data[0][1]"
      ],
      "metadata": {
        "colab": {
          "base_uri": "https://localhost:8080/"
        },
        "id": "cWQkHWruonO6",
        "outputId": "8f1af404-c1da-4e49-fae7-b6eb72bdab15"
      },
      "execution_count": 151,
      "outputs": [
        {
          "output_type": "execute_result",
          "data": {
            "text/plain": [
              "['Is', 'John', 'in', 'the', 'kitchen', '?']"
            ]
          },
          "metadata": {},
          "execution_count": 151
        }
      ]
    },
    {
      "cell_type": "code",
      "source": [
        "test_data[0][2]"
      ],
      "metadata": {
        "colab": {
          "base_uri": "https://localhost:8080/",
          "height": 36
        },
        "id": "DG3CRUztoqza",
        "outputId": "0425f982-023c-4e56-f019-ea691a9ae37e"
      },
      "execution_count": 152,
      "outputs": [
        {
          "output_type": "execute_result",
          "data": {
            "text/plain": [
              "'no'"
            ],
            "application/vnd.google.colaboratory.intrinsic+json": {
              "type": "string"
            }
          },
          "metadata": {},
          "execution_count": 152
        }
      ]
    },
    {
      "cell_type": "code",
      "source": [
        "pred_results[0][val_max]"
      ],
      "metadata": {
        "colab": {
          "base_uri": "https://localhost:8080/"
        },
        "id": "wYMGdH89or0y",
        "outputId": "24fa225c-26b3-48fd-f575-f847eb3db71a"
      },
      "execution_count": 153,
      "outputs": [
        {
          "output_type": "execute_result",
          "data": {
            "text/plain": [
              "0.99999845"
            ]
          },
          "metadata": {},
          "execution_count": 153
        }
      ]
    },
    {
      "cell_type": "markdown",
      "source": [
        "# Criar uma história própria e avaliar o modelo"
      ],
      "metadata": {
        "id": "_uKU8KPvpdQx"
      }
    },
    {
      "cell_type": "markdown",
      "source": [
        "**Vale ressaltar que o modelo foi treinado em um conjunto específico de vocabulário. As palavras a serem utilizadas na nova história precisam estar nesse vocabulário.**"
      ],
      "metadata": {
        "id": "D0YFXBSvphO2"
      }
    },
    {
      "cell_type": "code",
      "source": [
        "my_story = 'John left the kitchen . Sandra dropped the football in the garden . '"
      ],
      "metadata": {
        "id": "7DDk_MXCo0R7"
      },
      "execution_count": 154,
      "outputs": []
    },
    {
      "cell_type": "code",
      "source": [
        "my_story.split()"
      ],
      "metadata": {
        "colab": {
          "base_uri": "https://localhost:8080/"
        },
        "id": "dVFqwmdEqAy-",
        "outputId": "2eaeabb1-475a-4403-a077-9e5d8fa5a34d"
      },
      "execution_count": 155,
      "outputs": [
        {
          "output_type": "execute_result",
          "data": {
            "text/plain": [
              "['John',\n",
              " 'left',\n",
              " 'the',\n",
              " 'kitchen',\n",
              " '.',\n",
              " 'Sandra',\n",
              " 'dropped',\n",
              " 'the',\n",
              " 'football',\n",
              " 'in',\n",
              " 'the',\n",
              " 'garden',\n",
              " '.']"
            ]
          },
          "metadata": {},
          "execution_count": 155
        }
      ]
    },
    {
      "cell_type": "code",
      "source": [
        "my_question = 'Is the football in the garden ?'"
      ],
      "metadata": {
        "id": "1yKspgO0qChy"
      },
      "execution_count": 156,
      "outputs": []
    },
    {
      "cell_type": "code",
      "source": [
        "my_question.split()"
      ],
      "metadata": {
        "colab": {
          "base_uri": "https://localhost:8080/"
        },
        "id": "9EOphKxtqJZv",
        "outputId": "46a4e803-919a-41f5-e2e2-fa4df637f594"
      },
      "execution_count": 157,
      "outputs": [
        {
          "output_type": "execute_result",
          "data": {
            "text/plain": [
              "['Is', 'the', 'football', 'in', 'the', 'garden', '?']"
            ]
          },
          "metadata": {},
          "execution_count": 157
        }
      ]
    },
    {
      "cell_type": "code",
      "source": [
        "mydata = [(my_story.split(), my_question.split(), 'yes')]"
      ],
      "metadata": {
        "id": "84pGW90JqL3_"
      },
      "execution_count": 158,
      "outputs": []
    },
    {
      "cell_type": "markdown",
      "source": [
        "## Montar um dataset que contém o mesmo padrão de formato do dataset de treinamento"
      ],
      "metadata": {
        "id": "ViJOdx6Mqcxb"
      }
    },
    {
      "cell_type": "code",
      "source": [
        "mydata"
      ],
      "metadata": {
        "colab": {
          "base_uri": "https://localhost:8080/"
        },
        "id": "PNZXfC4HqZZS",
        "outputId": "aa0481fb-c348-4f15-c69e-ae190f41024d"
      },
      "execution_count": 159,
      "outputs": [
        {
          "output_type": "execute_result",
          "data": {
            "text/plain": [
              "[(['John',\n",
              "   'left',\n",
              "   'the',\n",
              "   'kitchen',\n",
              "   '.',\n",
              "   'Sandra',\n",
              "   'dropped',\n",
              "   'the',\n",
              "   'football',\n",
              "   'in',\n",
              "   'the',\n",
              "   'garden',\n",
              "   '.'],\n",
              "  ['Is', 'the', 'football', 'in', 'the', 'garden', '?'],\n",
              "  'yes')]"
            ]
          },
          "metadata": {},
          "execution_count": 159
        }
      ]
    },
    {
      "cell_type": "code",
      "source": [
        "my_story, my_ques, my_ans = vectorize_stories(mydata)"
      ],
      "metadata": {
        "id": "cWgTXybPqarh"
      },
      "execution_count": 160,
      "outputs": []
    },
    {
      "cell_type": "code",
      "source": [
        "my_story"
      ],
      "metadata": {
        "colab": {
          "base_uri": "https://localhost:8080/"
        },
        "id": "5npGs9KMqtAC",
        "outputId": "83556a20-036b-4507-9742-38b938965280"
      },
      "execution_count": 161,
      "outputs": [
        {
          "output_type": "execute_result",
          "data": {
            "text/plain": [
              "array([[ 0,  0,  0,  0,  0,  0,  0,  0,  0,  0,  0,  0,  0,  0,  0,  0,\n",
              "         0,  0,  0,  0,  0,  0,  0,  0,  0,  0,  0,  0,  0,  0,  0,  0,\n",
              "         0,  0,  0,  0,  0,  0,  0,  0,  0,  0,  0,  0,  0,  0,  0,  0,\n",
              "         0,  0,  0,  0,  0,  0,  0,  0,  0,  0,  0,  0,  0,  0,  0,  0,\n",
              "         0,  0,  0,  0,  0,  0,  0,  0,  0,  0,  0,  0,  0,  0,  0,  0,\n",
              "         0,  0,  0,  0,  0,  0,  0,  0,  0,  0,  0,  0,  0,  0,  0,  0,\n",
              "         0,  0,  0,  0,  0,  0,  0,  0,  0,  0,  0,  0,  0,  0,  0,  0,\n",
              "         0,  0,  0,  0,  0,  0,  0,  0,  0,  0,  0,  0,  0,  0,  0,  0,\n",
              "         0,  0,  0,  0,  0,  0,  0,  0,  0,  0,  0,  0,  0,  0,  0, 21,\n",
              "         8, 10, 28, 15, 30, 27, 10,  5, 25, 10,  1, 15]], dtype=int32)"
            ]
          },
          "metadata": {},
          "execution_count": 161
        }
      ]
    },
    {
      "cell_type": "code",
      "source": [
        "my_ques"
      ],
      "metadata": {
        "colab": {
          "base_uri": "https://localhost:8080/"
        },
        "id": "o50AJA07q2qY",
        "outputId": "a5d07ba5-ff6e-406d-dbd5-b69f3d32af5a"
      },
      "execution_count": 162,
      "outputs": [
        {
          "output_type": "execute_result",
          "data": {
            "text/plain": [
              "array([[10,  5, 25, 10,  1, 13]], dtype=int32)"
            ]
          },
          "metadata": {},
          "execution_count": 162
        }
      ]
    },
    {
      "cell_type": "code",
      "source": [
        "my_ans"
      ],
      "metadata": {
        "colab": {
          "base_uri": "https://localhost:8080/"
        },
        "id": "mxZdAdocq4PE",
        "outputId": "7977cc8e-e083-4c70-d394-a499280d6a11"
      },
      "execution_count": 163,
      "outputs": [
        {
          "output_type": "execute_result",
          "data": {
            "text/plain": [
              "array([[0., 0., 0., 0., 1., 0., 0., 0., 0., 0., 0., 0., 0., 0., 0., 0.,\n",
              "        0., 0., 0., 0., 0., 0., 0., 0., 0., 0., 0., 0., 0., 0., 0., 0.,\n",
              "        0., 0., 0., 0., 0., 0.]])"
            ]
          },
          "metadata": {},
          "execution_count": 163
        }
      ]
    },
    {
      "cell_type": "markdown",
      "source": [
        "# Predizer o resultado com base no novo texto elaborado"
      ],
      "metadata": {
        "id": "Q5PSyrUZreUY"
      }
    },
    {
      "cell_type": "code",
      "source": [
        "my_pred_results = model.predict(([my_story, my_ques]))"
      ],
      "metadata": {
        "id": "7wG3L2w5q6BM"
      },
      "execution_count": 164,
      "outputs": []
    },
    {
      "cell_type": "code",
      "source": [
        "my_val_max = np.argmax(my_pred_results[0])"
      ],
      "metadata": {
        "id": "y58nja6brZUM"
      },
      "execution_count": 165,
      "outputs": []
    },
    {
      "cell_type": "code",
      "source": [
        "for key, val in tokenizer.word_index.items():\n",
        "  if val == my_val_max:\n",
        "    k = key"
      ],
      "metadata": {
        "id": "jHcr-FBjrlcN"
      },
      "execution_count": 166,
      "outputs": []
    },
    {
      "cell_type": "code",
      "source": [
        "k"
      ],
      "metadata": {
        "colab": {
          "base_uri": "https://localhost:8080/",
          "height": 36
        },
        "id": "cb7g1YaerpjE",
        "outputId": "ffe583f3-7b65-4b0a-baa5-5d964904154a"
      },
      "execution_count": 167,
      "outputs": [
        {
          "output_type": "execute_result",
          "data": {
            "text/plain": [
              "'yes'"
            ],
            "application/vnd.google.colaboratory.intrinsic+json": {
              "type": "string"
            }
          },
          "metadata": {},
          "execution_count": 167
        }
      ]
    },
    {
      "cell_type": "code",
      "source": [
        "my_pred_results[0][my_val_max]"
      ],
      "metadata": {
        "colab": {
          "base_uri": "https://localhost:8080/"
        },
        "id": "qIS0piXZrqN5",
        "outputId": "d1423d15-f42b-4cae-ffb7-83510193b08e"
      },
      "execution_count": 168,
      "outputs": [
        {
          "output_type": "execute_result",
          "data": {
            "text/plain": [
              "0.9999666"
            ]
          },
          "metadata": {},
          "execution_count": 168
        }
      ]
    },
    {
      "cell_type": "code",
      "source": [],
      "metadata": {
        "id": "flSws-lwr7QT"
      },
      "execution_count": 168,
      "outputs": []
    }
  ]
}