{
  "nbformat": 4,
  "nbformat_minor": 0,
  "metadata": {
    "colab": {
      "name": "Named_Entity_Recognition.ipynb",
      "provenance": [],
      "collapsed_sections": [],
      "authorship_tag": "ABX9TyODC7FNrb6G3M4dXCKP4Uta",
      "include_colab_link": true
    },
    "kernelspec": {
      "name": "python3",
      "display_name": "Python 3"
    },
    "language_info": {
      "name": "python"
    }
  },
  "cells": [
    {
      "cell_type": "markdown",
      "metadata": {
        "id": "view-in-github",
        "colab_type": "text"
      },
      "source": [
        "<a href=\"https://colab.research.google.com/github/thiago2608santana/Natural_Language_Processing_with_Python/blob/main/Named_Entity_Recognition.ipynb\" target=\"_parent\"><img src=\"https://colab.research.google.com/assets/colab-badge.svg\" alt=\"Open In Colab\"/></a>"
      ]
    },
    {
      "cell_type": "code",
      "execution_count": 1,
      "metadata": {
        "id": "dPNCk1r7w7ku"
      },
      "outputs": [],
      "source": [
        "import spacy"
      ]
    },
    {
      "cell_type": "code",
      "source": [
        "nlp = spacy.load('en_core_web_sm')"
      ],
      "metadata": {
        "id": "YWNAoIzIw8x_"
      },
      "execution_count": 2,
      "outputs": []
    },
    {
      "cell_type": "code",
      "source": [
        "def show_ents(doc):\n",
        "  if doc.ents:\n",
        "    for ent in doc.ents:\n",
        "      print(ent.text + ' - ' + ent.label_ + ' - ' + str(spacy.explain(ent.label_)))\n",
        "  else:\n",
        "    print('No entities found')"
      ],
      "metadata": {
        "id": "gYjuEhGWw9Hj"
      },
      "execution_count": 3,
      "outputs": []
    },
    {
      "cell_type": "code",
      "source": [
        "doc = nlp('Hi, how are you?')"
      ],
      "metadata": {
        "id": "ZCmcfVgHxjUS"
      },
      "execution_count": 4,
      "outputs": []
    },
    {
      "cell_type": "code",
      "source": [
        "show_ents(doc)"
      ],
      "metadata": {
        "colab": {
          "base_uri": "https://localhost:8080/"
        },
        "id": "JRpXrZn4xod_",
        "outputId": "1a777f74-55e7-41ab-c931-322eca0523b0"
      },
      "execution_count": 5,
      "outputs": [
        {
          "output_type": "stream",
          "name": "stdout",
          "text": [
            "No entities found\n"
          ]
        }
      ]
    },
    {
      "cell_type": "code",
      "source": [
        "doc2 = nlp('May I go to Washington, DC next May to see the Washington Monument?')"
      ],
      "metadata": {
        "id": "sH9XaLdQxpx5"
      },
      "execution_count": 6,
      "outputs": []
    },
    {
      "cell_type": "code",
      "source": [
        "show_ents(doc2)"
      ],
      "metadata": {
        "colab": {
          "base_uri": "https://localhost:8080/"
        },
        "id": "qleK6Mwhx2cm",
        "outputId": "c0753e04-4207-4656-8dd3-ca2890b2c54c"
      },
      "execution_count": 7,
      "outputs": [
        {
          "output_type": "stream",
          "name": "stdout",
          "text": [
            "Washington, DC - GPE - Countries, cities, states\n",
            "next May - DATE - Absolute or relative dates or periods\n",
            "the Washington Monument - ORG - Companies, agencies, institutions, etc.\n"
          ]
        }
      ]
    },
    {
      "cell_type": "code",
      "source": [
        "doc3 = nlp('Can I please have 500 dollars of Microsoft stocks?')"
      ],
      "metadata": {
        "id": "2hgvqZMyx3k3"
      },
      "execution_count": 8,
      "outputs": []
    },
    {
      "cell_type": "code",
      "source": [
        "show_ents(doc3)"
      ],
      "metadata": {
        "colab": {
          "base_uri": "https://localhost:8080/"
        },
        "id": "48wcuexZ1kCz",
        "outputId": "a4bc2cb6-7b6e-4106-de57-7628487344f7"
      },
      "execution_count": 9,
      "outputs": [
        {
          "output_type": "stream",
          "name": "stdout",
          "text": [
            "500 dollars - MONEY - Monetary values, including unit\n",
            "Microsoft - ORG - Companies, agencies, institutions, etc.\n"
          ]
        }
      ]
    },
    {
      "cell_type": "code",
      "source": [
        "doc4 = nlp('Tesla to build a U.K. factory for 6$ million.')"
      ],
      "metadata": {
        "id": "vM-FFJin1mga"
      },
      "execution_count": 10,
      "outputs": []
    },
    {
      "cell_type": "code",
      "source": [
        "show_ents(doc4)"
      ],
      "metadata": {
        "colab": {
          "base_uri": "https://localhost:8080/"
        },
        "id": "5mM_X1v53Kow",
        "outputId": "89323921-53e6-442a-d94d-688dfed51f12"
      },
      "execution_count": 11,
      "outputs": [
        {
          "output_type": "stream",
          "name": "stdout",
          "text": [
            "U.K. - GPE - Countries, cities, states\n",
            "6$ million - MONEY - Monetary values, including unit\n"
          ]
        }
      ]
    },
    {
      "cell_type": "code",
      "source": [
        "from spacy.tokens import Span"
      ],
      "metadata": {
        "id": "kXLaT4ft3MVM"
      },
      "execution_count": 12,
      "outputs": []
    },
    {
      "cell_type": "code",
      "source": [
        "ORG = doc4.vocab.strings['ORG']"
      ],
      "metadata": {
        "id": "o2GJPQPi3izR"
      },
      "execution_count": 13,
      "outputs": []
    },
    {
      "cell_type": "code",
      "source": [
        "ORG"
      ],
      "metadata": {
        "colab": {
          "base_uri": "https://localhost:8080/"
        },
        "id": "L8izkLQq3mG5",
        "outputId": "0edb874b-9a9c-4622-8549-2c2a87c798f1"
      },
      "execution_count": 14,
      "outputs": [
        {
          "output_type": "execute_result",
          "data": {
            "text/plain": [
              "383"
            ]
          },
          "metadata": {},
          "execution_count": 14
        }
      ]
    },
    {
      "cell_type": "code",
      "source": [
        "new_ent = Span(doc4, 0, 1, label=ORG)"
      ],
      "metadata": {
        "id": "d-TJBnnN3mhR"
      },
      "execution_count": 15,
      "outputs": []
    },
    {
      "cell_type": "code",
      "source": [
        "doc4.ents = list(doc4.ents) + [new_ent]"
      ],
      "metadata": {
        "id": "8td5cFIF324s"
      },
      "execution_count": 16,
      "outputs": []
    },
    {
      "cell_type": "code",
      "source": [
        "show_ents(doc4)"
      ],
      "metadata": {
        "colab": {
          "base_uri": "https://localhost:8080/"
        },
        "id": "lZlryiek4FDs",
        "outputId": "20a00d7b-3eba-4a81-c0b7-32769216bd0b"
      },
      "execution_count": 17,
      "outputs": [
        {
          "output_type": "stream",
          "name": "stdout",
          "text": [
            "Tesla - ORG - Companies, agencies, institutions, etc.\n",
            "U.K. - GPE - Countries, cities, states\n",
            "6$ million - MONEY - Monetary values, including unit\n"
          ]
        }
      ]
    },
    {
      "cell_type": "markdown",
      "source": [
        "# Adicionar múltiplas ocorências de entidades"
      ],
      "metadata": {
        "id": "c4Bvfpuq4nlf"
      }
    },
    {
      "cell_type": "code",
      "source": [
        "doc5 = nlp('Our company created a brand new vacuum cleaner. This new vacuum-cleaner is the best in show.')"
      ],
      "metadata": {
        "id": "H2J1-A9Z4Hn6"
      },
      "execution_count": 18,
      "outputs": []
    },
    {
      "cell_type": "code",
      "source": [
        "show_ents(doc5)"
      ],
      "metadata": {
        "colab": {
          "base_uri": "https://localhost:8080/"
        },
        "id": "2RsgPrJU46u1",
        "outputId": "6f11269d-0d8a-4ca3-ef36-6600a31c2df9"
      },
      "execution_count": 19,
      "outputs": [
        {
          "output_type": "stream",
          "name": "stdout",
          "text": [
            "No entities found\n"
          ]
        }
      ]
    },
    {
      "cell_type": "code",
      "source": [
        "from spacy.matcher import PhraseMatcher"
      ],
      "metadata": {
        "id": "plEg1hkc5GAH"
      },
      "execution_count": 20,
      "outputs": []
    },
    {
      "cell_type": "code",
      "source": [
        "matcher = PhraseMatcher(nlp.vocab)"
      ],
      "metadata": {
        "id": "HQN2iuQM5LCe"
      },
      "execution_count": 21,
      "outputs": []
    },
    {
      "cell_type": "code",
      "source": [
        "phrase_list = ['vacuum cleaner', 'vacuum-cleaner']"
      ],
      "metadata": {
        "id": "--rGs7IT5O6k"
      },
      "execution_count": 22,
      "outputs": []
    },
    {
      "cell_type": "code",
      "source": [
        "phrase_patterns = [nlp(text) for text in phrase_list]"
      ],
      "metadata": {
        "id": "5Lb0-AH55WQZ"
      },
      "execution_count": 23,
      "outputs": []
    },
    {
      "cell_type": "code",
      "source": [
        "matcher.add('newproduct', phrase_patterns)"
      ],
      "metadata": {
        "id": "h-lFc2Xoxqf2"
      },
      "execution_count": 25,
      "outputs": []
    },
    {
      "cell_type": "code",
      "source": [
        "found_matches = matcher(doc5)"
      ],
      "metadata": {
        "id": "lxioiDZ1xsip"
      },
      "execution_count": 26,
      "outputs": []
    },
    {
      "cell_type": "code",
      "source": [
        "found_matches"
      ],
      "metadata": {
        "colab": {
          "base_uri": "https://localhost:8080/"
        },
        "id": "r9-8uOxux975",
        "outputId": "309d3254-3c07-44fa-e2e3-8c26b58ff41d"
      },
      "execution_count": 27,
      "outputs": [
        {
          "output_type": "execute_result",
          "data": {
            "text/plain": [
              "[(2689272359382549672, 6, 8), (2689272359382549672, 11, 14)]"
            ]
          },
          "metadata": {},
          "execution_count": 27
        }
      ]
    },
    {
      "cell_type": "code",
      "source": [
        "from spacy.tokens import Span"
      ],
      "metadata": {
        "id": "W3Htuv2Rx_7t"
      },
      "execution_count": 28,
      "outputs": []
    },
    {
      "cell_type": "code",
      "source": [
        "PROD = doc.vocab.strings['PRODUCT']"
      ],
      "metadata": {
        "id": "L3ldjvykyMob"
      },
      "execution_count": 30,
      "outputs": []
    },
    {
      "cell_type": "code",
      "source": [
        "new_ents = [Span(doc5, match[1], match[2], label=PROD) for match in found_matches]"
      ],
      "metadata": {
        "id": "Zh4TZWvtyVjc"
      },
      "execution_count": 31,
      "outputs": []
    },
    {
      "cell_type": "code",
      "source": [
        "doc5.ents = list(doc5.ents) + new_ents"
      ],
      "metadata": {
        "id": "nwcdoBpgyvvx"
      },
      "execution_count": 35,
      "outputs": []
    },
    {
      "cell_type": "code",
      "source": [
        "show_ents(doc5)"
      ],
      "metadata": {
        "colab": {
          "base_uri": "https://localhost:8080/"
        },
        "id": "G47JTKECy2MU",
        "outputId": "a96380da-4447-499c-dd10-81c02de389fc"
      },
      "execution_count": 36,
      "outputs": [
        {
          "output_type": "stream",
          "name": "stdout",
          "text": [
            "vacuum cleaner - PRODUCT - Objects, vehicles, foods, etc. (not services)\n",
            "vacuum-cleaner - PRODUCT - Objects, vehicles, foods, etc. (not services)\n"
          ]
        }
      ]
    },
    {
      "cell_type": "code",
      "source": [
        "doc6 = nlp('Originally I paid $29.95 for this car toy, but now it is marked down by 10 dollars.')"
      ],
      "metadata": {
        "id": "PyGTFRKazB_O"
      },
      "execution_count": 37,
      "outputs": []
    },
    {
      "cell_type": "code",
      "source": [
        "#[ent for ent in doc6.ents if ent.label_ == 'MONEY']\n",
        "len([ent for ent in doc6.ents if ent.label_ == 'MONEY'])"
      ],
      "metadata": {
        "colab": {
          "base_uri": "https://localhost:8080/"
        },
        "id": "pb_pgFrzziUz",
        "outputId": "2807a1d9-b660-4611-a83d-deeed7a05361"
      },
      "execution_count": 41,
      "outputs": [
        {
          "output_type": "execute_result",
          "data": {
            "text/plain": [
              "2"
            ]
          },
          "metadata": {},
          "execution_count": 41
        }
      ]
    },
    {
      "cell_type": "code",
      "source": [
        ""
      ],
      "metadata": {
        "id": "BEaxvfC9zxF0"
      },
      "execution_count": null,
      "outputs": []
    }
  ]
}